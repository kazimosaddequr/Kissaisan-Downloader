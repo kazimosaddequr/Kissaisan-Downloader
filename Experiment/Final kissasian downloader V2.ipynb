{
 "cells": [
  {
   "cell_type": "markdown",
   "id": "46add65f",
   "metadata": {},
   "source": [
    "# Kissasian Downloader"
   ]
  },
  {
   "cell_type": "markdown",
   "id": "bea94873",
   "metadata": {},
   "source": [
    "## Link of the series (homepage: https://kissasian.lu): "
   ]
  },
  {
   "cell_type": "code",
   "execution_count": 3,
   "id": "a43f92f6",
   "metadata": {},
   "outputs": [],
   "source": [
    "urlSeries = 'https://kissasian.lu/Drama/Heaven'"
   ]
  },
  {
   "cell_type": "code",
   "execution_count": 4,
   "id": "27beb66a",
   "metadata": {},
   "outputs": [],
   "source": [
    "import requests\n",
    "from bs4 import BeautifulSoup\n",
    "import re\n",
    "import time\n",
    "from IPython.display import clear_output\n",
    "import threading\n",
    "import os\n",
    "import pandas as pd\n",
    "from openpyxl import load_workbook\n",
    "from selenium import webdriver\n",
    "from selenium.webdriver.common.by import By\n",
    "import pandas as pd\n",
    "import numpy as np\n",
    "from openpyxl import load_workbook"
   ]
  },
  {
   "cell_type": "markdown",
   "id": "99f6d3ea",
   "metadata": {},
   "source": [
    "## Please enter information below:"
   ]
  },
  {
   "cell_type": "code",
   "execution_count": 5,
   "id": "42838425",
   "metadata": {},
   "outputs": [],
   "source": [
    "seriesName = urlSeries.replace('https://kissasian.lu/Drama/','')\n",
    "seriesName = seriesName.replace('-',' ')\n",
    "downloadDIR = os.getcwd()+'\\\\out\\\\video'\n",
    "pathToMine = os.getcwd()+'\\\\out\\\\Mine.xlsx'"
   ]
  },
  {
   "cell_type": "code",
   "execution_count": 6,
   "id": "9f8abb49",
   "metadata": {},
   "outputs": [],
   "source": [
    "# Temporary List Variables\n",
    "episodeMark = []\n",
    "linkTitles = []\n",
    "mp4UploadLink = []\n",
    "mp4UploadLinkForDownload = []\n",
    "replace = []\n",
    "# Trick\n",
    "headers = {'User-Agent':'Mozilla/5.0 (Windows NT 10.0; Win64; x64) AppleWebKit/537.36 (KHTML, like Gecko) Chrome/119.0.0.0 Safari/537.36'}"
   ]
  },
  {
   "cell_type": "markdown",
   "id": "3cfe3b63",
   "metadata": {},
   "source": [
    "#### Downloader magic function"
   ]
  },
  {
   "cell_type": "code",
   "execution_count": 5,
   "id": "1bcb801f",
   "metadata": {},
   "outputs": [],
   "source": [
    "from tqdm.notebook import tqdm\n",
    "import requests\n",
    "def download_file_mp4uploadAdd9xm(url,n):\n",
    "    flag = True\n",
    "    if len(str(n))==1:\n",
    "        temp_str = seriesName+' ep 00'+str(n)+'.mp4'        \n",
    "    elif len(str(n))==2:\n",
    "        temp_str = seriesName+' ep 0'+str(n)+'.mp4'\n",
    "    else:\n",
    "        temp_str = seriesName+' ep '+str(n)+'.mp4'\n",
    "        \n",
    "#     Find Link:\n",
    "    # prefs = {\"download.default_directory\" : downloadDIR}\n",
    "    options = webdriver.ChromeOptions()\n",
    "    options.add_argument('--incognito')\n",
    "    # options.add_experimental_option(\"prefs\",prefs)\n",
    "    driver = webdriver.Chrome(options=options)  \n",
    "    urlHead9xB = 'http://9xbud.com/'\n",
    "    \n",
    "    temp_link = urlHead9xB+url[12:]\n",
    "    driver.get(temp_link)\n",
    "    time.sleep(10)\n",
    "    temp_s = BeautifulSoup(driver.page_source,'lxml')\n",
    "    temp_x_find_a = temp_s.find_all('a', attrs={'class':'max-w-sm mx-auto group block sm:inline-block border border-blue-500 px-6 w-full lg:w-auto lg:px-6 py-2 leading-4 text-blue-500 no-underline hover:border-blue-300 shadow'})\n",
    "    url = temp_x_find_a[1].get('href')    \n",
    "    \n",
    "    driver.close()\n",
    "    \n",
    "    \n",
    "    # url = \"http://www.ovh.net/files/10Mb.dat\" #big file test\n",
    "#     url = link\n",
    "    headers = {'User-Agent':'Mozilla/5.0 (Windows NT 10.0; Win64; x64) AppleWebKit/537.36 (KHTML, like Gecko) Chrome/119.0.0.0 Safari/537.36'}\n",
    "    \n",
    "    # Streaming, so we can iterate over the response.\n",
    "    response = requests.get(url,headers = headers, stream=True)\n",
    "    total_size_in_bytes= int(response.headers.get('content-length', 0))\n",
    "    block_size = 1024 #1 Kibibyte\n",
    "    \n",
    "    if(os.path.exists(str_path + '\\\\' + temp_str)):\n",
    "        local_size = os.path.getsize(str_path+'\\\\'+temp_str)\n",
    "        if(local_size == total_size_in_bytes):\n",
    "            print(temp_str+\" already downloaded\")\n",
    "            flag = False\n",
    "    if flag:\n",
    "        progress_bar = tqdm( desc=temp_str,total=total_size_in_bytes, unit='iB', unit_scale=True)\n",
    "        with open(temp_str, 'wb') as file:\n",
    "            for data in response.iter_content(block_size):\n",
    "    #             print(response.status_code)\n",
    "                progress_bar.update(len(data))\n",
    "                file.write(data)\n",
    "                global stop_threads\n",
    "                if stop_threads:\n",
    "                    break\n",
    "        progress_bar.close()\n",
    "        if total_size_in_bytes != 0 and progress_bar.n != total_size_in_bytes:\n",
    "            print(\"ERROR, something went wrong\")\n",
    "            if (os.path.exists(str_path + '\\\\' + temp_str)):\n",
    "                os.remove(str_path + '\\\\' + temp_str)\n",
    "        if(response.status_code == 403):\n",
    "            if (os.path.exists(str_path + '\\\\' + temp_str)):\n",
    "                os.remove(str_path + '\\\\' + temp_str)\n",
    "        global stop_threads_1\n",
    "#         stop_threads_1 = True\n",
    "#         break\n",
    "#     break"
   ]
  },
  {
   "cell_type": "code",
   "execution_count": 6,
   "id": "fc932398",
   "metadata": {},
   "outputs": [],
   "source": [
    "str_path = downloadDIR + '\\\\'+seriesName\n",
    "isFirstRun = os.path.isdir(downloadDIR)\n",
    "isPathExist = os.path.isdir(str_path)\n",
    "check_file = False\n",
    "resumeDownloadThread = False"
   ]
  },
  {
   "cell_type": "code",
   "execution_count": 7,
   "id": "997586af",
   "metadata": {},
   "outputs": [],
   "source": [
    "if (not(isFirstRun)):\n",
    "    os.makedirs(downloadDIR)"
   ]
  },
  {
   "cell_type": "code",
   "execution_count": 8,
   "id": "534ab929",
   "metadata": {},
   "outputs": [],
   "source": [
    "if (isPathExist):\n",
    "    check_file = True\n",
    "else:\n",
    "    os.mkdir(str_path)"
   ]
  },
  {
   "cell_type": "code",
   "execution_count": 9,
   "id": "1cccb718",
   "metadata": {},
   "outputs": [],
   "source": [
    "# prefs = {\"download.default_directory\" : downloadDIR}\n",
    "options = webdriver.ChromeOptions()\n",
    "options.add_argument('--incognito')\n",
    "# options.add_experimental_option(\"prefs\",prefs)\n",
    "driver = webdriver.Chrome(options=options)  \n",
    "urlHead9xB = 'http://9xbud.com/'"
   ]
  },
  {
   "cell_type": "code",
   "execution_count": 10,
   "id": "f06ac4f9",
   "metadata": {},
   "outputs": [
    {
     "data": {
      "text/plain": [
       "True"
      ]
     },
     "execution_count": 10,
     "metadata": {},
     "output_type": "execute_result"
    }
   ],
   "source": [
    "wb = load_workbook(pathToMine, read_only=True)   # open an Excel file and return a workbook\n",
    "    \n",
    "if seriesName in wb.sheetnames:\n",
    "    resumeDownloadThread = True    \n",
    "#     print('sheet1 exists')\n",
    "check_file"
   ]
  },
  {
   "cell_type": "code",
   "execution_count": 11,
   "id": "e359451a",
   "metadata": {},
   "outputs": [],
   "source": [
    "if (check_file)and(resumeDownloadThread):\n",
    "    resumeDownloadThread = True\n",
    "    df = pd.read_excel(pathToMine,sheet_name=seriesName)\n",
    "    for i in range(df.shape[0]):\n",
    "        episodeMark.append(df['episode name'][i])\n",
    "        linkTitles.append(df['Kissasian Link'][i])\n",
    "        mp4UploadLink.append(df['mp4Upload Link'][i])"
   ]
  },
  {
   "cell_type": "code",
   "execution_count": 12,
   "id": "ee3186da",
   "metadata": {},
   "outputs": [],
   "source": [
    "driver.close()"
   ]
  },
  {
   "cell_type": "code",
   "execution_count": 13,
   "id": "da415f8c",
   "metadata": {},
   "outputs": [],
   "source": [
    "if(not(resumeDownloadThread)):\n",
    "#   Get the episode links:  \n",
    "    page = requests.get(urlSeries)\n",
    "    s = BeautifulSoup(page.text,'lxml')\n",
    "    titles = s.find_all('li', attrs={'class':'episodeSub'})\n",
    "    linkTitles = [title.a.get('href') for title in titles]\n",
    "    linkTitles.reverse()\n",
    "          "
   ]
  },
  {
   "cell_type": "code",
   "execution_count": 14,
   "id": "b1b2f9af",
   "metadata": {},
   "outputs": [],
   "source": [
    "if(not(resumeDownloadThread)):\n",
    "    n = 1\n",
    "    episodeMark = [];\n",
    "    for i in linkTitles:\n",
    "        if len(str(n))==1:\n",
    "            temp_str = seriesName+' ep 00'+str(n)+'.mp4'        \n",
    "        elif len(str(n))==2:\n",
    "            temp_str = seriesName+' ep 0'+str(n)+'.mp4'\n",
    "        else:\n",
    "            temp_str = seriesName+' ep '+str(n)+'.mp4'\n",
    "        episodeMark.append(temp_str)\n",
    "        n = n + 1"
   ]
  },
  {
   "cell_type": "code",
   "execution_count": 15,
   "id": "f3e477a6",
   "metadata": {},
   "outputs": [],
   "source": [
    "if(not(resumeDownloadThread)):\n",
    "    # prefs = {\"download.default_directory\" : downloadDIR}\n",
    "    options = webdriver.ChromeOptions()\n",
    "    options.add_argument('--incognito')\n",
    "    # options.add_experimental_option(\"prefs\",prefs)\n",
    "    driver = webdriver.Chrome(options=options)    "
   ]
  },
  {
   "cell_type": "code",
   "execution_count": null,
   "id": "cd3228c4",
   "metadata": {},
   "outputs": [],
   "source": []
  },
  {
   "cell_type": "code",
   "execution_count": 16,
   "id": "f4d6c2f1",
   "metadata": {},
   "outputs": [],
   "source": [
    "urlDomain = 'https://kissasian.lu'\n",
    "urlMobile = '/Mobile/SwitchToMobile' \n",
    "urlHead9xB = 'http://9xbud.com/'"
   ]
  },
  {
   "cell_type": "code",
   "execution_count": 17,
   "id": "effba1bf",
   "metadata": {},
   "outputs": [],
   "source": [
    "if(not(resumeDownloadThread)):\n",
    "    driver.get(urlDomain+urlMobile)\n",
    "    \n",
    "    for link in linkTitles:\n",
    "        driver.get(urlDomain+link+'&s=mp')\n",
    "        temp_x = driver.page_source\n",
    "        temp_s = BeautifulSoup(temp_x,'lxml')\n",
    "        temp_x_find_a = temp_s.find_all('a')\n",
    "        mp4UploadLink.append(temp_x_find_a[12].get('href'))\n",
    "    "
   ]
  },
  {
   "cell_type": "code",
   "execution_count": 18,
   "id": "2674ff37",
   "metadata": {},
   "outputs": [],
   "source": [
    "if(not(resumeDownloadThread)):\n",
    "    driver.close()\n",
    "    data = {\n",
    "        'episode name' : episodeMark,\n",
    "        'Kissasian Link' : linkTitles,\n",
    "        'mp4Upload Link' : mp4UploadLink,\n",
    "#         '9xbud Link' : mp4UploadLinkForDownload\n",
    "    }\n",
    "    df = pd.DataFrame(data)"
   ]
  },
  {
   "cell_type": "code",
   "execution_count": 19,
   "id": "c13b8cd7",
   "metadata": {},
   "outputs": [],
   "source": [
    "if(not(resumeDownloadThread)):\n",
    "    if(not(os.path.exists(pathToMine))):\n",
    "#         book = load_workbook(pathToMine)\n",
    "#         writer = pd.ExcelWriter(pathToMine, engine = 'openpyxl')\n",
    "#         writer.book = book\n",
    "        writer = pd.ExcelWriter(pathToMine, engine = 'xlsxwriter')\n",
    "        df.to_excel(writer, sheet_name = seriesName)\n",
    "        writer.close()        \n",
    "#         print('if')\n",
    "    else:\n",
    "#         print('else')\n",
    "        with pd.ExcelWriter(pathToMine, engine='openpyxl', mode='a',if_sheet_exists='replace') as writer:  \n",
    "            df.to_excel(writer, sheet_name=seriesName)"
   ]
  },
  {
   "cell_type": "code",
   "execution_count": 20,
   "id": "9d5e0958",
   "metadata": {},
   "outputs": [
    {
     "name": "stdout",
     "output_type": "stream",
     "text": [
      "Heaven ep 001.mp4 already downloaded\n",
      "Heaven ep 003.mp4 already downloaded\n",
      "Heaven ep 002.mp4 already downloaded\n",
      "Heaven ep 006.mp4 already downloaded\n",
      "Heaven ep 005.mp4 already downloaded\n",
      "Heaven ep 004.mp4 already downloaded\n",
      "Heaven ep 007.mp4 already downloaded\n",
      "Heaven ep 009.mp4 already downloaded\n",
      "Heaven ep 008.mp4 already downloaded\n"
     ]
    }
   ],
   "source": [
    "sleep_count = 10\n",
    "n = 1\n",
    "m = 0\n",
    "z = 0\n",
    "os.chdir(str_path)\n",
    "flagFinish = False\n",
    "episode_number = len(mp4UploadLink)\n",
    "thread_one = threading.Thread()\n",
    "thread_two = threading.Thread()\n",
    "thread_three = threading.Thread()\n",
    "# thread_four = threading.Thread()\n",
    "# thread_five = threading.Thread()\n",
    "# print(episode_fold_number)\n",
    "# print(episode_fold_number)\n",
    "\n",
    "while not(flagFinish):\n",
    "    if(not(thread_one.is_alive())):\n",
    "        thread_one = threading.Thread(target=download_file_mp4uploadAdd9xm,args=(mp4UploadLink[m],n))\n",
    "        thread_one.start()\n",
    "        m = m + 1\n",
    "        n = n + 1\n",
    "        if m == episode_number:\n",
    "            flagFinish = True\n",
    "    elif(not(thread_two.is_alive())):\n",
    "        thread_two = threading.Thread(target=download_file_mp4uploadAdd9xm,args=(mp4UploadLink[m],n))\n",
    "        thread_two.start()\n",
    "        m = m + 1\n",
    "        n = n + 1\n",
    "        if m == episode_number:\n",
    "            flagFinish = True\n",
    "    elif(not(thread_three.is_alive())):\n",
    "        thread_three = threading.Thread(target=download_file_mp4uploadAdd9xm,args=(mp4UploadLink[m],n))\n",
    "        thread_three.start()\n",
    "        m = m + 1\n",
    "        n = n + 1\n",
    "        if m == episode_number:\n",
    "            flagFinish = True\n",
    "#     elif(not(thread_four.is_alive())):\n",
    "#         thread_four = threading.Thread(target=download_file_mp4upload,args=(mp4UploadLinkForDownload[m],n))\n",
    "#         thread_four.start()\n",
    "#         m = m + 1\n",
    "#         n = n + 1\n",
    "#         if m == episode_number:\n",
    "#             flagFinish = True\n",
    "#     elif(not(thread_five.is_alive())):\n",
    "#         thread_five = threading.Thread(target=download_file_mp4upload,args=(mp4UploadLinkForDownload[m],n))\n",
    "#         thread_five.start()\n",
    "#         m = m + 1\n",
    "#         n = n + 1\n",
    "#         if m == episode_number:\n",
    "#             flagFinish = True\n",
    "    else:\n",
    "        time.sleep(sleep_count)\n",
    "time.sleep(sleep_count)\n",
    "\n",
    "# print('complete execution')\n",
    "    \n",
    "    \n",
    "# for i in range(episode_remaining_number):\n",
    "#     print(str(n+i))\n",
    "# #     print('hello')\n"
   ]
  },
  {
   "cell_type": "code",
   "execution_count": 21,
   "id": "256b0b77",
   "metadata": {},
   "outputs": [
    {
     "name": "stdout",
     "output_type": "stream",
     "text": [
      "Heaven ep 010.mp4 already downloaded\n"
     ]
    }
   ],
   "source": [
    "os.chdir('..')"
   ]
  },
  {
   "cell_type": "code",
   "execution_count": null,
   "id": "4258ba52",
   "metadata": {},
   "outputs": [],
   "source": []
  },
  {
   "cell_type": "code",
   "execution_count": 2,
   "id": "a65b2fde",
   "metadata": {},
   "outputs": [],
   "source": [
    "# pip install m3u8"
   ]
  },
  {
   "cell_type": "code",
   "execution_count": 15,
   "id": "0d38975c",
   "metadata": {},
   "outputs": [],
   "source": [
    "URL = 'https://vidmoly.to/embed-1oc3x1lshp73.html'\n",
    "# URL = 'https://str-2-e-4-9p-our.vmrest.space/hls/,xqx2jbzfnfokjiqbtgwcj6a3wl53ga4qbanyk3ijpm6ustp3zqdyatefctmq,.urlset/master.m3u8'\n",
    "\n",
    "session = requests.Session()\n",
    "\n",
    "response = session.get(URL).text\n"
   ]
  },
  {
   "cell_type": "code",
   "execution_count": 16,
   "id": "2fed5739",
   "metadata": {},
   "outputs": [
    {
     "data": {
      "text/plain": [
       "'<HTML>\\n<HEAD>\\n<META NAME=\"description\" CONTENT=\"VidMoly - Fast And Secure Video Storage Center\">\\n    <meta property=\"og:type\" content=\"article\" />\\n    <meta property=\"og:image\" content=\"/img/logo-tb.png?v\"/>\\n    <link rel=\"image_src\" type=\"image/jpeg\" href=\"/img/logo-tb.png?v\" />\\n    <meta property=\"og:image\" content=\"/img/logo-tb.png?v\"/>\\n    <link rel=\"image_src\" type=\"image/jpeg\" href=\"/img/logo-tb.png?v\" />\\n    <meta name=\"twitter:card\" content=\"summary\" />\\n    <meta name=\"twitter:image\" content=\"/img/logo-tb.png?v\" />\\n    <link rel=\"shortcut icon\" href=\"/img/faviconm.ico\" />\\n    <link rel=\"stylesheet\" type=\"text/css\" href=\"https://cdn.staticmoly.me/static/main1cdn.css\">\\n    <link rel=\"stylesheet\" type=\"text/css\" href=\"https://cdn.staticmoly.me/static/embed8cdn.css\">\\n<META NAME=\"ROBOTS\" CONTENT=\"NOINDEX, NOFOLLOW\">\\n<script language=\"JavaScript\" type=\"text/javascript\" CHARSET=\"UTF-8\" src=\"https://cdn.staticmoly.me/static/jquery.min.js\"></script>\\n<script language=\"JavaScript\" type=\"text/javascript\" src=\"https://cdn.staticmoly.me/static/xupload.js\"></script>\\n<script language=\"JavaScript\" type=\"text/javascript\" CHARSET=\"UTF-8\" src=\"https://cdn.staticmoly.me/static/jquery.cookie.js\"></script>\\n<script type=\\'text/javascript\\' src=\\'https://cdn.staticmoly.me/player_clappr/frd0ad.js\\'></script>\\n<script src=\"https://cdnjs.cloudflare.com/ajax/libs/socket.io/4.4.0/socket.io.min.js\"></script>\\n<link rel=\"stylesheet\" type=\"text/css\" href=\"/reik/css-4705487.css\"></link>\\n<script>\\n$.cookie(\\'file_id\\', \\'3432852\\', { expires: 10 });\\n$.cookie(\\'aff\\', \\'470548\\', { expires: 10 });\\n\\n</script>\\n<style>\\n    body {\\n      background: black;\\n      height: 100%;\\n    }\\n    #vplayer {\\n      height: auto !important;\\n      width: 100% !important;\\n      top: 0;\\n      left: 0;\\n      right: 0;\\n      bottom: 0;\\n      margin: auto !important;\\n      position: fixed !important;\\n    }\\n  </style>\\n \\n\\n  \\n</HEAD>\\n<style>.a339044 {display:none;z-index: 999;position: fixed;top:0;left:0;width:100%;height:100%;font:15px Verdana;text-align:center;color:#FFF;background: #000;background-color: rgba(0,0,0,.85);}\\n.b339044 {position:absolute;top:47%;left:50%;margin-left:-200px;width:400px;padding: 30px;background-color: rgba(0,0,0,.3);border-radius: 15px;}\\n</style>\\n<div id=\"adsblock\" class=\"a339144\" oncontextmenu=\"return false;\"><div class=\"b339144\">Disable ADBlock to watch the video!</div></div>\\n\\n      <script>\\nfunction mg_vd(){$.ajax({url: \"https://cdn.staticmoly.me/deskademeta.php?cv=1oc3x1lshp73&d=470548&e=0&op=0&cat=1\",cache: true,success: function(data){$(\"#mg_vd\").html(data);} });}$(document).ready(function(){mg_vd();}); setInterval(mg_vd,400000);</script>\\n          <script>\\nfunction mg_vd2(){$.ajax({url: \"https://cdn.staticmoly.me/weston.php?cv=1oc3x1lshp73&d=470548&e=0&op=0&cat=1\",cache: true,success: function(data){$(\"#mg_vd2\").html(data);} });}$(document).ready(function(){mg_vd2();}); setInterval(mg_vd,40000000);</script>\\n<div id=\"dos_vlock\"></div>\\n \\n      \\n<script>(function(a,b,c){Object.defineProperty(a,b,{value: c});})(window,\\'vsd0\\',function(){\\n  var _0x5aa6=[\\'span\\',\\'setAttribute\\',\\'background-color: black; height: 100%; left: 0; opacity: .9; top: 0; position: fixed; width: 100%; z-index: 2147483650;\\',\\'height: inherit; position: relative;\\',\\'color: white; font-size: 35px;font-family: Myriad Pro, Trebuchet MS, Helvetica, sans-serif; font-weight: bold; left: 0;cursor: pointer; line-height: 1.5; margin-left: 25px; margin-right: 25px; text-align: center; top: 150px; position: absolute; right: 0;\\',\\'ADBLOCK DETECTED<br/>Please disable ADBLOCK so that we can serve you better.\\',\\'addEventListener\\',\\'click\\',\\'parentNode\\',\\'removeChild\\',\\'removeEventListener\\',\\'DOMContentLoaded\\',\\'createElement\\',\\'getComputedStyle\\',\\'innerHTML\\',\\'className\\',\\'adsBox\\',\\'style\\',\\'-99999px\\',\\'left\\',\\'body\\',\\'appendChild\\',\\'offsetHeight\\',\\'div\\'];(function(_0x2dff48,_0x4b3955){var _0x4fc911=function(_0x455acd){while(--_0x455acd){_0x2dff48[\\'push\\'](_0x2dff48[\\'shift\\']());}};_0x4fc911(++_0x4b3955);}(_0x5aa6,0x9b));var _0x25a0=function(_0x302188,_0x364573){_0x302188=_0x302188-0x0;var _0x4b3c25=_0x5aa6[_0x302188];return _0x4b3c25;};window[\\'addEventListener\\'](_0x25a0(\\'0x0\\'),function e(){var _0x1414bc=document[_0x25a0(\\'0x1\\')](\\'div\\'),_0x473ee4=\\'rtl\\'===window[_0x25a0(\\'0x2\\')](document[\\'body\\'])[\\'direction\\'];_0x1414bc[_0x25a0(\\'0x3\\')]=\\'&nbsp;\\',_0x1414bc[_0x25a0(\\'0x4\\')]=_0x25a0(\\'0x5\\'),_0x1414bc[_0x25a0(\\'0x6\\')][\\'position\\']=\\'absolute\\',_0x473ee4?_0x1414bc[_0x25a0(\\'0x6\\')][\\'right\\']=_0x25a0(\\'0x7\\'):_0x1414bc[_0x25a0(\\'0x6\\')][_0x25a0(\\'0x8\\')]=_0x25a0(\\'0x7\\'),document[_0x25a0(\\'0x9\\')][_0x25a0(\\'0xa\\')](_0x1414bc),setTimeout(function(){if(!_0x1414bc[_0x25a0(\\'0xb\\')]){var _0x473ee4=document[_0x25a0(\\'0x1\\')](_0x25a0(\\'0xc\\')),_0x3c0b3b=document[_0x25a0(\\'0x1\\')](_0x25a0(\\'0xc\\')),_0x1f5f8c=document[_0x25a0(\\'0x1\\')](_0x25a0(\\'0xd\\')),_0x5a9ba0=document[\\'createElement\\'](\\'p\\');_0x473ee4[_0x25a0(\\'0xe\\')](\\'style\\',_0x25a0(\\'0xf\\')),_0x3c0b3b[\\'setAttribute\\'](\\'style\\',_0x25a0(\\'0x10\\')),_0x1f5f8c[_0x25a0(\\'0xe\\')](_0x25a0(\\'0x6\\'),\\'\\'),_0x5a9ba0[_0x25a0(\\'0xe\\')](_0x25a0(\\'0x6\\'),_0x25a0(\\'0x11\\')),_0x5a9ba0[_0x25a0(\\'0x3\\')]=_0x25a0(\\'0x12\\'),_0x1f5f8c[_0x25a0(\\'0x3\\')]=\\'\\',_0x3c0b3b[\\'appendChild\\'](_0x5a9ba0),_0x3c0b3b[_0x25a0(\\'0xa\\')](_0x1f5f8c),_0x1f5f8c[_0x25a0(\\'0x13\\')](_0x25a0(\\'0x14\\'),function _0x3c0b3b(){_0x473ee4[_0x25a0(\\'0x15\\')][_0x25a0(\\'0x16\\')](_0x473ee4),_0x1f5f8c[\\'removeEventListener\\'](\\'click\\',_0x3c0b3b);}),_0x473ee4[_0x25a0(\\'0xa\\')](_0x3c0b3b),document[_0x25a0(\\'0x9\\')][_0x25a0(\\'0xa\\')](_0x473ee4);}},0xc8),window[_0x25a0(\\'0x17\\')](\\'DOMContentLoaded\\',e);});});</script><script type=\\'text/javascript\\' onerror=\\'vsd1()\\' src=\\'https://cdn.staticmoly.me/ads/be/99/ads.js\\'></script>\\n  \\n        \\n          \\n\\n      <script>\\nfunction dos_vlock(){$.ajax({url: \"https://cdn.staticmoly.me/vlock.php?d=470548&r=&file_code=1oc3x1lshp73\",cache: true,success: function(data){$(\"#dos_vlock\").html(data);} });}$(document).ready(function(){dos_vlock();}); setInterval(dos_vlock,2600000);</script>\\n      \\n       <div id=\"mg_vd\"></div>\\n       <div id=\"mg_vd2\"></div>\\n\\n        \\n\\n<div id=\"vs_ts\">\\n</div>\\n\\n\\n\\n<BODY topmargin=0 leftmargin=0 style=\"background:transparent;\">\\n\\n <script type=\"text/javascript\">document.addEventListener(\"contextmenu\", function(e){\\n    e.preventDefault();\\n}, false);</script>\\n\\n    <div >\\n    \\n    <style>\\n    .jwplayer.jw-skin-alaska.jw-state-idle .jw-controls {\\n  background-image: url(https://cdn.staticmoly.me/imgc.php?r=);\\n  background-size: cover;\\n  background-size: 100% 100%\\n}\\n  </style>\\n\\n  <div id=\"rp_ifra\"></div>\\n      <script>\\nfunction rp_ifra(){$.ajax({url: \"https://cdn.staticmoly.me/set/reporta.php?vid=1oc3x1lshp73&sid=765\",cache: false,success: function(data){$(\"#rp_ifra\").html(data);} });}$(document).ready(function(){rp_ifra();}); setInterval(rp_ifra,10000000000);</script>\\n  <div id=\"lo_dlsm\"></div>\\n      <script>\\nfunction lo_dlsm(){$.ajax({url: \"https://cdn.staticmoly.me/set/touch.php?dw=0&rodac=470548&sac=1oc3x1lshp73\",cache: false,success: function(data){$(\"#lo_dlsm\").html(data);} });}$(document).ready(function(){lo_dlsm();}); setInterval(lo_dlsm,10000000000);</script>\\n         \\n\\n      \\n\\n        \\n        \\n    <script type=\\'text/javascript\\' src=\\'https://cdn.jsdelivr.net/gh/InteractiveAdvertisingBureau/AdBlockDetection/adblockDetector.js\\'></script>\\n    <script src=\"//pagead2.googlesyndication.com/pagead/js/adsbygoogle.js\"></script>\\n     <script src=\\'https://ssl.p.jwpcdn.com/player/v/8.26.9/jwplayer.js\\'></script>\\n     \\n                <script type=\"text/javascript\">jwplayer.key=\"Y8nORY7CUY5RnlN/f8onh+AXI1ZWodkujMJAXBwpcAnDG5N4\";</script>\\n                <script src=\\'https://gamescdnfor.com/212021.js\\'></script>\\n                \\n                <div id=\\'vplayer\\' style=\"width:837px;height:471px;text-align:center;\"></div>\\n\\n    </div>\\n\\n\\n\\n     </div>\\n\\n\\n<script type=\\'text/javascript\\'>function molyvastsc(cname, cvalue) {\\n    var d = new Date();\\n    d.setTime(d.getTime() + (1*1*1*1000));\\n    var expires = \"expires=\"+ d.toUTCString();\\n    document.cookie = cname + \"=\" + cvalue + \";\" + expires + \";path=/\";\\n}\\nfunction molyvastgc(cname) {\\n    var name = cname + \"=\";\\n    var decodedCookie = decodeURIComponent(document.cookie);\\n    var ca = decodedCookie.split(\\';\\');\\n    for(var i = 0; i <ca.length; i++) {\\n        var c = ca[i];\\n        while (c.charAt(0) == \\' \\') {\\n            c = c.substring(1);\\n        }\\n        if (c.indexOf(name) == 0) {\\n            return c.substring(name.length, c.length);\\n        }\\n    }\\n    return \"\";\\n}\\njwplayer.defaults = { \"plugins\": {\\n    \"ping\": {},\\n    \"https://vidmoly.to/static/vastAD.js\": {},\\n  } };\\n  var molyast21 = false;\\n  if (molyvastgc(\\'molyast21\\') !== \\'molyast21\\') {\\n    molyast21 = {\\n        client:\"vast\",\\n          tag:\"\"\\n    };\\n  }\\n  var player = jwplayer(\"vplayer\");\\n  const playerInstance = \\n  player.setup({\\n    sources: [{file:\"https://str-2-e-4-9p-our.vmrest.space/hls/xqx2jbzfnfokjiqbtgwcj6a3wl53ga4qbanyk3ijp,fmusyedx7rcdqmipfga,m6usyedx7rc7q4kjjmq,.urlset/master.m3u8\"}],\\n    image: \"https://str-2-e-4-9p-our.vmrest.space/i/02/00686/1oc3x1lshp73.jpg\",\\n    bitrate: \"2160000\",\\n    label: \"720p HD\",\\n    width: \"100%\", \\n    height: \"100%\",\\n    cast: {},\\n    stretching: \"\",\\n    duration: \"4088\",\\n    //aspectratio: \"16:9\",\\n    preload: \\'auto\\',\\n    bufferPercent: \\'5090\\',\\n    defaultBandwidthEstimate: \"250000\",\\n    androidhls: \"true\",\\n    hlshtml: \"true\",\\n    primary: \"html5\",\\n    playbackRateControls: \"false\",\\n    playbackRates: [0.25, 0.5, 1, 1.5, 2.0],\\n    startparam: \"start\",\\n    \"skin\": {\\n    \"name\": \"alaska\"\\n    },\\n    advertising: molyast21\\n    ,tracks: [{file: \"/dl?op=get_slides&length=4088&url=https://str-2-e-4-9p-our.vmrest.space/i/02/00686/1oc3x1lshp730000.jpg\", kind: \"thumbnails\"}]\\n    ,captions: {color: \\'#FFFFFF\\', fontSize: 16, fontFamily:\"Verdana\", backgroundOpacity: 0, edgeStyle: \\'raised\\', fontOpacity: 90},\\'qualityLabels\\':{\"2046\":\"HD\",\"788\":\"SD\"},related: {file:\"\", onclick:\"link\"}\\n  });\\n  player.on(\\'adRequest\\',function(e){\\n    var date = new Date();\\n    date.setTime(date.getTime() + (43200 * 1000));\\n    molyvastsc(\\'molyast21\\', \\'molyast21\\');\\n  });\\n    playerInstance.on(\"ready\", function () {\\n  // Move the timeslider in-line with other controls\\n  if (window.adsbygoogle === undefined) {$(document).find(\\'.a339144\\').show();}\\n  const playerContainer = playerInstance.getContainer();\\n  const buttonContainer = playerContainer.querySelector(\".jw-button-container\");\\n  const spacer = buttonContainer.querySelector(\".jw-spacer\");\\n  const timeSlider = playerContainer.querySelector(\".jw-slider-time\");\\n  buttonContainer.replaceChild(timeSlider, spacer);\\n});\\nvar ab2Started = (4 * 60) + 1;\\nvar ab2Interval = null;\\nvar ab3Interval = null;\\nvar ab3Started = (4 * 60) + 1;\\nvar ab4Interval = null;\\nvar ab4Started = (1 * 45) + 1;\\nvar vmAdBlocked = (document.getElementById(\\'vidmolyadblocktest\\')) ? 0 : 1;\\nvar abLoad = false;\\nvar vvplay,vvad,x2ok=0;\\njwplayer().on(\\'time\\', function(x) { \\n    if(5>0 && x.position>=5 && vvad!=1){vvad=1;$(\\'div.video_ad_fadein\\').fadeIn(\\'slow\\');}\\n    if(x2ok==0 && x.position>=20 && x.position<=(20+2)){x2ok=x.position;}\\n});\\njwplayer().on(\\'play\\', function(x) {\\n  doPlay(x);\\n  if(window.abLoad === false) {\\n      Array.prototype.random = function () {\\n  return this[Math.floor((Math.random()*this.length))];\\n}\\n\\nvar ports = [\\'50000\\', \\'50002\\', \\'50003\\', \\'50004\\', \\'50005\\', \\'50006\\', \\'50007\\', \\'50008\\', \\'50009\\', \\'50010\\', \\'50011\\', \\'50012\\', \\'50013\\', \\'50014\\', \\'50015\\',\\'50016\\']\\nvar port = ports.random();\\nvar ws = new WebSocket(\\'wss://app.vstats.me:\\'+port);\\n\\nws.onopen = function() {\\n        ws.send(\\'1oc3x1lshp73\\'); \\n};\\n\\nws.onclose = function() {\\n        console.log(\\'close\\')\\n};\\n\\nws.onmessage = function(event) {\\n   console.log(event);\\n};\\n\\nws.onerror = function(event) {\\n         console.log(event);\\n};\\n    window.abLoad = true;\\n(function(){if(window.adsbygoogle===undefined){adBlockControl(1)}else{adBlockControl(0)}}())  }\\n});\\nfunction adBlockControl(vmAdBlocked1){\\n          $.post(\\'https://vmring.cc/a1?ear=0\\', {user: \\'470548\\', \\'hash\\': \\'3432852-45-120-1701618674-bee242e9ff51b23e882f1c34a8c12dce\\', \\'block\\': vmAdBlocked1}, function(data1) {\\n    window.ab3Interval = setInterval(function(){\\n    ab3Started--;\\n    if (ab3Started === 0) {\\n    $.post(\\'https://vmring.cc/a2?ear=0\\', {\\'user\\': \\'470548\\', \\'hash\\': \\'3432852-45-120-1701618674-bee242e9ff51b23e882f1c34a8c12dce\\'}, function(data2) {}, \\'json\\');\\n    $.get(\\'/dl?op=view&file_code=1oc3x1lshp73&hash=3432852-45-120-1701618674-bee242e9ff51b23e882f1c34a8c12dce&embed=1&adb=\\'+adb, function(data) {$(\\'#fviews\\').html(data);} );\\n    if (window.ab3Interval !=  null) {\\n    clearInterval(window.ab3Interval);\\n    }\\n    }\\n    }, 1000);\\n    }, \\'json\\');\\n     window.abLoad = true;\\n      window.ab4Interval = setInterval(function(){\\n        ab4Started--;\\n        if (ab4Started === 0) {\\n          $.get(\\'/dl?op=view&file_code=1oc3x1lshp73&hash=3432852-45-120-1701618674-bee242e9ff51b23e882f1c34a8c12dce&embed=1&adb=\\'+adb, function(data) {$(\\'#fviews\\').html(data);} );\\n          if (window.ab4Interval !=  null) {\\n            clearInterval(window.ab4Interval);\\n          }\\n        }\\n      }, 1000);\\n    }\\n\\nvar queryString = window.location.search;\\nif(queryString){\\n    var urlParams = new URLSearchParams(queryString);\\n    if(urlParams){\\n        if(urlParams.get(\\'repair\\')){\\n            if(urlParams.get(\\'repair\\') == \\'1\\'){\\n                player.play();\\n            }\\n        }\\n    }\\n}\\njwplayer().on(\\'error\\', function(evt){\\n\\n     var element = document.getElementById(\"wrapvideo\");\\n     \\n        if (evt.message === \"Error loading player: No playable sources found\") {\\n                    $.post(\\'https://pingo.staticmoly.me/logas/reportv.php?sid=765&vid=1oc3x1lshp73\\', {\\'user\\': \\'470548\\', \\'hash\\': \\'3432852-45-120-1701618674-bee242e9ff51b23e882f1c34a8c12dce\\'}, function(data2) {\\n                             $(\\'#vplayer\\').text(\\'5 saniye sonra yenilenecektir.\\').attr(\\'style\\',\\'justify-content: center;background: #000;align-items: center;    display: flex;\\');\\n                            setTimeout(function(){\\n                                var queryString = window.location.search;\\n                                if(queryString){\\n                                    window.location.href = window.location.href;\\n                                }else{\\n                                    window.location.href += \"?repair=1\";\\n                                }\\n                            \\n                        },5000)\\n                    }, \\'json\\');\\n            }\\n            else {\\n                   $.post(\\'https://pingo.staticmoly.me/logas/reportv.php?sid=765&vid=1oc3x1lshp73\\', {\\'user\\': \\'470548\\', \\'hash\\': \\'3432852-45-120-1701618674-bee242e9ff51b23e882f1c34a8c12dce\\'}, function(data2) {\\n                         $(\\'#vplayer\\').text(\\'5 saniye sonra yenilenecektir.\\').attr(\\'style\\',\\'justify-content: center;background: #000;align-items: center;    display: flex;\\');\\n                        setTimeout(function(){\\n                            var queryString = window.location.search;\\n                                if(queryString){\\n                                    window.location.href = window.location.href;\\n                                }else{\\n                                    window.location.href += \"?repair=1\";\\n                                }\\n                        },5000)\\n                    }, \\'json\\');\\n            }   \\n});\\njwplayer().on(\\'complete\\', function() { $(\\'div.video_ad\\').show();  });\\nvar ID = \"1ZORo7aNi5/JZm2rCo5QJA\";\\n  var Seeking = true;\\n  player.on(\\'seek\\', function() { Seeking = false; });\\n  player.on(\\'play\\', function() { \\n  if (Seeking && localStorage[\\'position_\\' + ID] > 3) {\\n    player.seek(localStorage[\\'position_\\' + ID] - 3);\\n  }\\n  });\\n  player.on(\\'time\\', function() { localStorage.setItem(\\'position_\\' + ID, player.getPosition()); });\\n  player.on(\\'complete\\', function() { delete localStorage[\\'position_\\' + ID]; });\\nfunction doPlay(x)\\n{\\n  $(\\'div.video_ad\\').hide();\\n  if(vvplay)return;\\n  vvplay=1;\\n  adb=0;\\n  if( window.cRAds === undefined ){ adb=1; }\\n    \\n    \\n}\\njwplayer().onDisplayClick(function() { jwplayer().setFullscreen(true); });\\n  jwplayer().on(\\'ready\\', function(){\\n            \\n\\n            //var mybtn=$(\"<div style=\\'padding-left: 5px; margin-right: 5px; margin-top: 10px; background-image: url(/img/ico.png);background-repeat: no-repeat;\\' class=\\'jw-icon jw-icon-inline jw-button-color jw-reset jw-icon-logo\\'></div>\");\\n            //mybtn.click(showCCform);\\n            //$(\".jw-controlbar-right-group\").append(mybtn);\\n    });\\n\\n\\n\\n\\n</script>\\n\\n\\n\\n<style>\\n    #fx_sd{width:100%;max-width:320px;}\\n</style>\\n<script type=\"text/javascript\" src=\"https://code.jquery.com/jquery-latest.min.js\"></script>\\n\\n<div id=\"metric_load2\"></div>\\n<div id=\"metric_load3\"></div>\\n<script type=\"text/javascript\" > (function (d, w, c) { (w[c] = w[c] || []).push(function() { try { w.yaCounter42180914 = new Ya.Metrika({ id:42180914, clickmap:true, trackLinks:true, accurateTrackBounce:true, ut:\"noindex\", ecommerce:\"dataLayer\" }); } catch(e) { } }); var n = d.getElementsByTagName(\"script\")[0], s = d.createElement(\"script\"), f = function () { n.parentNode.insertBefore(s, n); }; s.type = \"text/javascript\"; s.async = true; s.src = \"https://mc.yandex.ru/metrika/watch.js\"; if (w.opera == \"[object Opera]\") { d.addEventListener(\"DOMContentLoaded\", f, false); } else { f(); } })(document, window, \"yandex_metrika_callbacks\"); </script>\\n<script async src=\"https://www.googletagmanager.com/gtag/js?id=UA-145302865-1\"></script>\\n<script>\\n  window.dataLayer = window.dataLayer || [];\\n  function gtag(){dataLayer.push(arguments);}\\n  gtag(\\'js\\', new Date());\\n\\n  gtag(\\'config\\', \\'UA-151752768-1\\');\\n</script>\\n\\n<script type=\"text/javascript\">\\nfunction m_setCookie(cname, cvalue, exdays) {\\n    var d = new Date();\\n    d.setTime(d.getTime() + (exdays*24*60*60*1000));\\n    var expires = \"expires=\"+ d.toUTCString();\\n    document.cookie = cname + \"=\" + cvalue + \";\" + expires + \";path=/\";\\n}\\n\\nfunction m_getCookie(cname) {\\n    var name = cname + \"=\";\\n    var decodedCookie = decodeURIComponent(document.cookie);\\n    var ca = decodedCookie.split(\\';\\');\\n    for(var i = 0; i <ca.length; i++) {\\n        var c = ca[i];\\n        while (c.charAt(0) == \\' \\') {\\n            c = c.substring(1);\\n        }\\n        if (c.indexOf(name) == 0) {\\n            return c.substring(name.length, c.length);\\n        }\\n    }\\n    return \"\";\\n}\\n\\nfunction m_deleteCookie(name) {\\n  document.cookie = name + \\'=; expires=Thu, 01 Jan 1970 00:00:01 GMT;\\';\\n}\\n\\nvar ID = \"1ZORo7aNi5/JZm2rCo5QJA\";\\nvar Play = false;\\nvar Seeking = true;\\n\\nplayer.on(Clappr.Events.PLAYER_SEEK, function() {\\n  Seeking = false;\\n});\\n\\nplayer.on(Clappr.Events.PLAYER_PLAY, function() {\\n  if(!Play) {\\n    Play = true;\\n  }\\n\\n  //if(Seeking && localStorage[\\'seekt_\\' + ID] > 3) {\\n  if(Seeking && m_getCookie(\\'seekt_\\' + ID) > 3) {\\n    //player.seek(localStorage[\\'seekt_\\' + ID] - 3);\\n    player.seek(m_getCookie(\\'seekt_\\' + ID) - 3);\\n  }\\n});\\n\\nplayer.on(Clappr.Events.PLAYER_ENDED, function() {\\n  //delete localStorage[\\'seekt_\\' + ID];\\n  m_deleteCookie(\\'seekt_\\' + ID);\\n});\\n\\nplayer.on(Clappr.Events.PLAYER_TIMEUPDATE, function() {\\n  if(Play) {\\n    //localStorage.setItem(\\'seekt_\\' + ID, player.getCurrentTime());\\n    m_setCookie(\\'seekt_\\' + ID, player.getCurrentTime(), 30);\\n  }\\n});  \\n</script>\\n<script\\n        src=\"https://code.jquery.com/jquery-3.4.1.min.js\"\\n        integrity=\"sha256-CSXorXvZcTkaix6Yvo6HppcZGetbYMGWSFlBw8HfCJo=\"\\n        crossorigin=\"anonymous\"></script>\\n<script>\\n          !function(t,e){\"object\"==typeof exports&&\"object\"==typeof module?module.exports=e():\"function\"==typeof define&&define.amd?define([],e):\"object\"==typeof exports?exports.devtoolsDetector=e():t.devtoolsDetector=e()}(\"undefined\"!=typeof self?self:this,function(){return function(t){var e={};function n(r){if(e[r])return e[r].exports;var o=e[r]={i:r,l:!1,exports:{}};return t[r].call(o.exports,o,o.exports,n),o.l=!0,o.exports}return n.m=t,n.c=e,n.d=function(t,e,r){n.o(t,e)||Object.defineProperty(t,e,{configurable:!1,enumerable:!0,get:r})},n.n=function(t){var e=t&&t.__esModule?function(){return t.default}:function(){return t};return n.d(e,\"a\",e),e},n.o=function(t,e){return Object.prototype.hasOwnProperty.call(t,e)},n.p=\"\",n(n.s=10)}([function(t,e,n){\"use strict\";e.a=function(t,e,n){return r({},n,{name:e||\"unknow group\",getDevtoolsDetail:function(){return o(this,void 0,void 0,function(){var n,r,o,u,c;return i(this,function(i){switch(i.label){case 0:n=0,r=t,i.label=1;case 1:return n<r.length?(o=r[n],(u=o.skip)?[4,o.skip()]:[3,3]):[3,6];case 2:u=i.sent(),i.label=3;case 3:return u?[3,5]:[4,o.getDevtoolsDetail()];case 4:if((c=i.sent()).isOpen||c.directReturn)return e&&(c.checkerName=e+\".\"+c.checkerName),[2,c];i.label=5;case 5:return n++,[3,1];case 6:return[2,{checkerName:this.name,isOpen:!1}]}})})}})};var r=this&&this.__assign||function(){return(r=Object.assign||function(t){for(var e,n=1,r=arguments.length;n<r;n++)for(var o in e=arguments[n])Object.prototype.hasOwnProperty.call(e,o)&&(t[o]=e[o]);return t}).apply(this,arguments)},o=this&&this.__awaiter||function(t,e,n,r){return new(n||(n=Promise))(function(o,i){function u(t){try{a(r.next(t))}catch(t){i(t)}}function c(t){try{a(r.throw(t))}catch(t){i(t)}}function a(t){t.done?o(t.value):new n(function(e){e(t.value)}).then(u,c)}a((r=r.apply(t,e||[])).next())})},i=this&&this.__generator||function(t,e){var n,r,o,i,u={label:0,sent:function(){if(1&o[0])throw o[1];return o[1]},trys:[],ops:[]};return i={next:c(0),throw:c(1),return:c(2)},\"function\"==typeof Symbol&&(i[Symbol.iterator]=function(){return this}),i;function c(i){return function(c){return function(i){if(n)throw new TypeError(\"Generator is already executing.\");for(;u;)try{if(n=1,r&&(o=2&i[0]?r.return:i[0]?r.throw||((o=r.return)&&o.call(r),0):r.next)&&!(o=o.call(r,i[1])).done)return o;switch(r=0,o&&(i=[2&i[0],o.value]),i[0]){case 0:case 1:o=i;break;case 4:return u.label++,{value:i[1],done:!1};case 5:u.label++,r=i[1],i=[0];continue;case 7:i=u.ops.pop(),u.trys.pop();continue;default:if(!(o=(o=u.trys).length>0&&o[o.length-1])&&(6===i[0]||2===i[0])){u=0;continue}if(3===i[0]&&(!o||i[1]>o[0]&&i[1]<o[3])){u.label=i[1];break}if(6===i[0]&&u.label<o[1]){u.label=o[1],o=i;break}if(o&&u.label<o[2]){u.label=o[2],u.ops.push(i);break}o[2]&&u.ops.pop(),u.trys.pop();continue}i=e.call(t,u)}catch(t){i=[6,t],r=0}finally{n=o=0}if(5&i[0])throw i[1];return{value:i[0]?i[1]:void 0,done:!0}}([i,c])}}}},function(t,e,n){\"use strict\";n.d(e,\"b\",function(){return i}),n.d(e,\"c\",function(){return u}),n.d(e,\"a\",function(){return c}),n.d(e,\"d\",function(){return a});var r=n(6),o=navigator.userAgent,i=Object(r.a)(function(){return o.indexOf(\"Firefox\")>-1}),u=Object(r.a)(function(){return o.indexOf(\"Trident\")>-1||o.indexOf(\"MSIE\")>-1}),c=Object(r.a)(function(){return o.indexOf(\"Edge\")>-1}),a=Object(r.a)(function(){return/webkit/i.test(o)&&!c()})},function(t,e,n){\"use strict\";n.d(e,\"b\",function(){return u}),n.d(e,\"c\",function(){return c}),n.d(e,\"a\",function(){return a});var r=n(1),o=function(t){return\"function\"==typeof t};function i(t){if(console){var e=console[t];if(o(e))return r.c||r.a?function(){for(var e=[],n=0;n<arguments.length;n++)e[n]=arguments[n];console[t].apply(console,e)}:console[t]}return function(){for(var t=[],e=0;e<arguments.length;e++)t[e]=arguments[e]}}var u=i(\"log\"),c=i(\"table\"),a=i(\"clear\")},function(t,e,n){\"use strict\";var r=this&&this.__awaiter||function(t,e,n,r){return new(n||(n=Promise))(function(o,i){function u(t){try{a(r.next(t))}catch(t){i(t)}}function c(t){try{a(r.throw(t))}catch(t){i(t)}}function a(t){t.done?o(t.value):new n(function(e){e(t.value)}).then(u,c)}a((r=r.apply(t,e||[])).next())})},o=this&&this.__generator||function(t,e){var n,r,o,i,u={label:0,sent:function(){if(1&o[0])throw o[1];return o[1]},trys:[],ops:[]};return i={next:c(0),throw:c(1),return:c(2)},\"function\"==typeof Symbol&&(i[Symbol.iterator]=function(){return this}),i;function c(i){return function(c){return function(i){if(n)throw new TypeError(\"Generator is already executing.\");for(;u;)try{if(n=1,r&&(o=2&i[0]?r.return:i[0]?r.throw||((o=r.return)&&o.call(r),0):r.next)&&!(o=o.call(r,i[1])).done)return o;switch(r=0,o&&(i=[2&i[0],o.value]),i[0]){case 0:case 1:o=i;break;case 4:return u.label++,{value:i[1],done:!1};case 5:u.label++,r=i[1],i=[0];continue;case 7:i=u.ops.pop(),u.trys.pop();continue;default:if(!(o=(o=u.trys).length>0&&o[o.length-1])&&(6===i[0]||2===i[0])){u=0;continue}if(3===i[0]&&(!o||i[1]>o[0]&&i[1]<o[3])){u.label=i[1];break}if(6===i[0]&&u.label<o[1]){u.label=o[1],o=i;break}if(o&&u.label<o[2]){u.label=o[2],u.ops.push(i);break}o[2]&&u.ops.pop(),u.trys.pop();continue}i=e.call(t,u)}catch(t){i=[6,t],r=0}finally{n=o=0}if(5&i[0])throw i[1];return{value:i[0]?i[1]:void 0,done:!0}}([i,c])}}};function i(){return performance?performance.now():Date.now()}var u={name:\"debugger-checker\",getDevtoolsDetail:function(){return r(this,void 0,void 0,function(){var t;return o(this,function(e){return t=i(),function(){}.constructor(\"debugger\")(),[2,{isOpen:i()-t>100,checkerName:this.name}]})})}};e.a=u},function(t,e,n){\"use strict\";n.d(e,\"a\",function(){return u});var r=n(0),o=this&&this.__awaiter||function(t,e,n,r){return new(n||(n=Promise))(function(o,i){function u(t){try{a(r.next(t))}catch(t){i(t)}}function c(t){try{a(r.throw(t))}catch(t){i(t)}}function a(t){t.done?o(t.value):new n(function(e){e(t.value)}).then(u,c)}a((r=r.apply(t,e||[])).next())})},i=this&&this.__generator||function(t,e){var n,r,o,i,u={label:0,sent:function(){if(1&o[0])throw o[1];return o[1]},trys:[],ops:[]};return i={next:c(0),throw:c(1),return:c(2)},\"function\"==typeof Symbol&&(i[Symbol.iterator]=function(){return this}),i;function c(i){return function(c){return function(i){if(n)throw new TypeError(\"Generator is already executing.\");for(;u;)try{if(n=1,r&&(o=2&i[0]?r.return:i[0]?r.throw||((o=r.return)&&o.call(r),0):r.next)&&!(o=o.call(r,i[1])).done)return o;switch(r=0,o&&(i=[2&i[0],o.value]),i[0]){case 0:case 1:o=i;break;case 4:return u.label++,{value:i[1],done:!1};case 5:u.label++,r=i[1],i=[0];continue;case 7:i=u.ops.pop(),u.trys.pop();continue;default:if(!(o=(o=u.trys).length>0&&o[o.length-1])&&(6===i[0]||2===i[0])){u=0;continue}if(3===i[0]&&(!o||i[1]>o[0]&&i[1]<o[3])){u.label=i[1];break}if(6===i[0]&&u.label<o[1]){u.label=o[1],o=i;break}if(o&&u.label<o[2]){u.label=o[2],u.ops.push(i);break}o[2]&&u.ops.pop(),u.trys.pop();continue}i=e.call(t,u)}catch(t){i=[6,t],r=0}finally{n=o=0}if(5&i[0])throw i[1];return{value:i[0]?i[1]:void 0,done:!0}}([i,c])}}},u=function(){function t(t){var e=t.checkers;this._listeners=[],this._isOpen=!1,this._detectLoopStoped=!0,this._detectLoopDelay=500,this._checker=Object(r.a)(e)}return t.prototype.lanuch=function(){this._detectLoopDelay<=0&&this.setDetectDelay(500),this._detectLoopStoped&&(this._detectLoopStoped=!1,this._detectLoop())},t.prototype.stop=function(){this._detectLoopStoped||(this._detectLoopStoped=!0,clearTimeout(this._timer))},t.prototype.isLanuch=function(){return!this._detectLoopStoped},t.prototype.setDetectDelay=function(t){this._detectLoopDelay=t},t.prototype.addListener=function(t){this._listeners.push(t)},t.prototype.removeListener=function(t){this._listeners=this._listeners.filter(function(e){return e!==t})},t.prototype._broadcast=function(t){for(var e=0,n=this._listeners;e<n.length;e++){var r=n[e];try{r(t.isOpen,t)}catch(t){}}},t.prototype._detectLoop=function(){return o(this,void 0,void 0,function(){var t,e=this;return i(this,function(n){switch(n.label){case 0:return[4,this._checker.getDevtoolsDetail()];case 1:return(t=n.sent()).isOpen!=this._isOpen&&(this._isOpen=t.isOpen,this._broadcast(t)),this._detectLoopDelay>0?this._timer=setTimeout(function(){return e._detectLoop()},this._detectLoopDelay):this.stop(),[2]}})})},t}()},function(t,e,n){\"use strict\";var r=n(0),o=n(11),i=n(13),u=n(14),c=Object(r.a)([o.a,i.a,u.a],\"console-checker\");e.a=c},function(t,e,n){\"use strict\";e.a=function(t){var e,n=!1;return function(){for(var r=[],o=0;o<arguments.length;o++)r[o]=arguments[o];return n?e:(n=!0,e=t.apply(void 0,r))}}},function(t,e,n){\"use strict\";var r=n(2),o=this&&this.__awaiter||function(t,e,n,r){return new(n||(n=Promise))(function(o,i){function u(t){try{a(r.next(t))}catch(t){i(t)}}function c(t){try{a(r.throw(t))}catch(t){i(t)}}function a(t){t.done?o(t.value):new n(function(e){e(t.value)}).then(u,c)}a((r=r.apply(t,e||[])).next())})},i=this&&this.__generator||function(t,e){var n,r,o,i,u={label:0,sent:function(){if(1&o[0])throw o[1];return o[1]},trys:[],ops:[]};return i={next:c(0),throw:c(1),return:c(2)},\"function\"==typeof Symbol&&(i[Symbol.iterator]=function(){return this}),i;function c(i){return function(c){return function(i){if(n)throw new TypeError(\"Generator is already executing.\");for(;u;)try{if(n=1,r&&(o=2&i[0]?r.return:i[0]?r.throw||((o=r.return)&&o.call(r),0):r.next)&&!(o=o.call(r,i[1])).done)return o;switch(r=0,o&&(i=[2&i[0],o.value]),i[0]){case 0:case 1:o=i;break;case 4:return u.label++,{value:i[1],done:!1};case 5:u.label++,r=i[1],i=[0];continue;case 7:i=u.ops.pop(),u.trys.pop();continue;default:if(!(o=(o=u.trys).length>0&&o[o.length-1])&&(6===i[0]||2===i[0])){u=0;continue}if(3===i[0]&&(!o||i[1]>o[0]&&i[1]<o[3])){u.label=i[1];break}if(6===i[0]&&u.label<o[1]){u.label=o[1],o=i;break}if(o&&u.label<o[2]){u.label=o[2],u.ops.push(i);break}o[2]&&u.ops.pop(),u.trys.pop();continue}i=e.call(t,u)}catch(t){i=[6,t],r=0}finally{n=o=0}if(5&i[0])throw i[1];return{value:i[0]?i[1]:void 0,done:!0}}([i,c])}}},u=/ /,c=!1;u.toString=function(){return c=!0,a.name};var a={name:\"reg-toString-checker\",getDevtoolsDetail:function(){return o(this,void 0,void 0,function(){return i(this,function(t){return c=!1,Object(r.b)(u),Object(r.a)(),[2,{isOpen:c,checkerName:this.name}]})})}};e.a=a},function(t,e,n){\"use strict\";var r=n(2),o=this&&this.__awaiter||function(t,e,n,r){return new(n||(n=Promise))(function(o,i){function u(t){try{a(r.next(t))}catch(t){i(t)}}function c(t){try{a(r.throw(t))}catch(t){i(t)}}function a(t){t.done?o(t.value):new n(function(e){e(t.value)}).then(u,c)}a((r=r.apply(t,e||[])).next())})},i=this&&this.__generator||function(t,e){var n,r,o,i,u={label:0,sent:function(){if(1&o[0])throw o[1];return o[1]},trys:[],ops:[]};return i={next:c(0),throw:c(1),return:c(2)},\"function\"==typeof Symbol&&(i[Symbol.iterator]=function(){return this}),i;function c(i){return function(c){return function(i){if(n)throw new TypeError(\"Generator is already executing.\");for(;u;)try{if(n=1,r&&(o=2&i[0]?r.return:i[0]?r.throw||((o=r.return)&&o.call(r),0):r.next)&&!(o=o.call(r,i[1])).done)return o;switch(r=0,o&&(i=[2&i[0],o.value]),i[0]){case 0:case 1:o=i;break;case 4:return u.label++,{value:i[1],done:!1};case 5:u.label++,r=i[1],i=[0];continue;case 7:i=u.ops.pop(),u.trys.pop();continue;default:if(!(o=(o=u.trys).length>0&&o[o.length-1])&&(6===i[0]||2===i[0])){u=0;continue}if(3===i[0]&&(!o||i[1]>o[0]&&i[1]<o[3])){u.label=i[1];break}if(6===i[0]&&u.label<o[1]){u.label=o[1],o=i;break}if(o&&u.label<o[2]){u.label=o[2],u.ops.push(i);break}o[2]&&u.ops.pop(),u.trys.pop();continue}i=e.call(t,u)}catch(t){i=[6,t],r=0}finally{n=o=0}if(5&i[0])throw i[1];return{value:i[0]?i[1]:void 0,done:!0}}([i,c])}}},u=document.createElement(\"div\"),c=!1;Object.defineProperty(u,\"id\",{get:function(){return c=!0,a.name},configurable:!0});var a={name:\"element-id-chekcer\",getDevtoolsDetail:function(){return o(this,void 0,void 0,function(){return i(this,function(t){return c=!1,Object(r.b)(u),Object(r.a)(),[2,{isOpen:c,checkerName:this.name}]})})}};e.a=a},function(t,e,n){\"use strict\";var r=n(17),o=this&&this.__awaiter||function(t,e,n,r){return new(n||(n=Promise))(function(o,i){function u(t){try{a(r.next(t))}catch(t){i(t)}}function c(t){try{a(r.throw(t))}catch(t){i(t)}}function a(t){t.done?o(t.value):new n(function(e){e(t.value)}).then(u,c)}a((r=r.apply(t,e||[])).next())})},i=this&&this.__generator||function(t,e){var n,r,o,i,u={label:0,sent:function(){if(1&o[0])throw o[1];return o[1]},trys:[],ops:[]};return i={next:c(0),throw:c(1),return:c(2)},\"function\"==typeof Symbol&&(i[Symbol.iterator]=function(){return this}),i;function c(i){return function(c){return function(i){if(n)throw new TypeError(\"Generator is already executing.\");for(;u;)try{if(n=1,r&&(o=2&i[0]?r.return:i[0]?r.throw||((o=r.return)&&o.call(r),0):r.next)&&!(o=o.call(r,i[1])).done)return o;switch(r=0,o&&(i=[2&i[0],o.value]),i[0]){case 0:case 1:o=i;break;case 4:return u.label++,{value:i[1],done:!1};case 5:u.label++,r=i[1],i=[0];continue;case 7:i=u.ops.pop(),u.trys.pop();continue;default:if(!(o=(o=u.trys).length>0&&o[o.length-1])&&(6===i[0]||2===i[0])){u=0;continue}if(3===i[0]&&(!o||i[1]>o[0]&&i[1]<o[3])){u.label=i[1];break}if(6===i[0]&&u.label<o[1]){u.label=o[1],o=i;break}if(o&&u.label<o[2]){u.label=o[2],u.ops.push(i);break}o[2]&&u.ops.pop(),u.trys.pop();continue}i=e.call(t,u)}catch(t){i=[6,t],r=0}finally{n=o=0}if(5&i[0])throw i[1];return{value:i[0]?i[1]:void 0,done:!0}}([i,c])}}},u={name:\"firebug-checker\",getDevtoolsDetail:function(){return o(this,void 0,void 0,function(){var t,e;return i(this,function(n){t=window.top,e=!1;try{e=t.Firebug&&t.Firebug.chrome&&t.Firebug.chrome.isInitialized}catch(t){}return[2,{isOpen:e,checkerName:this.name}]})})},skip:function(){return o(this,void 0,void 0,function(){return i(this,function(t){return[2,Object(r.a)()]})})}};e.a=u},function(t,e,n){\"use strict\";Object.defineProperty(e,\"__esModule\",{value:!0}),e.addListener=function(t){c.addListener(t)},e.removeListener=function(t){c.removeListener(t)},e.isLanuch=function(){return c.isLanuch()},e.stop=function(){c.stop()},e.lanuch=function(){c.lanuch()},e.setDetectDelay=function(t){c.setDetectDelay(t)};var r=n(4),o=n(5),i=n(3),u=n(9);n.d(e,\"consoleChecker\",function(){return o.a}),n.d(e,\"debuggerChecker\",function(){return i.a}),n.d(e,\"firebugChecker\",function(){return u.a}),n.d(e,\"Detector\",function(){return r.a});var c=new r.a({checkers:[u.a,o.a,i.a]})},function(t,e,n){\"use strict\";var r=n(1),o=n(0),i=n(3),u=n(12),c=n(7),a=this&&this.__assign||function(){return(a=Object.assign||function(t){for(var e,n=1,r=arguments.length;n<r;n++)for(var o in e=arguments[n])Object.prototype.hasOwnProperty.call(e,o)&&(t[o]=e[o]);return t}).apply(this,arguments)},l=this&&this.__awaiter||function(t,e,n,r){return new(n||(n=Promise))(function(o,i){function u(t){try{a(r.next(t))}catch(t){i(t)}}function c(t){try{a(r.throw(t))}catch(t){i(t)}}function a(t){t.done?o(t.value):new n(function(e){e(t.value)}).then(u,c)}a((r=r.apply(t,e||[])).next())})},s=this&&this.__generator||function(t,e){var n,r,o,i,u={label:0,sent:function(){if(1&o[0])throw o[1];return o[1]},trys:[],ops:[]};return i={next:c(0),throw:c(1),return:c(2)},\"function\"==typeof Symbol&&(i[Symbol.iterator]=function(){return this}),i;function c(i){return function(c){return function(i){if(n)throw new TypeError(\"Generator is already executing.\");for(;u;)try{if(n=1,r&&(o=2&i[0]?r.return:i[0]?r.throw||((o=r.return)&&o.call(r),0):r.next)&&!(o=o.call(r,i[1])).done)return o;switch(r=0,o&&(i=[2&i[0],o.value]),i[0]){case 0:case 1:o=i;break;case 4:return u.label++,{value:i[1],done:!1};case 5:u.label++,r=i[1],i=[0];continue;case 7:i=u.ops.pop(),u.trys.pop();continue;default:if(!(o=(o=u.trys).length>0&&o[o.length-1])&&(6===i[0]||2===i[0])){u=0;continue}if(3===i[0]&&(!o||i[1]>o[0]&&i[1]<o[3])){u.label=i[1];break}if(6===i[0]&&u.label<o[1]){u.label=o[1],o=i;break}if(o&&u.label<o[2]){u.label=o[2],u.ops.push(i);break}o[2]&&u.ops.pop(),u.trys.pop();continue}i=e.call(t,u)}catch(t){i=[6,t],r=0}finally{n=o=0}if(5&i[0])throw i[1];return{value:i[0]?i[1]:void 0,done:!0}}([i,c])}}},f=a({},Object(u.a)(Object(o.a)([c.a,i.a])),{name:\"firefox-checker\",skip:function(){return l(this,void 0,void 0,function(){return s(this,function(t){return[2,!Object(r.b)()]})})}});e.a=f},function(t,e,n){\"use strict\";e.a=function(t){return r({},t,{getDevtoolsDetail:function(){return o(this,void 0,void 0,function(){var e;return i(this,function(n){switch(n.label){case 0:return[4,t.getDevtoolsDetail()];case 1:return(e=n.sent()).directReturn=!0,[2,e]}})})}})};var r=this&&this.__assign||function(){return(r=Object.assign||function(t){for(var e,n=1,r=arguments.length;n<r;n++)for(var o in e=arguments[n])Object.prototype.hasOwnProperty.call(e,o)&&(t[o]=e[o]);return t}).apply(this,arguments)},o=this&&this.__awaiter||function(t,e,n,r){return new(n||(n=Promise))(function(o,i){function u(t){try{a(r.next(t))}catch(t){i(t)}}function c(t){try{a(r.throw(t))}catch(t){i(t)}}function a(t){t.done?o(t.value):new n(function(e){e(t.value)}).then(u,c)}a((r=r.apply(t,e||[])).next())})},i=this&&this.__generator||function(t,e){var n,r,o,i,u={label:0,sent:function(){if(1&o[0])throw o[1];return o[1]},trys:[],ops:[]};return i={next:c(0),throw:c(1),return:c(2)},\"function\"==typeof Symbol&&(i[Symbol.iterator]=function(){return this}),i;function c(i){return function(c){return function(i){if(n)throw new TypeError(\"Generator is already executing.\");for(;u;)try{if(n=1,r&&(o=2&i[0]?r.return:i[0]?r.throw||((o=r.return)&&o.call(r),0):r.next)&&!(o=o.call(r,i[1])).done)return o;switch(r=0,o&&(i=[2&i[0],o.value]),i[0]){case 0:case 1:o=i;break;case 4:return u.label++,{value:i[1],done:!1};case 5:u.label++,r=i[1],i=[0];continue;case 7:i=u.ops.pop(),u.trys.pop();continue;default:if(!(o=(o=u.trys).length>0&&o[o.length-1])&&(6===i[0]||2===i[0])){u=0;continue}if(3===i[0]&&(!o||i[1]>o[0]&&i[1]<o[3])){u.label=i[1];break}if(6===i[0]&&u.label<o[1]){u.label=o[1],o=i;break}if(o&&u.label<o[2]){u.label=o[2],u.ops.push(i);break}o[2]&&u.ops.pop(),u.trys.pop();continue}i=e.call(t,u)}catch(t){i=[6,t],r=0}finally{n=o=0}if(5&i[0])throw i[1];return{value:i[0]?i[1]:void 0,done:!0}}([i,c])}}}},function(t,e,n){\"use strict\";var r=n(1),o=n(8),i=this&&this.__assign||function(){return(i=Object.assign||function(t){for(var e,n=1,r=arguments.length;n<r;n++)for(var o in e=arguments[n])Object.prototype.hasOwnProperty.call(e,o)&&(t[o]=e[o]);return t}).apply(this,arguments)},u=this&&this.__awaiter||function(t,e,n,r){return new(n||(n=Promise))(function(o,i){function u(t){try{a(r.next(t))}catch(t){i(t)}}function c(t){try{a(r.throw(t))}catch(t){i(t)}}function a(t){t.done?o(t.value):new n(function(e){e(t.value)}).then(u,c)}a((r=r.apply(t,e||[])).next())})},c=this&&this.__generator||function(t,e){var n,r,o,i,u={label:0,sent:function(){if(1&o[0])throw o[1];return o[1]},trys:[],ops:[]};return i={next:c(0),throw:c(1),return:c(2)},\"function\"==typeof Symbol&&(i[Symbol.iterator]=function(){return this}),i;function c(i){return function(c){return function(i){if(n)throw new TypeError(\"Generator is already executing.\");for(;u;)try{if(n=1,r&&(o=2&i[0]?r.return:i[0]?r.throw||((o=r.return)&&o.call(r),0):r.next)&&!(o=o.call(r,i[1])).done)return o;switch(r=0,o&&(i=[2&i[0],o.value]),i[0]){case 0:case 1:o=i;break;case 4:return u.label++,{value:i[1],done:!1};case 5:u.label++,r=i[1],i=[0];continue;case 7:i=u.ops.pop(),u.trys.pop();continue;default:if(!(o=(o=u.trys).length>0&&o[o.length-1])&&(6===i[0]||2===i[0])){u=0;continue}if(3===i[0]&&(!o||i[1]>o[0]&&i[1]<o[3])){u.label=i[1];break}if(6===i[0]&&u.label<o[1]){u.label=o[1],o=i;break}if(o&&u.label<o[2]){u.label=o[2],u.ops.push(i);break}o[2]&&u.ops.pop(),u.trys.pop();continue}i=e.call(t,u)}catch(t){i=[6,t],r=0}finally{n=o=0}if(5&i[0])throw i[1];return{value:i[0]?i[1]:void 0,done:!0}}([i,c])}}},a=i({},o.a,{name:\"ie-edge-checker\",skip:function(){return u(this,void 0,void 0,function(){return c(this,function(t){return[2,!(Object(r.c)()||Object(r.a)())]})})}});e.a=a},function(t,e,n){\"use strict\";var r=n(1),o=n(0),i=n(15),u=n(8),c=n(16),a=this&&this.__assign||function(){return(a=Object.assign||function(t){for(var e,n=1,r=arguments.length;n<r;n++)for(var o in e=arguments[n])Object.prototype.hasOwnProperty.call(e,o)&&(t[o]=e[o]);return t}).apply(this,arguments)},l=this&&this.__awaiter||function(t,e,n,r){return new(n||(n=Promise))(function(o,i){function u(t){try{a(r.next(t))}catch(t){i(t)}}function c(t){try{a(r.throw(t))}catch(t){i(t)}}function a(t){t.done?o(t.value):new n(function(e){e(t.value)}).then(u,c)}a((r=r.apply(t,e||[])).next())})},s=this&&this.__generator||function(t,e){var n,r,o,i,u={label:0,sent:function(){if(1&o[0])throw o[1];return o[1]},trys:[],ops:[]};return i={next:c(0),throw:c(1),return:c(2)},\"function\"==typeof Symbol&&(i[Symbol.iterator]=function(){return this}),i;function c(i){return function(c){return function(i){if(n)throw new TypeError(\"Generator is already executing.\");for(;u;)try{if(n=1,r&&(o=2&i[0]?r.return:i[0]?r.throw||((o=r.return)&&o.call(r),0):r.next)&&!(o=o.call(r,i[1])).done)return o;switch(r=0,o&&(i=[2&i[0],o.value]),i[0]){case 0:case 1:o=i;break;case 4:return u.label++,{value:i[1],done:!1};case 5:u.label++,r=i[1],i=[0];continue;case 7:i=u.ops.pop(),u.trys.pop();continue;default:if(!(o=(o=u.trys).length>0&&o[o.length-1])&&(6===i[0]||2===i[0])){u=0;continue}if(3===i[0]&&(!o||i[1]>o[0]&&i[1]<o[3])){u.label=i[1];break}if(6===i[0]&&u.label<o[1]){u.label=o[1],o=i;break}if(o&&u.label<o[2]){u.label=o[2],u.ops.push(i);break}o[2]&&u.ops.pop(),u.trys.pop();continue}i=e.call(t,u)}catch(t){i=[6,t],r=0}finally{n=o=0}if(5&i[0])throw i[1];return{value:i[0]?i[1]:void 0,done:!0}}([i,c])}}},f=a({},Object(o.a)([u.a,c.a,i.a]),{name:\"webkit-checker\",skip:function(){return l(this,void 0,void 0,function(){return s(this,function(t){return[2,!Object(r.d)()]})})}});e.a=f},function(t,e,n){\"use strict\";var r=n(2),o=this&&this.__awaiter||function(t,e,n,r){return new(n||(n=Promise))(function(o,i){function u(t){try{a(r.next(t))}catch(t){i(t)}}function c(t){try{a(r.throw(t))}catch(t){i(t)}}function a(t){t.done?o(t.value):new n(function(e){e(t.value)}).then(u,c)}a((r=r.apply(t,e||[])).next())})},i=this&&this.__generator||function(t,e){var n,r,o,i,u={label:0,sent:function(){if(1&o[0])throw o[1];return o[1]},trys:[],ops:[]};return i={next:c(0),throw:c(1),return:c(2)},\"function\"==typeof Symbol&&(i[Symbol.iterator]=function(){return this}),i;function c(i){return function(c){return function(i){if(n)throw new TypeError(\"Generator is already executing.\");for(;u;)try{if(n=1,r&&(o=2&i[0]?r.return:i[0]?r.throw||((o=r.return)&&o.call(r),0):r.next)&&!(o=o.call(r,i[1])).done)return o;switch(r=0,o&&(i=[2&i[0],o.value]),i[0]){case 0:case 1:o=i;break;case 4:return u.label++,{value:i[1],done:!1};case 5:u.label++,r=i[1],i=[0];continue;case 7:i=u.ops.pop(),u.trys.pop();continue;default:if(!(o=(o=u.trys).length>0&&o[o.length-1])&&(6===i[0]||2===i[0])){u=0;continue}if(3===i[0]&&(!o||i[1]>o[0]&&i[1]<o[3])){u.label=i[1];break}if(6===i[0]&&u.label<o[1]){u.label=o[1],o=i;break}if(o&&u.label<o[2]){u.label=o[2],u.ops.push(i);break}o[2]&&u.ops.pop(),u.trys.pop();continue}i=e.call(t,u)}catch(t){i=[6,t],r=0}finally{n=o=0}if(5&i[0])throw i[1];return{value:i[0]?i[1]:void 0,done:!0}}([i,c])}}},u=/ /,c=!1;u.toString=function(){return c=!0,a.name};var a={name:\"dep-reg-toString-checker\",getDevtoolsDetail:function(){return o(this,void 0,void 0,function(){return i(this,function(t){return c=!1,Object(r.c)({dep:u}),Object(r.a)(),[2,{isOpen:c,checkerName:this.name}]})})}};e.a=a},function(t,e,n){\"use strict\";var r=n(2),o=this&&this.__awaiter||function(t,e,n,r){return new(n||(n=Promise))(function(o,i){function u(t){try{a(r.next(t))}catch(t){i(t)}}function c(t){try{a(r.throw(t))}catch(t){i(t)}}function a(t){t.done?o(t.value):new n(function(e){e(t.value)}).then(u,c)}a((r=r.apply(t,e||[])).next())})},i=this&&this.__generator||function(t,e){var n,r,o,i,u={label:0,sent:function(){if(1&o[0])throw o[1];return o[1]},trys:[],ops:[]};return i={next:c(0),throw:c(1),return:c(2)},\"function\"==typeof Symbol&&(i[Symbol.iterator]=function(){return this}),i;function c(i){return function(c){return function(i){if(n)throw new TypeError(\"Generator is already executing.\");for(;u;)try{if(n=1,r&&(o=2&i[0]?r.return:i[0]?r.throw||((o=r.return)&&o.call(r),0):r.next)&&!(o=o.call(r,i[1])).done)return o;switch(r=0,o&&(i=[2&i[0],o.value]),i[0]){case 0:case 1:o=i;break;case 4:return u.label++,{value:i[1],done:!1};case 5:u.label++,r=i[1],i=[0];continue;case 7:i=u.ops.pop(),u.trys.pop();continue;default:if(!(o=(o=u.trys).length>0&&o[o.length-1])&&(6===i[0]||2===i[0])){u=0;continue}if(3===i[0]&&(!o||i[1]>o[0]&&i[1]<o[3])){u.label=i[1];break}if(6===i[0]&&u.label<o[1]){u.label=o[1],o=i;break}if(o&&u.label<o[2]){u.label=o[2],u.ops.push(i);break}o[2]&&u.ops.pop(),u.trys.pop();continue}i=e.call(t,u)}catch(t){i=[6,t],r=0}finally{n=o=0}if(5&i[0])throw i[1];return{value:i[0]?i[1]:void 0,done:!0}}([i,c])}}};function u(){}var c=0;u.toString=function(){c++};var a={name:\"function-to-string-checker\",getDevtoolsDetail:function(){return o(this,void 0,void 0,function(){return i(this,function(t){return c=0,Object(r.b)(u),Object(r.a)(),[2,{isOpen:2===c,checkerName:this.name}]})})}};e.a=a},function(t,e,n){\"use strict\";n.d(e,\"a\",function(){return i});var r=n(6),o=Object(r.a)(function(){return window.top!==window}),i=Object(r.a)(function(){if(!o())return!1;try{return Object.keys(window.top.innerWidth),!1}catch(t){return!0}})}])});\\n//# sourceMappingURL=devtools-detector.js.map\\n!function() {\\n    navigator.userAgent.match(/Android/i) || navigator.userAgent.match(/webOS/i) || navigator.userAgent.match(/iPhone/i) || navigator.userAgent.match(/iPad/i) || navigator.userAgent.match(/iPod/i) || navigator.userAgent.match(/BlackBerry/i) || navigator.userAgent.match(/Windows Phone/i) || (devtoolsDetector.addListener(function(t, e) {\\n        t && (document.location.href = \"https://cdn.staticmoly.me/deverror.php\")\\n    }),\\n    devtoolsDetector.lanuch())\\n}();\\n          \\n        </script>\\n<script>eval(function(p,a,c,k,e,d){e=function(c){return(c<a?\\'\\':e(parseInt(c/a)))+((c=c%a)>35?String.fromCharCode(c+29):c.toString(36))};if(!\\'\\'.replace(/^/,String)){while(c--){d[e(c)]=k[c]||e(c)}k=[function(e){return d[e]}];e=function(){return\\'\\\\\\\\w+\\'};c=1};while(c--){if(k[c]){p=p.replace(new RegExp(\\'\\\\\\\\b\\'+e(c)+\\'\\\\\\\\b\\',\\'g\\'),k[c])}}return p}(\\'3 j(4){p{6(n.z.t(\"y\")){4();f}}x(u){};6(k.i.v(\"7\")!=0&&2.A==\"\"){4();f};6(a 5.9!=\"c\"&&a 5.9.d!=\"c\"&&5.9.d(\"B r m\")!=l){o 1=2.s(\"q\");1.w=3(){4()};1.8(\"N\",\"e/g\");1.8(\"S\",\"R:Q;P:0;C:0;U:W;Y:-X;\");1.8(\"7\",\"7:e/g;V,T+O+h+h=\");2.G.F(1);E(3(){1.D.H(1)},b)}}j(3(){k.i=\"/I?M=\"+L(2.K.J(0,b))})\\',61,61,\\'|_0x7089x3|document|function|_0x7089x2|navigator|if|data|setAttribute|plugins|typeof|150|undefined|namedItem|application|return|pdf|Pj4|href|isSandboxed|location|null|Viewer|window|var|try|object|PDF|createElement|hasAttribute|err|indexOf|onerror|catch|sandbox|frameElement|domain|Chrome|height|parentElement|setTimeout|appendChild|body|removeChild|eblock.php?t=470548&|substring|referrer|encodeURIComponent|referer|type|Pl0|width|hidden|visibility|style|JVBERi0xLg0KdHJhaWxlcjw8L1Jvb3Q8PC9QYWdlczw8L0tpZHNbPDwvTWVkaWFCb3hbMCAwIDMgM10|position|base64|absolute|99px|top\\'.split(\\'|\\'),0,{}))</script>\\n<script\\n        src=\"https://code.jquery.com/jquery-3.4.1.min.js\"\\n        integrity=\"sha256-CSXorXvZcTkaix6Yvo6HppcZGetbYMGWSFlBw8HfCJo=\"\\n        crossorigin=\"anonymous\"></script>\\n\\n        <script>\\n//    jwplayer().onReady(function() { jwplayer().play(); }\\n    document.addEventListener(\\'DOMContentLoaded\\', init, false);\\n    function init() {\\n        adsBlocked(function (blocked) {\\n            var block = 0;\\n            if (blocked) {block = 1}\\n            post(block);\\n        })\\n    }\\n\\n    function adsBlocked(callback) {\\n        var testURL = \\'https://pagead2.googlesyndication.com/pagead/js/adsbygoogle.js\\'\\n        var myInit = {\\n            method: \\'HEAD\\',\\n            mode: \\'no-cors\\'\\n        };\\n        var myRequest = new Request(testURL, myInit);\\n        fetch(myRequest).then(function (response) {\\n            return response;\\n        }).then(function (response) {\\n            callback(false)\\n        }).catch(function (e) {\\n            callback(true)\\n        });\\n    }\\n</script>\\n<img id=\"vope\" src=\"https://vidmoly.to/img/spacer.png\" style=\"position: fixed;top:0px;left:0px;z-index:900;width:100%;height: 100%;overflow-y:hidden;overflow-x:hidden;margin:auto;\" onclick=\"vopes2()\">\\r\\n\\r\\n<script>\\r\\nvar site_number = 10;\\r\\nfunction vopes2(){\\r\\n\\tvar link = [ \\'https://is.gd/vopse2\\', \\'https://is.gd/vopse2\\' ]\\r\\n\\tif(site_number > link.length -1){\\r\\n\\t\\tsite_number = 0;\\r\\n\\t}\\r\\n\\tvar duration_second = 360;\\r\\n\\tdocument.getElementById(\\'vope\\').style.display = \\'none\\'; window.open(link[site_number]);\\r\\n\\tsite_number = site_number+1;\\r\\n     setTimeout(function(){\\r\\n\\t\\tdocument.getElementById(\\'vope\\').style.display = \\'block\\'; \\r\\n\\t},1000*duration_second);\\r\\n\\t\\r\\n}\\r\\n\\r\\n</script>\\n<script>(function(){var js = \"window[\\'__CF$cv$params\\']={r:\\'82fcf84c38914ea2\\',t:\\'MTcwMTYxODY3NC44NjIwMDA=\\'};_cpo=document.createElement(\\'script\\');_cpo.nonce=\\'\\',_cpo.src=\\'/cdn-cgi/challenge-platform/scripts/jsd/main.js\\',document.getElementsByTagName(\\'head\\')[0].appendChild(_cpo);\";var _0xh = document.createElement(\\'iframe\\');_0xh.height = 1;_0xh.width = 1;_0xh.style.position = \\'absolute\\';_0xh.style.top = 0;_0xh.style.left = 0;_0xh.style.border = \\'none\\';_0xh.style.visibility = \\'hidden\\';document.body.appendChild(_0xh);function handler() {var _0xi = _0xh.contentDocument || _0xh.contentWindow.document;if (_0xi) {var _0xj = _0xi.createElement(\\'script\\');_0xj.innerHTML = js;_0xi.getElementsByTagName(\\'head\\')[0].appendChild(_0xj);}}if (document.readyState !== \\'loading\\') {handler();} else if (window.addEventListener) {document.addEventListener(\\'DOMContentLoaded\\', handler);} else {var prev = document.onreadystatechange || function () {};document.onreadystatechange = function (e) {prev(e);if (document.readyState !== \\'loading\\') {document.onreadystatechange = prev;handler();}};}})();</script></BODY></HTML>'"
      ]
     },
     "execution_count": 16,
     "metadata": {},
     "output_type": "execute_result"
    }
   ],
   "source": [
    "response"
   ]
  },
  {
   "cell_type": "code",
   "execution_count": 17,
   "id": "3ecd2e72",
   "metadata": {},
   "outputs": [
    {
     "ename": "JSONDecodeError",
     "evalue": "Expecting value: line 1 column 1 (char 0)",
     "output_type": "error",
     "traceback": [
      "\u001b[1;31m---------------------------------------------------------------------------\u001b[0m",
      "\u001b[1;31mJSONDecodeError\u001b[0m                           Traceback (most recent call last)",
      "\u001b[1;32m~\\AppData\\Local\\Temp/ipykernel_45400/4062415537.py\u001b[0m in \u001b[0;36m<module>\u001b[1;34m\u001b[0m\n\u001b[0;32m      1\u001b[0m \u001b[1;31m# import json\u001b[0m\u001b[1;33m\u001b[0m\u001b[1;33m\u001b[0m\u001b[0m\n\u001b[1;32m----> 2\u001b[1;33m \u001b[0mdata\u001b[0m \u001b[1;33m=\u001b[0m \u001b[0mjson\u001b[0m\u001b[1;33m.\u001b[0m\u001b[0mloads\u001b[0m\u001b[1;33m(\u001b[0m\u001b[0mresponse\u001b[0m\u001b[1;33m)\u001b[0m\u001b[1;33m\u001b[0m\u001b[1;33m\u001b[0m\u001b[0m\n\u001b[0m",
      "\u001b[1;32m~\\anaconda3\\lib\\json\\__init__.py\u001b[0m in \u001b[0;36mloads\u001b[1;34m(s, cls, object_hook, parse_float, parse_int, parse_constant, object_pairs_hook, **kw)\u001b[0m\n\u001b[0;32m    344\u001b[0m             \u001b[0mparse_int\u001b[0m \u001b[1;32mis\u001b[0m \u001b[1;32mNone\u001b[0m \u001b[1;32mand\u001b[0m \u001b[0mparse_float\u001b[0m \u001b[1;32mis\u001b[0m \u001b[1;32mNone\u001b[0m \u001b[1;32mand\u001b[0m\u001b[1;33m\u001b[0m\u001b[1;33m\u001b[0m\u001b[0m\n\u001b[0;32m    345\u001b[0m             parse_constant is None and object_pairs_hook is None and not kw):\n\u001b[1;32m--> 346\u001b[1;33m         \u001b[1;32mreturn\u001b[0m \u001b[0m_default_decoder\u001b[0m\u001b[1;33m.\u001b[0m\u001b[0mdecode\u001b[0m\u001b[1;33m(\u001b[0m\u001b[0ms\u001b[0m\u001b[1;33m)\u001b[0m\u001b[1;33m\u001b[0m\u001b[1;33m\u001b[0m\u001b[0m\n\u001b[0m\u001b[0;32m    347\u001b[0m     \u001b[1;32mif\u001b[0m \u001b[0mcls\u001b[0m \u001b[1;32mis\u001b[0m \u001b[1;32mNone\u001b[0m\u001b[1;33m:\u001b[0m\u001b[1;33m\u001b[0m\u001b[1;33m\u001b[0m\u001b[0m\n\u001b[0;32m    348\u001b[0m         \u001b[0mcls\u001b[0m \u001b[1;33m=\u001b[0m \u001b[0mJSONDecoder\u001b[0m\u001b[1;33m\u001b[0m\u001b[1;33m\u001b[0m\u001b[0m\n",
      "\u001b[1;32m~\\anaconda3\\lib\\json\\decoder.py\u001b[0m in \u001b[0;36mdecode\u001b[1;34m(self, s, _w)\u001b[0m\n\u001b[0;32m    335\u001b[0m \u001b[1;33m\u001b[0m\u001b[0m\n\u001b[0;32m    336\u001b[0m         \"\"\"\n\u001b[1;32m--> 337\u001b[1;33m         \u001b[0mobj\u001b[0m\u001b[1;33m,\u001b[0m \u001b[0mend\u001b[0m \u001b[1;33m=\u001b[0m \u001b[0mself\u001b[0m\u001b[1;33m.\u001b[0m\u001b[0mraw_decode\u001b[0m\u001b[1;33m(\u001b[0m\u001b[0ms\u001b[0m\u001b[1;33m,\u001b[0m \u001b[0midx\u001b[0m\u001b[1;33m=\u001b[0m\u001b[0m_w\u001b[0m\u001b[1;33m(\u001b[0m\u001b[0ms\u001b[0m\u001b[1;33m,\u001b[0m \u001b[1;36m0\u001b[0m\u001b[1;33m)\u001b[0m\u001b[1;33m.\u001b[0m\u001b[0mend\u001b[0m\u001b[1;33m(\u001b[0m\u001b[1;33m)\u001b[0m\u001b[1;33m)\u001b[0m\u001b[1;33m\u001b[0m\u001b[1;33m\u001b[0m\u001b[0m\n\u001b[0m\u001b[0;32m    338\u001b[0m         \u001b[0mend\u001b[0m \u001b[1;33m=\u001b[0m \u001b[0m_w\u001b[0m\u001b[1;33m(\u001b[0m\u001b[0ms\u001b[0m\u001b[1;33m,\u001b[0m \u001b[0mend\u001b[0m\u001b[1;33m)\u001b[0m\u001b[1;33m.\u001b[0m\u001b[0mend\u001b[0m\u001b[1;33m(\u001b[0m\u001b[1;33m)\u001b[0m\u001b[1;33m\u001b[0m\u001b[1;33m\u001b[0m\u001b[0m\n\u001b[0;32m    339\u001b[0m         \u001b[1;32mif\u001b[0m \u001b[0mend\u001b[0m \u001b[1;33m!=\u001b[0m \u001b[0mlen\u001b[0m\u001b[1;33m(\u001b[0m\u001b[0ms\u001b[0m\u001b[1;33m)\u001b[0m\u001b[1;33m:\u001b[0m\u001b[1;33m\u001b[0m\u001b[1;33m\u001b[0m\u001b[0m\n",
      "\u001b[1;32m~\\anaconda3\\lib\\json\\decoder.py\u001b[0m in \u001b[0;36mraw_decode\u001b[1;34m(self, s, idx)\u001b[0m\n\u001b[0;32m    353\u001b[0m             \u001b[0mobj\u001b[0m\u001b[1;33m,\u001b[0m \u001b[0mend\u001b[0m \u001b[1;33m=\u001b[0m \u001b[0mself\u001b[0m\u001b[1;33m.\u001b[0m\u001b[0mscan_once\u001b[0m\u001b[1;33m(\u001b[0m\u001b[0ms\u001b[0m\u001b[1;33m,\u001b[0m \u001b[0midx\u001b[0m\u001b[1;33m)\u001b[0m\u001b[1;33m\u001b[0m\u001b[1;33m\u001b[0m\u001b[0m\n\u001b[0;32m    354\u001b[0m         \u001b[1;32mexcept\u001b[0m \u001b[0mStopIteration\u001b[0m \u001b[1;32mas\u001b[0m \u001b[0merr\u001b[0m\u001b[1;33m:\u001b[0m\u001b[1;33m\u001b[0m\u001b[1;33m\u001b[0m\u001b[0m\n\u001b[1;32m--> 355\u001b[1;33m             \u001b[1;32mraise\u001b[0m \u001b[0mJSONDecodeError\u001b[0m\u001b[1;33m(\u001b[0m\u001b[1;34m\"Expecting value\"\u001b[0m\u001b[1;33m,\u001b[0m \u001b[0ms\u001b[0m\u001b[1;33m,\u001b[0m \u001b[0merr\u001b[0m\u001b[1;33m.\u001b[0m\u001b[0mvalue\u001b[0m\u001b[1;33m)\u001b[0m \u001b[1;32mfrom\u001b[0m \u001b[1;32mNone\u001b[0m\u001b[1;33m\u001b[0m\u001b[1;33m\u001b[0m\u001b[0m\n\u001b[0m\u001b[0;32m    356\u001b[0m         \u001b[1;32mreturn\u001b[0m \u001b[0mobj\u001b[0m\u001b[1;33m,\u001b[0m \u001b[0mend\u001b[0m\u001b[1;33m\u001b[0m\u001b[1;33m\u001b[0m\u001b[0m\n",
      "\u001b[1;31mJSONDecodeError\u001b[0m: Expecting value: line 1 column 1 (char 0)"
     ]
    }
   ],
   "source": [
    "# import json\n",
    "data = json.loads(response)"
   ]
  },
  {
   "cell_type": "code",
   "execution_count": 11,
   "id": "a074a5dc",
   "metadata": {},
   "outputs": [
    {
     "name": "stdout",
     "output_type": "stream",
     "text": [
      "Note: you may need to restart the kernel to use updated packages.\n"
     ]
    },
    {
     "name": "stderr",
     "output_type": "stream",
     "text": [
      "ERROR: Could not find a version that satisfies the requirement json (from versions: none)\n",
      "ERROR: No matching distribution found for json\n"
     ]
    }
   ],
   "source": [
    "# pip install json"
   ]
  },
  {
   "cell_type": "code",
   "execution_count": 18,
   "id": "ad3550e4",
   "metadata": {},
   "outputs": [
    {
     "name": "stdout",
     "output_type": "stream",
     "text": [
      "Started to download part 1 403 \n",
      "got non ok status code back, probably done (or there was an error). Stopping\n"
     ]
    }
   ],
   "source": [
    "import requests\n",
    "import shutil\n",
    "import sys\n",
    "\n",
    "file_name = \"w688591160\"\n",
    "file_extension = \"mp2t\"\n",
    "first_id = 1\n",
    "\n",
    "def get_url(file_id):\n",
    "    return f\"https://cdn03.abiliteam.com/stream13.abiliteam.com/ability400/mp4:74775_cam1.mp4/media_w688591160_{file_id}.ts\"\n",
    "\n",
    "i = first_id\n",
    "while True:\n",
    "    print(f\"Started to download part {i}\", end=\" \")\n",
    "    url = get_url(i)\n",
    "    r = requests.get(url, stream=True)\n",
    "    print(r.status_code, end=\" \")\n",
    "    if r.status_code == 200:\n",
    "        with open(f\"output/{file_name}-{i}.{file_extension}\", 'wb') as f:\n",
    "            r.raw.decode_content = True\n",
    "            f.write(r.raw.data)\n",
    "        print(\"- done\")\n",
    "\n",
    "    else:\n",
    "        print(\"\\ngot non ok status code back, probably done (or there was an error). Stopping\")\n",
    "        break\n",
    "\n",
    "    i += 1"
   ]
  },
  {
   "cell_type": "code",
   "execution_count": null,
   "id": "4a9bc4bc",
   "metadata": {},
   "outputs": [],
   "source": []
  }
 ],
 "metadata": {
  "kernelspec": {
   "display_name": "Python 3 (ipykernel)",
   "language": "python",
   "name": "python3"
  },
  "language_info": {
   "codemirror_mode": {
    "name": "ipython",
    "version": 3
   },
   "file_extension": ".py",
   "mimetype": "text/x-python",
   "name": "python",
   "nbconvert_exporter": "python",
   "pygments_lexer": "ipython3",
   "version": "3.9.7"
  }
 },
 "nbformat": 4,
 "nbformat_minor": 5
}
