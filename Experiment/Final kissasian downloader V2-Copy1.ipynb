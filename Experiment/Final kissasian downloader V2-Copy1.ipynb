{
 "cells": [
  {
   "cell_type": "markdown",
   "id": "46add65f",
   "metadata": {},
   "source": [
    "# Kissasian Downloader"
   ]
  },
  {
   "cell_type": "markdown",
   "id": "b51d81b2",
   "metadata": {},
   "source": [
    "## Link of the series (homepage: https://kissasian.lu): "
   ]
  },
  {
   "cell_type": "code",
   "execution_count": 7,
   "id": "e3435da6",
   "metadata": {},
   "outputs": [],
   "source": [
    "urlSeries = 'https://kissasian.lu/Drama/Heaven'"
   ]
  },
  {
   "cell_type": "code",
   "execution_count": 8,
   "id": "27beb66a",
   "metadata": {},
   "outputs": [],
   "source": [
    "import requests\n",
    "from bs4 import BeautifulSoup\n",
    "import re\n",
    "import time\n",
    "from IPython.display import clear_output\n",
    "import threading\n",
    "import os\n",
    "import pandas as pd\n",
    "from openpyxl import load_workbook\n",
    "from selenium import webdriver\n",
    "from selenium.webdriver.common.by import By\n",
    "import pandas as pd\n",
    "import numpy as np\n",
    "from openpyxl import load_workbook"
   ]
  },
  {
   "cell_type": "markdown",
   "id": "99f6d3ea",
   "metadata": {},
   "source": [
    "## Please enter information below:"
   ]
  },
  {
   "cell_type": "code",
   "execution_count": 9,
   "id": "42838425",
   "metadata": {},
   "outputs": [],
   "source": [
    "seriesName = urlSeries.replace('https://kissasian.lu/Drama/','')\n",
    "seriesName = seriesName.replace('-',' ')\n",
    "downloadDIR = os.getcwd()+'\\\\out\\\\video'\n",
    "pathToMine = os.getcwd()+'\\\\out\\\\Mine.xlsx'"
   ]
  },
  {
   "cell_type": "code",
   "execution_count": 10,
   "id": "9f8abb49",
   "metadata": {},
   "outputs": [],
   "source": [
    "# Temporary List Variables\n",
    "episodeMark = []\n",
    "linkTitles = []\n",
    "mp4UploadLink = []\n",
    "mp4UploadLinkForDownload = []\n",
    "replace = []\n",
    "# Trick\n",
    "headers = {'User-Agent':'Mozilla/5.0 (Windows NT 10.0; Win64; x64) AppleWebKit/537.36 (KHTML, like Gecko) Chrome/119.0.0.0 Safari/537.36'}"
   ]
  },
  {
   "cell_type": "markdown",
   "id": "3cfe3b63",
   "metadata": {},
   "source": [
    "#### Downloader magic function"
   ]
  },
  {
   "cell_type": "code",
   "execution_count": 11,
   "id": "1bcb801f",
   "metadata": {},
   "outputs": [],
   "source": [
    "from tqdm.notebook import tqdm\n",
    "import requests\n",
    "def download_file_mp4uploadAdd9xm(url,n):\n",
    "    flag = True\n",
    "    if len(str(n))==1:\n",
    "        temp_str = seriesName+' ep 00'+str(n)+'.mp4'        \n",
    "    elif len(str(n))==2:\n",
    "        temp_str = seriesName+' ep 0'+str(n)+'.mp4'\n",
    "    else:\n",
    "        temp_str = seriesName+' ep '+str(n)+'.mp4'\n",
    "        \n",
    "#     Find Link:\n",
    "    # prefs = {\"download.default_directory\" : downloadDIR}\n",
    "    options = webdriver.ChromeOptions()\n",
    "    options.add_argument('--incognito')\n",
    "    # options.add_experimental_option(\"prefs\",prefs)\n",
    "    driver = webdriver.Chrome(options=options)  \n",
    "    urlHead9xB = 'http://9xbud.com/'\n",
    "    \n",
    "    temp_link = urlHead9xB+url[12:]\n",
    "    driver.get(temp_link)\n",
    "    time.sleep(10)\n",
    "    temp_s = BeautifulSoup(driver.page_source,'lxml')\n",
    "    temp_x_find_a = temp_s.find_all('a', attrs={'class':'max-w-sm mx-auto group block sm:inline-block border border-blue-500 px-6 w-full lg:w-auto lg:px-6 py-2 leading-4 text-blue-500 no-underline hover:border-blue-300 shadow'})\n",
    "    url = temp_x_find_a[1].get('href')    \n",
    "    \n",
    "    driver.close()\n",
    "    \n",
    "    \n",
    "    # url = \"http://www.ovh.net/files/10Mb.dat\" #big file test\n",
    "#     url = link\n",
    "    headers = {'User-Agent':'Mozilla/5.0 (Windows NT 10.0; Win64; x64) AppleWebKit/537.36 (KHTML, like Gecko) Chrome/119.0.0.0 Safari/537.36'}\n",
    "    \n",
    "    # Streaming, so we can iterate over the response.\n",
    "    response = requests.get(url,headers = headers, stream=True)\n",
    "    total_size_in_bytes= int(response.headers.get('content-length', 0))\n",
    "    block_size = 1024 #1 Kibibyte\n",
    "    \n",
    "    if(os.path.exists(str_path + '\\\\' + temp_str)):\n",
    "        local_size = os.path.getsize(str_path+'\\\\'+temp_str)\n",
    "        if(local_size == total_size_in_bytes):\n",
    "            print(temp_str+\" already downloaded\")\n",
    "            flag = False\n",
    "    if flag:\n",
    "        progress_bar = tqdm( desc=temp_str,total=total_size_in_bytes, unit='iB', unit_scale=True)\n",
    "        with open(temp_str, 'wb') as file:\n",
    "            for data in response.iter_content(block_size):\n",
    "    #             print(response.status_code)\n",
    "                progress_bar.update(len(data))\n",
    "                file.write(data)\n",
    "                global stop_threads\n",
    "                if stop_threads:\n",
    "                    break\n",
    "        progress_bar.close()\n",
    "        if total_size_in_bytes != 0 and progress_bar.n != total_size_in_bytes:\n",
    "            print(\"ERROR, something went wrong\")\n",
    "            if (os.path.exists(str_path + '\\\\' + temp_str)):\n",
    "                os.remove(str_path + '\\\\' + temp_str)\n",
    "        if(response.status_code == 403):\n",
    "            if (os.path.exists(str_path + '\\\\' + temp_str)):\n",
    "                os.remove(str_path + '\\\\' + temp_str)\n",
    "        global stop_threads_1\n",
    "#         stop_threads_1 = True\n",
    "#         break\n",
    "#     break"
   ]
  },
  {
   "cell_type": "code",
   "execution_count": 12,
   "id": "fc932398",
   "metadata": {},
   "outputs": [],
   "source": [
    "str_path = downloadDIR + '\\\\'+seriesName\n",
    "isFirstRun = os.path.isdir(downloadDIR)\n",
    "isPathExist = os.path.isdir(str_path)\n",
    "check_file = False\n",
    "resumeDownloadThread = False"
   ]
  },
  {
   "cell_type": "code",
   "execution_count": 13,
   "id": "997586af",
   "metadata": {},
   "outputs": [],
   "source": [
    "if (not(isFirstRun)):\n",
    "    os.makedirs(downloadDIR)"
   ]
  },
  {
   "cell_type": "code",
   "execution_count": 14,
   "id": "534ab929",
   "metadata": {},
   "outputs": [],
   "source": [
    "if (isPathExist):\n",
    "    check_file = True\n",
    "else:\n",
    "    os.mkdir(str_path)"
   ]
  },
  {
   "cell_type": "code",
   "execution_count": 15,
   "id": "1cccb718",
   "metadata": {},
   "outputs": [],
   "source": [
    "# prefs = {\"download.default_directory\" : downloadDIR}\n",
    "options = webdriver.ChromeOptions()\n",
    "options.add_argument('--incognito')\n",
    "# options.add_experimental_option(\"prefs\",prefs)\n",
    "driver = webdriver.Chrome(options=options)  \n",
    "urlHead9xB = 'http://9xbud.com/'"
   ]
  },
  {
   "cell_type": "code",
   "execution_count": 16,
   "id": "a9f9c991",
   "metadata": {},
   "outputs": [
    {
     "data": {
      "text/plain": [
       "True"
      ]
     },
     "execution_count": 16,
     "metadata": {},
     "output_type": "execute_result"
    }
   ],
   "source": [
    "wb = load_workbook(pathToMine, read_only=True)   # open an Excel file and return a workbook\n",
    "    \n",
    "if seriesName in wb.sheetnames:\n",
    "    resumeDownloadThread = True    \n",
    "#     print('sheet1 exists')\n",
    "check_file"
   ]
  },
  {
   "cell_type": "code",
   "execution_count": 17,
   "id": "e359451a",
   "metadata": {},
   "outputs": [],
   "source": [
    "if (check_file)and(resumeDownloadThread):\n",
    "    resumeDownloadThread = True\n",
    "    df = pd.read_excel(pathToMine,sheet_name=seriesName)\n",
    "    for i in range(df.shape[0]):\n",
    "        episodeMark.append(df['episode name'][i])\n",
    "        linkTitles.append(df['Kissasian Link'][i])\n",
    "        mp4UploadLink.append(df['mp4Upload Link'][i])"
   ]
  },
  {
   "cell_type": "code",
   "execution_count": 18,
   "id": "ee3186da",
   "metadata": {},
   "outputs": [],
   "source": [
    "driver.close()"
   ]
  },
  {
   "cell_type": "code",
   "execution_count": 19,
   "id": "da415f8c",
   "metadata": {},
   "outputs": [],
   "source": [
    "if(not(resumeDownloadThread)):\n",
    "#   Get the episode links:  \n",
    "    page = requests.get(urlSeries)\n",
    "    s = BeautifulSoup(page.text,'lxml')\n",
    "    titles = s.find_all('li', attrs={'class':'episodeSub'})\n",
    "    linkTitles = [title.a.get('href') for title in titles]\n",
    "    linkTitles.reverse()\n",
    "          "
   ]
  },
  {
   "cell_type": "code",
   "execution_count": 20,
   "id": "b1b2f9af",
   "metadata": {},
   "outputs": [],
   "source": [
    "if(not(resumeDownloadThread)):\n",
    "    n = 1\n",
    "    episodeMark = [];\n",
    "    for i in linkTitles:\n",
    "        if len(str(n))==1:\n",
    "            temp_str = seriesName+' ep 00'+str(n)+'.mp4'        \n",
    "        elif len(str(n))==2:\n",
    "            temp_str = seriesName+' ep 0'+str(n)+'.mp4'\n",
    "        else:\n",
    "            temp_str = seriesName+' ep '+str(n)+'.mp4'\n",
    "        episodeMark.append(temp_str)\n",
    "        n = n + 1"
   ]
  },
  {
   "cell_type": "code",
   "execution_count": 21,
   "id": "f3e477a6",
   "metadata": {},
   "outputs": [],
   "source": [
    "if(not(resumeDownloadThread)):\n",
    "    # prefs = {\"download.default_directory\" : downloadDIR}\n",
    "    options = webdriver.ChromeOptions()\n",
    "    options.add_argument('--incognito')\n",
    "    # options.add_experimental_option(\"prefs\",prefs)\n",
    "    driver = webdriver.Chrome(options=options)    "
   ]
  },
  {
   "cell_type": "code",
   "execution_count": null,
   "id": "cd3228c4",
   "metadata": {},
   "outputs": [],
   "source": []
  },
  {
   "cell_type": "code",
   "execution_count": 22,
   "id": "f4d6c2f1",
   "metadata": {},
   "outputs": [],
   "source": [
    "urlDomain = 'https://kissasian.lu'\n",
    "urlMobile = '/Mobile/SwitchToMobile' \n",
    "urlHead9xB = 'http://9xbud.com/'"
   ]
  },
  {
   "cell_type": "code",
   "execution_count": 23,
   "id": "effba1bf",
   "metadata": {},
   "outputs": [],
   "source": [
    "if(not(resumeDownloadThread)):\n",
    "    driver.get(urlDomain+urlMobile)\n",
    "    \n",
    "    for link in linkTitles:\n",
    "        driver.get(urlDomain+link+'&s=mp')\n",
    "        temp_x = driver.page_source\n",
    "        temp_s = BeautifulSoup(temp_x,'lxml')\n",
    "        temp_x_find_a = temp_s.find_all('a')\n",
    "        mp4UploadLink.append(temp_x_find_a[12].get('href'))\n",
    "    "
   ]
  },
  {
   "cell_type": "code",
   "execution_count": 24,
   "id": "2674ff37",
   "metadata": {},
   "outputs": [],
   "source": [
    "if(not(resumeDownloadThread)):\n",
    "    driver.close()\n",
    "    data = {\n",
    "        'episode name' : episodeMark,\n",
    "        'Kissasian Link' : linkTitles,\n",
    "        'mp4Upload Link' : mp4UploadLink,\n",
    "#         '9xbud Link' : mp4UploadLinkForDownload\n",
    "    }\n",
    "    df = pd.DataFrame(data)"
   ]
  },
  {
   "cell_type": "code",
   "execution_count": 25,
   "id": "c13b8cd7",
   "metadata": {},
   "outputs": [],
   "source": [
    "if(not(resumeDownloadThread)):\n",
    "    if(not(os.path.exists(pathToMine))):\n",
    "#         book = load_workbook(pathToMine)\n",
    "#         writer = pd.ExcelWriter(pathToMine, engine = 'openpyxl')\n",
    "#         writer.book = book\n",
    "        writer = pd.ExcelWriter(pathToMine, engine = 'xlsxwriter')\n",
    "        df.to_excel(writer, sheet_name = seriesName)\n",
    "        writer.close()        \n",
    "#         print('if')\n",
    "    else:\n",
    "#         print('else')\n",
    "        with pd.ExcelWriter(pathToMine, engine='openpyxl', mode='a',if_sheet_exists='replace') as writer:  \n",
    "            df.to_excel(writer, sheet_name=seriesName)"
   ]
  },
  {
   "cell_type": "code",
   "execution_count": 26,
   "id": "9d5e0958",
   "metadata": {},
   "outputs": [
    {
     "name": "stdout",
     "output_type": "stream",
     "text": [
      "Heaven ep 001.mp4 already downloaded\n",
      "Heaven ep 003.mp4 already downloaded\n",
      "Heaven ep 002.mp4 already downloaded\n",
      "Heaven ep 005.mp4 already downloaded\n",
      "Heaven ep 004.mp4 already downloaded\n",
      "Heaven ep 006.mp4 already downloaded\n",
      "Heaven ep 009.mp4 already downloaded\n",
      "Heaven ep 007.mp4 already downloaded\n",
      "Heaven ep 008.mp4 already downloaded\n",
      "Heaven ep 010.mp4 already downloaded\n"
     ]
    }
   ],
   "source": [
    "sleep_count = 10\n",
    "n = 1\n",
    "m = 0\n",
    "z = 0\n",
    "os.chdir(str_path)\n",
    "flagFinish = False\n",
    "episode_number = len(mp4UploadLink)\n",
    "thread_one = threading.Thread()\n",
    "thread_two = threading.Thread()\n",
    "thread_three = threading.Thread()\n",
    "# thread_four = threading.Thread()\n",
    "# thread_five = threading.Thread()\n",
    "# print(episode_fold_number)\n",
    "# print(episode_fold_number)\n",
    "\n",
    "while not(flagFinish):\n",
    "    if(not(thread_one.is_alive())):\n",
    "        thread_one = threading.Thread(target=download_file_mp4uploadAdd9xm,args=(mp4UploadLink[m],n))\n",
    "        thread_one.start()\n",
    "        m = m + 1\n",
    "        n = n + 1\n",
    "        if m == episode_number:\n",
    "            flagFinish = True\n",
    "    elif(not(thread_two.is_alive())):\n",
    "        thread_two = threading.Thread(target=download_file_mp4uploadAdd9xm,args=(mp4UploadLink[m],n))\n",
    "        thread_two.start()\n",
    "        m = m + 1\n",
    "        n = n + 1\n",
    "        if m == episode_number:\n",
    "            flagFinish = True\n",
    "    elif(not(thread_three.is_alive())):\n",
    "        thread_three = threading.Thread(target=download_file_mp4uploadAdd9xm,args=(mp4UploadLink[m],n))\n",
    "        thread_three.start()\n",
    "        m = m + 1\n",
    "        n = n + 1\n",
    "        if m == episode_number:\n",
    "            flagFinish = True\n",
    "#     elif(not(thread_four.is_alive())):\n",
    "#         thread_four = threading.Thread(target=download_file_mp4upload,args=(mp4UploadLinkForDownload[m],n))\n",
    "#         thread_four.start()\n",
    "#         m = m + 1\n",
    "#         n = n + 1\n",
    "#         if m == episode_number:\n",
    "#             flagFinish = True\n",
    "#     elif(not(thread_five.is_alive())):\n",
    "#         thread_five = threading.Thread(target=download_file_mp4upload,args=(mp4UploadLinkForDownload[m],n))\n",
    "#         thread_five.start()\n",
    "#         m = m + 1\n",
    "#         n = n + 1\n",
    "#         if m == episode_number:\n",
    "#             flagFinish = True\n",
    "    else:\n",
    "        time.sleep(sleep_count)\n",
    "time.sleep(sleep_count)\n",
    "\n",
    "# print('complete execution')\n",
    "    \n",
    "    \n",
    "# for i in range(episode_remaining_number):\n",
    "#     print(str(n+i))\n",
    "# #     print('hello')\n"
   ]
  },
  {
   "cell_type": "code",
   "execution_count": 21,
   "id": "256b0b77",
   "metadata": {},
   "outputs": [
    {
     "name": "stdout",
     "output_type": "stream",
     "text": [
      "Heaven ep 010.mp4 already downloaded\n"
     ]
    }
   ],
   "source": [
    "os.chdir('..')"
   ]
  },
  {
   "cell_type": "code",
   "execution_count": null,
   "id": "00ee55ea",
   "metadata": {},
   "outputs": [],
   "source": []
  },
  {
   "cell_type": "code",
   "execution_count": 14,
   "id": "4004a31c",
   "metadata": {},
   "outputs": [
    {
     "data": {
      "text/plain": [
       "'https://www.mp4upload.com/zzxtedbq0133'"
      ]
     },
     "execution_count": 14,
     "metadata": {},
     "output_type": "execute_result"
    }
   ],
   "source": [
    "mp4UploadLink[0]"
   ]
  },
  {
   "cell_type": "code",
   "execution_count": 85,
   "id": "114fa6a9",
   "metadata": {},
   "outputs": [],
   "source": [
    "import PyBypass as bypasser"
   ]
  },
  {
   "cell_type": "code",
   "execution_count": 86,
   "id": "87597f09",
   "metadata": {},
   "outputs": [],
   "source": [
    "name = 'mp4upload'"
   ]
  },
  {
   "cell_type": "code",
   "execution_count": null,
   "id": "90183792",
   "metadata": {},
   "outputs": [],
   "source": []
  },
  {
   "cell_type": "code",
   "execution_count": 16,
   "id": "4d26eec1",
   "metadata": {},
   "outputs": [
    {
     "name": "stdout",
     "output_type": "stream",
     "text": [
      "Requirement already satisfied: PyBypass in c:\\users\\user\\anaconda3\\lib\\site-packages (2.0.1)\n",
      "Requirement already satisfied: requests>=2.28.1 in c:\\users\\user\\appdata\\roaming\\python\\python39\\site-packages (from PyBypass) (2.28.1)\n",
      "Requirement already satisfied: beautifulsoup4>=4.11.1 in c:\\users\\user\\anaconda3\\lib\\site-packages (from PyBypass) (4.12.2)\n",
      "Requirement already satisfied: soupsieve>1.2 in c:\\users\\user\\anaconda3\\lib\\site-packages (from beautifulsoup4>=4.11.1->PyBypass) (2.2.1)\n",
      "Requirement already satisfied: urllib3<1.27,>=1.21.1 in c:\\users\\user\\anaconda3\\lib\\site-packages (from requests>=2.28.1->PyBypass) (1.26.7)\n",
      "Requirement already satisfied: charset-normalizer<3,>=2 in c:\\users\\user\\anaconda3\\lib\\site-packages (from requests>=2.28.1->PyBypass) (2.0.4)\n",
      "Requirement already satisfied: certifi>=2017.4.17 in c:\\users\\user\\anaconda3\\lib\\site-packages (from requests>=2.28.1->PyBypass) (2021.10.8)\n",
      "Requirement already satisfied: idna<4,>=2.5 in c:\\users\\user\\anaconda3\\lib\\site-packages (from requests>=2.28.1->PyBypass) (3.2)\n",
      "Note: you may need to restart the kernel to use updated packages.\n"
     ]
    }
   ],
   "source": [
    "pip install PyBypass"
   ]
  },
  {
   "cell_type": "code",
   "execution_count": 89,
   "id": "770e8385",
   "metadata": {},
   "outputs": [
    {
     "data": {
      "text/plain": [
       "{'bypassed_url': 'https://www6.mp4upload.com:183/d/sgxw6jytz3b4quuomowaakcykxjhxuzithhokvb64xemr3wfllgja7gjzmkpizxa6e23i5ln/48342-Episode 1_1565091825.mp4',\n",
       " 'headers ': {'referer': 'https://mp4upload.com'}}"
      ]
     },
     "execution_count": 89,
     "metadata": {},
     "output_type": "execute_result"
    }
   ],
   "source": [
    "by_link = bypasser.bypass(mp4UploadLink[0],name=name)\n",
    "by_link"
   ]
  },
  {
   "cell_type": "code",
   "execution_count": 34,
   "id": "a1c81119",
   "metadata": {},
   "outputs": [
    {
     "data": {
      "text/plain": [
       "'https://www6.mp4upload.com:183/d/sgxw6jytz3b4quuomowaakcykxjhxuzithhokvb64xemr3wflju3j6fwjsqbhcf64ukiakgd/48342-Episode 1_1565091825.mp4'"
      ]
     },
     "execution_count": 34,
     "metadata": {},
     "output_type": "execute_result"
    }
   ],
   "source": [
    "by_link['bypassed_url']"
   ]
  },
  {
   "cell_type": "code",
   "execution_count": 26,
   "id": "103caefe",
   "metadata": {},
   "outputs": [
    {
     "data": {
      "text/plain": [
       "{'referer': 'https://mp4upload.com'}"
      ]
     },
     "execution_count": 26,
     "metadata": {},
     "output_type": "execute_result"
    }
   ],
   "source": [
    "by_link['headers ']"
   ]
  },
  {
   "cell_type": "code",
   "execution_count": 32,
   "id": "2b66467d",
   "metadata": {},
   "outputs": [],
   "source": [
    "headers = {'User-Agent':'Mozilla/5.0 (Windows NT 10.0; Win64; x64) AppleWebKit/537.36 (KHTML, like Gecko) Chrome/119.0.0.0 Safari/537.36','referer': 'https://mp4upload.com'}"
   ]
  },
  {
   "cell_type": "code",
   "execution_count": 87,
   "id": "2b6e1dd0",
   "metadata": {},
   "outputs": [
    {
     "ename": "NameError",
     "evalue": "name 'by_link' is not defined",
     "output_type": "error",
     "traceback": [
      "\u001b[1;31m---------------------------------------------------------------------------\u001b[0m",
      "\u001b[1;31mNameError\u001b[0m                                 Traceback (most recent call last)",
      "\u001b[1;32m~\\AppData\\Local\\Temp/ipykernel_52416/316124961.py\u001b[0m in \u001b[0;36m<module>\u001b[1;34m\u001b[0m\n\u001b[1;32m----> 1\u001b[1;33m \u001b[0mresponse\u001b[0m \u001b[1;33m=\u001b[0m \u001b[0mrequests\u001b[0m\u001b[1;33m.\u001b[0m\u001b[0mget\u001b[0m\u001b[1;33m(\u001b[0m\u001b[0mby_link\u001b[0m\u001b[1;33m[\u001b[0m\u001b[1;34m'bypassed_url'\u001b[0m\u001b[1;33m]\u001b[0m\u001b[1;33m,\u001b[0m\u001b[0mheaders\u001b[0m \u001b[1;33m=\u001b[0m \u001b[0mheader\u001b[0m\u001b[1;33m)\u001b[0m\u001b[1;33m\u001b[0m\u001b[1;33m\u001b[0m\u001b[0m\n\u001b[0m\u001b[0;32m      2\u001b[0m \u001b[1;31m# response.status_code\u001b[0m\u001b[1;33m\u001b[0m\u001b[1;33m\u001b[0m\u001b[0m\n",
      "\u001b[1;31mNameError\u001b[0m: name 'by_link' is not defined"
     ]
    }
   ],
   "source": [
    "response = requests.get(by_link['bypassed_url'],headers = header)\n",
    "# response.status_code"
   ]
  },
  {
   "cell_type": "code",
   "execution_count": 16,
   "id": "f2405aea",
   "metadata": {},
   "outputs": [],
   "source": [
    "header = {\n",
    "    'Accept': 'text/html,application/xhtml+xml,application/xml;q=0.9,image/avif,image/webp,image/apng,*/*;q=0.8,application/signed-exchange;v=b3;q=0.7',\n",
    "    'Accept-Encoding' : 'gzip, deflate, br',\n",
    "    'Accept-Language': 'en-US,en;q=0.9',\n",
    "    'Cache-Control': 'max-age=0',\n",
    "    'Connection': 'keep-alive',\n",
    "    'Cookie': 'lang=english; _gid=GA1.2.1945307652.1701326648; affiliate=pnMddDCYsWwprG3OHA1JRcJDvmS0MDV7YJwevUi3rmeIUBmeDbbo5WveF3%2BPK06AYpaH%2FqFIRZ5M1z%2Fqn7X%2FbbdeMqdw3PStIWMTkoUGbFOhd%2B4t63BdpyeaDxOLGV6AB%2BwxfCdhIR%2FbWY8JoRMy; _gat_gtag_UA_28834041_1=1; _ga=GA1.1.735067842.1701326648; _ga_Z6S9P8LL3D=GS1.1.1701326648.1.1.1701327044.0.0.0',\n",
    "    'Host': 'www6.mp4upload.com:183',\n",
    "    'Referer': 'https://www.mp4upload.com/',\n",
    "    'Sec-Fetch-Dest': 'document',\n",
    "    'Sec-Fetch-Mode': 'navigate',\n",
    "    'Sec-Fetch-Site': 'same-site',\n",
    "    'Sec-Fetch-User': '?1',\n",
    "    'Upgrade-Insecure-Requests': '1',\n",
    "    'User-Agent': 'Mozilla/5.0 (Windows NT 10.0; Win64; x64) AppleWebKit/537.36 (KHTML, like Gecko) Chrome/119.0.0.0 Safari/537.36',\n",
    "    'sec-ch-ua': '\"Google Chrome\";v=\"119\", \"Chromium\";v=\"119\", \"Not?A_Brand\";v=\"24\"',\n",
    "    'sec-ch-ua-mobile': '?0',\n",
    "    'sec-ch-ua-platform': \"Windows\"\n",
    "}"
   ]
  },
  {
   "cell_type": "code",
   "execution_count": null,
   "id": "a531ddf2",
   "metadata": {},
   "outputs": [],
   "source": []
  },
  {
   "cell_type": "code",
   "execution_count": 47,
   "id": "daab59cc",
   "metadata": {},
   "outputs": [
    {
     "name": "stdout",
     "output_type": "stream",
     "text": [
      "{'userId': 1, 'id': 1, 'title': 'sunt aut facere repellat provident occaecati excepturi optio reprehenderit', 'body': 'quia et suscipit\\nsuscipit recusandae consequuntur expedita et cum\\nreprehenderit molestiae ut ut quas totam\\nnostrum rerum est autem sunt rem eveniet architecto'}\n"
     ]
    }
   ],
   "source": [
    "# The API endpoint\n",
    "url = \"https://jsonplaceholder.typicode.com/posts/1\"\n",
    "\n",
    "# A GET request to the API\n",
    "response = requests.get(url)\n",
    "\n",
    "# Print the response\n",
    "response_json = response.json()\n",
    "print(response_json)"
   ]
  },
  {
   "cell_type": "code",
   "execution_count": 49,
   "id": "bd870975",
   "metadata": {},
   "outputs": [],
   "source": [
    "payload =     {\n",
    "        'url': \"https%3A%2F%2Fwww.mp4upload.com%2Fzzxtedbq0133\", 'searchEngine': \"yt\"\n",
    "    }\n",
    "        "
   ]
  },
  {
   "cell_type": "code",
   "execution_count": 53,
   "id": "99a73862",
   "metadata": {},
   "outputs": [
    {
     "name": "stdout",
     "output_type": "stream",
     "text": [
      "{'status': '', 'message': 'BLOCKED'}\n"
     ]
    }
   ],
   "source": [
    "url = \"https://ab1.9xbud.com/extract\"\n",
    "\n",
    "# Adding a payload\n",
    "# payload = {\"id\": [1, 2, 3], \"userId\":1}\n",
    "\n",
    "# A get request to the API\n",
    "post_response = requests.post(url, params=payload)\n",
    "\n",
    "post_response_json = post_response.json()\n",
    "print(post_response_json)\n"
   ]
  },
  {
   "cell_type": "code",
   "execution_count": 17,
   "id": "ef9f0d83",
   "metadata": {},
   "outputs": [
    {
     "ename": "TypeError",
     "evalue": "request() got an unexpected keyword argument 'header'",
     "output_type": "error",
     "traceback": [
      "\u001b[1;31m---------------------------------------------------------------------------\u001b[0m",
      "\u001b[1;31mTypeError\u001b[0m                                 Traceback (most recent call last)",
      "\u001b[1;32m~\\AppData\\Local\\Temp/ipykernel_35476/3272793430.py\u001b[0m in \u001b[0;36m<module>\u001b[1;34m\u001b[0m\n\u001b[1;32m----> 1\u001b[1;33m \u001b[0mrequests\u001b[0m\u001b[1;33m.\u001b[0m\u001b[0mpost\u001b[0m\u001b[1;33m(\u001b[0m\u001b[1;34m'https://9xbuddy.in/process?url=https%3A%2F%2Fwww.mp4upload.com%2Fzzxtedbq0133'\u001b[0m\u001b[1;33m,\u001b[0m\u001b[0mheader\u001b[0m\u001b[1;33m=\u001b[0m \u001b[0mheaders\u001b[0m\u001b[1;33m)\u001b[0m\u001b[1;33m\u001b[0m\u001b[1;33m\u001b[0m\u001b[0m\n\u001b[0m",
      "\u001b[1;32m~\\AppData\\Roaming\\Python\\Python39\\site-packages\\requests\\api.py\u001b[0m in \u001b[0;36mpost\u001b[1;34m(url, data, json, **kwargs)\u001b[0m\n\u001b[0;32m    113\u001b[0m     \"\"\"\n\u001b[0;32m    114\u001b[0m \u001b[1;33m\u001b[0m\u001b[0m\n\u001b[1;32m--> 115\u001b[1;33m     \u001b[1;32mreturn\u001b[0m \u001b[0mrequest\u001b[0m\u001b[1;33m(\u001b[0m\u001b[1;34m\"post\"\u001b[0m\u001b[1;33m,\u001b[0m \u001b[0murl\u001b[0m\u001b[1;33m,\u001b[0m \u001b[0mdata\u001b[0m\u001b[1;33m=\u001b[0m\u001b[0mdata\u001b[0m\u001b[1;33m,\u001b[0m \u001b[0mjson\u001b[0m\u001b[1;33m=\u001b[0m\u001b[0mjson\u001b[0m\u001b[1;33m,\u001b[0m \u001b[1;33m**\u001b[0m\u001b[0mkwargs\u001b[0m\u001b[1;33m)\u001b[0m\u001b[1;33m\u001b[0m\u001b[1;33m\u001b[0m\u001b[0m\n\u001b[0m\u001b[0;32m    116\u001b[0m \u001b[1;33m\u001b[0m\u001b[0m\n\u001b[0;32m    117\u001b[0m \u001b[1;33m\u001b[0m\u001b[0m\n",
      "\u001b[1;32m~\\AppData\\Roaming\\Python\\Python39\\site-packages\\requests\\api.py\u001b[0m in \u001b[0;36mrequest\u001b[1;34m(method, url, **kwargs)\u001b[0m\n\u001b[0;32m     57\u001b[0m     \u001b[1;31m# cases, and look like a memory leak in others.\u001b[0m\u001b[1;33m\u001b[0m\u001b[1;33m\u001b[0m\u001b[0m\n\u001b[0;32m     58\u001b[0m     \u001b[1;32mwith\u001b[0m \u001b[0msessions\u001b[0m\u001b[1;33m.\u001b[0m\u001b[0mSession\u001b[0m\u001b[1;33m(\u001b[0m\u001b[1;33m)\u001b[0m \u001b[1;32mas\u001b[0m \u001b[0msession\u001b[0m\u001b[1;33m:\u001b[0m\u001b[1;33m\u001b[0m\u001b[1;33m\u001b[0m\u001b[0m\n\u001b[1;32m---> 59\u001b[1;33m         \u001b[1;32mreturn\u001b[0m \u001b[0msession\u001b[0m\u001b[1;33m.\u001b[0m\u001b[0mrequest\u001b[0m\u001b[1;33m(\u001b[0m\u001b[0mmethod\u001b[0m\u001b[1;33m=\u001b[0m\u001b[0mmethod\u001b[0m\u001b[1;33m,\u001b[0m \u001b[0murl\u001b[0m\u001b[1;33m=\u001b[0m\u001b[0murl\u001b[0m\u001b[1;33m,\u001b[0m \u001b[1;33m**\u001b[0m\u001b[0mkwargs\u001b[0m\u001b[1;33m)\u001b[0m\u001b[1;33m\u001b[0m\u001b[1;33m\u001b[0m\u001b[0m\n\u001b[0m\u001b[0;32m     60\u001b[0m \u001b[1;33m\u001b[0m\u001b[0m\n\u001b[0;32m     61\u001b[0m \u001b[1;33m\u001b[0m\u001b[0m\n",
      "\u001b[1;31mTypeError\u001b[0m: request() got an unexpected keyword argument 'header'"
     ]
    }
   ],
   "source": [
    "requests.post('https://9xbuddy.in/process?url=https%3A%2F%2Fwww.mp4upload.com%2Fzzxtedbq0133',)"
   ]
  },
  {
   "cell_type": "code",
   "execution_count": 69,
   "id": "96e2373e",
   "metadata": {},
   "outputs": [],
   "source": [
    "import json"
   ]
  },
  {
   "cell_type": "code",
   "execution_count": 13,
   "id": "a6df445c",
   "metadata": {},
   "outputs": [],
   "source": [
    "payload = {\n",
    "    \"url\": \"https%3A%2F%2Fwww.mp4upload.com%2Fzzxtedbq0133\",\n",
    "    \"searchEngine\": \"yt\"\n",
    "}"
   ]
  },
  {
   "cell_type": "code",
   "execution_count": 40,
   "id": "c09ce9b9",
   "metadata": {},
   "outputs": [
    {
     "name": "stdout",
     "output_type": "stream",
     "text": [
      "{'status': '', 'message': 'BLOCKED'}\n",
      "<Response [200]>\n"
     ]
    },
    {
     "data": {
      "text/plain": [
       "'{\"status\":\"\",\"message\":\"BLOCKED\"}'"
      ]
     },
     "execution_count": 40,
     "metadata": {},
     "output_type": "execute_result"
    }
   ],
   "source": [
    "response = requests.post('https://ab1.9xbud.com/extract',data=json.dumps(payload))\n",
    "response_json = response.json()\n",
    "print(response_json)\n",
    "# response.json()\n",
    "print(response)\n",
    "response.text"
   ]
  },
  {
   "cell_type": "code",
   "execution_count": 55,
   "id": "6a89d19a",
   "metadata": {},
   "outputs": [
    {
     "ename": "InvalidURL",
     "evalue": "Invalid URL 'https:\\\\/\\\\/a.nel.cloudflare.com\\\\/report\\\\/v3?s=SLaYp0qRfKIDf7Q6RAbV0a756R8kbRXNXadIGA%2F%2BklUALUNW3RSWEqwNYOnsJVbWQH0Sfwlh7fxyRo1%2BRpEufPTQLWxPszf8vaT9uaoTaP9sGA0dfQ%2F04iVs2WdYMBfg': No host supplied",
     "output_type": "error",
     "traceback": [
      "\u001b[1;31m---------------------------------------------------------------------------\u001b[0m",
      "\u001b[1;31mInvalidURL\u001b[0m                                Traceback (most recent call last)",
      "\u001b[1;32m~\\AppData\\Local\\Temp/ipykernel_52416/4181447513.py\u001b[0m in \u001b[0;36m<module>\u001b[1;34m\u001b[0m\n\u001b[1;32m----> 1\u001b[1;33m \u001b[0mresponse\u001b[0m \u001b[1;33m=\u001b[0m \u001b[0mrequests\u001b[0m\u001b[1;33m.\u001b[0m\u001b[0mpost\u001b[0m\u001b[1;33m(\u001b[0m\u001b[1;34m'https:\\\\/\\\\/a.nel.cloudflare.com\\\\/report\\\\/v3?s=SLaYp0qRfKIDf7Q6RAbV0a756R8kbRXNXadIGA%2F%2BklUALUNW3RSWEqwNYOnsJVbWQH0Sfwlh7fxyRo1%2BRpEufPTQLWxPszf8vaT9uaoTaP9sGA0dfQ%2F04iVs2WdYMBfg'\u001b[0m\u001b[1;33m,\u001b[0m\u001b[1;33m{\u001b[0m\u001b[1;33m}\u001b[0m\u001b[1;33m)\u001b[0m\u001b[1;33m\u001b[0m\u001b[1;33m\u001b[0m\u001b[0m\n\u001b[0m\u001b[0;32m      2\u001b[0m \u001b[0mresponse\u001b[0m\u001b[1;33m.\u001b[0m\u001b[0mtext\u001b[0m\u001b[1;33m\u001b[0m\u001b[1;33m\u001b[0m\u001b[0m\n",
      "\u001b[1;32m~\\AppData\\Roaming\\Python\\Python39\\site-packages\\requests\\api.py\u001b[0m in \u001b[0;36mpost\u001b[1;34m(url, data, json, **kwargs)\u001b[0m\n\u001b[0;32m    113\u001b[0m     \"\"\"\n\u001b[0;32m    114\u001b[0m \u001b[1;33m\u001b[0m\u001b[0m\n\u001b[1;32m--> 115\u001b[1;33m     \u001b[1;32mreturn\u001b[0m \u001b[0mrequest\u001b[0m\u001b[1;33m(\u001b[0m\u001b[1;34m\"post\"\u001b[0m\u001b[1;33m,\u001b[0m \u001b[0murl\u001b[0m\u001b[1;33m,\u001b[0m \u001b[0mdata\u001b[0m\u001b[1;33m=\u001b[0m\u001b[0mdata\u001b[0m\u001b[1;33m,\u001b[0m \u001b[0mjson\u001b[0m\u001b[1;33m=\u001b[0m\u001b[0mjson\u001b[0m\u001b[1;33m,\u001b[0m \u001b[1;33m**\u001b[0m\u001b[0mkwargs\u001b[0m\u001b[1;33m)\u001b[0m\u001b[1;33m\u001b[0m\u001b[1;33m\u001b[0m\u001b[0m\n\u001b[0m\u001b[0;32m    116\u001b[0m \u001b[1;33m\u001b[0m\u001b[0m\n\u001b[0;32m    117\u001b[0m \u001b[1;33m\u001b[0m\u001b[0m\n",
      "\u001b[1;32m~\\AppData\\Roaming\\Python\\Python39\\site-packages\\requests\\api.py\u001b[0m in \u001b[0;36mrequest\u001b[1;34m(method, url, **kwargs)\u001b[0m\n\u001b[0;32m     57\u001b[0m     \u001b[1;31m# cases, and look like a memory leak in others.\u001b[0m\u001b[1;33m\u001b[0m\u001b[1;33m\u001b[0m\u001b[0m\n\u001b[0;32m     58\u001b[0m     \u001b[1;32mwith\u001b[0m \u001b[0msessions\u001b[0m\u001b[1;33m.\u001b[0m\u001b[0mSession\u001b[0m\u001b[1;33m(\u001b[0m\u001b[1;33m)\u001b[0m \u001b[1;32mas\u001b[0m \u001b[0msession\u001b[0m\u001b[1;33m:\u001b[0m\u001b[1;33m\u001b[0m\u001b[1;33m\u001b[0m\u001b[0m\n\u001b[1;32m---> 59\u001b[1;33m         \u001b[1;32mreturn\u001b[0m \u001b[0msession\u001b[0m\u001b[1;33m.\u001b[0m\u001b[0mrequest\u001b[0m\u001b[1;33m(\u001b[0m\u001b[0mmethod\u001b[0m\u001b[1;33m=\u001b[0m\u001b[0mmethod\u001b[0m\u001b[1;33m,\u001b[0m \u001b[0murl\u001b[0m\u001b[1;33m=\u001b[0m\u001b[0murl\u001b[0m\u001b[1;33m,\u001b[0m \u001b[1;33m**\u001b[0m\u001b[0mkwargs\u001b[0m\u001b[1;33m)\u001b[0m\u001b[1;33m\u001b[0m\u001b[1;33m\u001b[0m\u001b[0m\n\u001b[0m\u001b[0;32m     60\u001b[0m \u001b[1;33m\u001b[0m\u001b[0m\n\u001b[0;32m     61\u001b[0m \u001b[1;33m\u001b[0m\u001b[0m\n",
      "\u001b[1;32m~\\AppData\\Roaming\\Python\\Python39\\site-packages\\requests\\sessions.py\u001b[0m in \u001b[0;36mrequest\u001b[1;34m(self, method, url, params, data, headers, cookies, files, auth, timeout, allow_redirects, proxies, hooks, stream, verify, cert, json)\u001b[0m\n\u001b[0;32m    571\u001b[0m             \u001b[0mhooks\u001b[0m\u001b[1;33m=\u001b[0m\u001b[0mhooks\u001b[0m\u001b[1;33m,\u001b[0m\u001b[1;33m\u001b[0m\u001b[1;33m\u001b[0m\u001b[0m\n\u001b[0;32m    572\u001b[0m         )\n\u001b[1;32m--> 573\u001b[1;33m         \u001b[0mprep\u001b[0m \u001b[1;33m=\u001b[0m \u001b[0mself\u001b[0m\u001b[1;33m.\u001b[0m\u001b[0mprepare_request\u001b[0m\u001b[1;33m(\u001b[0m\u001b[0mreq\u001b[0m\u001b[1;33m)\u001b[0m\u001b[1;33m\u001b[0m\u001b[1;33m\u001b[0m\u001b[0m\n\u001b[0m\u001b[0;32m    574\u001b[0m \u001b[1;33m\u001b[0m\u001b[0m\n\u001b[0;32m    575\u001b[0m         \u001b[0mproxies\u001b[0m \u001b[1;33m=\u001b[0m \u001b[0mproxies\u001b[0m \u001b[1;32mor\u001b[0m \u001b[1;33m{\u001b[0m\u001b[1;33m}\u001b[0m\u001b[1;33m\u001b[0m\u001b[1;33m\u001b[0m\u001b[0m\n",
      "\u001b[1;32m~\\AppData\\Roaming\\Python\\Python39\\site-packages\\requests\\sessions.py\u001b[0m in \u001b[0;36mprepare_request\u001b[1;34m(self, request)\u001b[0m\n\u001b[0;32m    482\u001b[0m \u001b[1;33m\u001b[0m\u001b[0m\n\u001b[0;32m    483\u001b[0m         \u001b[0mp\u001b[0m \u001b[1;33m=\u001b[0m \u001b[0mPreparedRequest\u001b[0m\u001b[1;33m(\u001b[0m\u001b[1;33m)\u001b[0m\u001b[1;33m\u001b[0m\u001b[1;33m\u001b[0m\u001b[0m\n\u001b[1;32m--> 484\u001b[1;33m         p.prepare(\n\u001b[0m\u001b[0;32m    485\u001b[0m             \u001b[0mmethod\u001b[0m\u001b[1;33m=\u001b[0m\u001b[0mrequest\u001b[0m\u001b[1;33m.\u001b[0m\u001b[0mmethod\u001b[0m\u001b[1;33m.\u001b[0m\u001b[0mupper\u001b[0m\u001b[1;33m(\u001b[0m\u001b[1;33m)\u001b[0m\u001b[1;33m,\u001b[0m\u001b[1;33m\u001b[0m\u001b[1;33m\u001b[0m\u001b[0m\n\u001b[0;32m    486\u001b[0m             \u001b[0murl\u001b[0m\u001b[1;33m=\u001b[0m\u001b[0mrequest\u001b[0m\u001b[1;33m.\u001b[0m\u001b[0murl\u001b[0m\u001b[1;33m,\u001b[0m\u001b[1;33m\u001b[0m\u001b[1;33m\u001b[0m\u001b[0m\n",
      "\u001b[1;32m~\\AppData\\Roaming\\Python\\Python39\\site-packages\\requests\\models.py\u001b[0m in \u001b[0;36mprepare\u001b[1;34m(self, method, url, headers, files, data, params, auth, cookies, hooks, json)\u001b[0m\n\u001b[0;32m    366\u001b[0m \u001b[1;33m\u001b[0m\u001b[0m\n\u001b[0;32m    367\u001b[0m         \u001b[0mself\u001b[0m\u001b[1;33m.\u001b[0m\u001b[0mprepare_method\u001b[0m\u001b[1;33m(\u001b[0m\u001b[0mmethod\u001b[0m\u001b[1;33m)\u001b[0m\u001b[1;33m\u001b[0m\u001b[1;33m\u001b[0m\u001b[0m\n\u001b[1;32m--> 368\u001b[1;33m         \u001b[0mself\u001b[0m\u001b[1;33m.\u001b[0m\u001b[0mprepare_url\u001b[0m\u001b[1;33m(\u001b[0m\u001b[0murl\u001b[0m\u001b[1;33m,\u001b[0m \u001b[0mparams\u001b[0m\u001b[1;33m)\u001b[0m\u001b[1;33m\u001b[0m\u001b[1;33m\u001b[0m\u001b[0m\n\u001b[0m\u001b[0;32m    369\u001b[0m         \u001b[0mself\u001b[0m\u001b[1;33m.\u001b[0m\u001b[0mprepare_headers\u001b[0m\u001b[1;33m(\u001b[0m\u001b[0mheaders\u001b[0m\u001b[1;33m)\u001b[0m\u001b[1;33m\u001b[0m\u001b[1;33m\u001b[0m\u001b[0m\n\u001b[0;32m    370\u001b[0m         \u001b[0mself\u001b[0m\u001b[1;33m.\u001b[0m\u001b[0mprepare_cookies\u001b[0m\u001b[1;33m(\u001b[0m\u001b[0mcookies\u001b[0m\u001b[1;33m)\u001b[0m\u001b[1;33m\u001b[0m\u001b[1;33m\u001b[0m\u001b[0m\n",
      "\u001b[1;32m~\\AppData\\Roaming\\Python\\Python39\\site-packages\\requests\\models.py\u001b[0m in \u001b[0;36mprepare_url\u001b[1;34m(self, url, params)\u001b[0m\n\u001b[0;32m    443\u001b[0m \u001b[1;33m\u001b[0m\u001b[0m\n\u001b[0;32m    444\u001b[0m         \u001b[1;32mif\u001b[0m \u001b[1;32mnot\u001b[0m \u001b[0mhost\u001b[0m\u001b[1;33m:\u001b[0m\u001b[1;33m\u001b[0m\u001b[1;33m\u001b[0m\u001b[0m\n\u001b[1;32m--> 445\u001b[1;33m             \u001b[1;32mraise\u001b[0m \u001b[0mInvalidURL\u001b[0m\u001b[1;33m(\u001b[0m\u001b[1;34mf\"Invalid URL {url!r}: No host supplied\"\u001b[0m\u001b[1;33m)\u001b[0m\u001b[1;33m\u001b[0m\u001b[1;33m\u001b[0m\u001b[0m\n\u001b[0m\u001b[0;32m    446\u001b[0m \u001b[1;33m\u001b[0m\u001b[0m\n\u001b[0;32m    447\u001b[0m         \u001b[1;31m# In general, we want to try IDNA encoding the hostname if the string contains\u001b[0m\u001b[1;33m\u001b[0m\u001b[1;33m\u001b[0m\u001b[0m\n",
      "\u001b[1;31mInvalidURL\u001b[0m: Invalid URL 'https:\\\\/\\\\/a.nel.cloudflare.com\\\\/report\\\\/v3?s=SLaYp0qRfKIDf7Q6RAbV0a756R8kbRXNXadIGA%2F%2BklUALUNW3RSWEqwNYOnsJVbWQH0Sfwlh7fxyRo1%2BRpEufPTQLWxPszf8vaT9uaoTaP9sGA0dfQ%2F04iVs2WdYMBfg': No host supplied"
     ]
    }
   ],
   "source": [
    "response = requests.post('https://ab1.9xbud.com/token',{})\n",
    "response.text"
   ]
  },
  {
   "cell_type": "code",
   "execution_count": 52,
   "id": "2693447b",
   "metadata": {},
   "outputs": [],
   "source": [
    "import requests\n",
    "import traceback\n",
    "\n",
    "def searchApiz(query):\n",
    "    endpoint = \"https://ab1.9xbud.com\"\n",
    "    data = {\n",
    "#         \"url\": query,\n",
    "#         \"searchEngine\": \"yt\"\n",
    "    }\n",
    "    try:\n",
    "        response = requests.post(endpoint, data=data)\n",
    "        print(response.status_code)\n",
    "        if(response.status_code == 200):\n",
    "            for msg in response:\n",
    "                print(msg)\n",
    "    except Exception:\n",
    "        print(traceback.format_exc())"
   ]
  },
  {
   "cell_type": "code",
   "execution_count": 41,
   "id": "931d63e0",
   "metadata": {},
   "outputs": [],
   "source": [
    "import requests\n",
    "import traceback\n",
    "\n",
    "def searchApi(query):\n",
    "    endpoint = \"http://prod.media.jio.com/apis/common/v3.1/search/auto\"\n",
    "    data = {\n",
    "        \"q\": query\n",
    "    }\n",
    "    try:\n",
    "        response = requests.post(endpoint, data=data)\n",
    "        if(response.status_code == 200):\n",
    "            for msg in response:\n",
    "                print(msg)\n",
    "    except Exception:\n",
    "        print(traceback.format_exc())"
   ]
  },
  {
   "cell_type": "code",
   "execution_count": 42,
   "id": "1dd558b1",
   "metadata": {},
   "outputs": [
    {
     "name": "stdout",
     "output_type": "stream",
     "text": [
      "b'{\"code\":200,\"message\":\"success\",\"data\":{\"items\":[{\"name\":\"avengers  endgame   official trailer\",\"type\":\"Videos\"},{\"name\":\"avenge'\n",
      "b'rs endgame   special look\",\"type\":\"Videos\"},{\"name\":\"avengers  endgame 24 7 in theatres\",\"type\":\"Videos\"},{\"name\":\"avengers  end'\n",
      "b'game   official trailer  hindi \",\"type\":\"Videos\"},{\"name\":\"avengers director in india\",\"type\":\"Videos\"},{\"name\":\"marvel s avenge'\n",
      "b'rs  age of ultron   official trailer\",\"type\":\"Videos\"},{\"name\":\"kv loves avengers \",\"type\":\"Videos\"},{\"name\":\"marvel s avengers '\n",
      "b' age of ultron   official trailer  hindi \",\"type\":\"Videos\"},{\"name\":\"marvel s the avengers official trailer   hindi\",\"type\":\"Vid'\n",
      "b'eos\"},{\"name\":\"marvel s the avengers   official trailer\",\"type\":\"Videos\"},{\"name\":\"making of south indian avengers\",\"type\":\"Vide'\n",
      "b'os\"},{\"name\":\"captain america  the first avenger   official trailer\",\"type\":\"Videos\"}]}}'\n"
     ]
    }
   ],
   "source": [
    "searchApi('avenger')"
   ]
  },
  {
   "cell_type": "code",
   "execution_count": 53,
   "id": "61353631",
   "metadata": {},
   "outputs": [
    {
     "name": "stdout",
     "output_type": "stream",
     "text": [
      "200\n",
      "b'{\"status\":\"\",\"message\":\"BLOCKED\"}'\n"
     ]
    }
   ],
   "source": [
    "searchApiz('https://www.mp4upload.com/zzxtedbq0133')"
   ]
  },
  {
   "cell_type": "code",
   "execution_count": 81,
   "id": "658834b5",
   "metadata": {},
   "outputs": [
    {
     "data": {
      "text/plain": [
       "{'Date': 'Thu, 30 Nov 2023 15:45:00 GMT', 'Content-Type': 'application/json; charset=UTF-8', 'Transfer-Encoding': 'chunked', 'Connection': 'keep-alive', 'Vary': 'Accept-Encoding', 'X-Powered-By': 'PHP/8.1.26', 'CF-Cache-Status': 'DYNAMIC', 'Report-To': '{\"endpoints\":[{\"url\":\"https:\\\\/\\\\/a.nel.cloudflare.com\\\\/report\\\\/v3?s=6H89HCXn26krGhi2dnMbJTqThg%2BKNGI30DjzTg7ICr6hb8YTWAdewaP2FCJPFcE15bprK3ZzwuowPA2hnqDCdyISAU%2Bg4DKKoG1x%2BDgjQJegQAg3OxIhEb8V%2BVlgMk6c\"}],\"group\":\"cf-nel\",\"max_age\":604800}', 'NEL': '{\"success_fraction\":0,\"report_to\":\"cf-nel\",\"max_age\":604800}', 'Server': 'cloudflare', 'CF-RAY': '82e4370a3bb54e9c-DAC', 'Content-Encoding': 'br', 'alt-svc': 'h3=\":443\"; ma=86400'}"
      ]
     },
     "execution_count": 81,
     "metadata": {},
     "output_type": "execute_result"
    }
   ],
   "source": [
    "x = requests.post(\"https://ab1.9xbud.com/token\").headers\n",
    "# dir(x)\n",
    "x"
   ]
  },
  {
   "cell_type": "code",
   "execution_count": 82,
   "id": "91162917",
   "metadata": {},
   "outputs": [
    {
     "data": {
      "text/plain": [
       "'{\"endpoints\":[{\"url\":\"https:\\\\/\\\\/a.nel.cloudflare.com\\\\/report\\\\/v3?s=6H89HCXn26krGhi2dnMbJTqThg%2BKNGI30DjzTg7ICr6hb8YTWAdewaP2FCJPFcE15bprK3ZzwuowPA2hnqDCdyISAU%2Bg4DKKoG1x%2BDgjQJegQAg3OxIhEb8V%2BVlgMk6c\"}],\"group\":\"cf-nel\",\"max_age\":604800}'"
      ]
     },
     "execution_count": 82,
     "metadata": {},
     "output_type": "execute_result"
    }
   ],
   "source": [
    "x['report-to']"
   ]
  },
  {
   "cell_type": "code",
   "execution_count": null,
   "id": "db16522f",
   "metadata": {},
   "outputs": [],
   "source": []
  },
  {
   "cell_type": "code",
   "execution_count": 68,
   "id": "9c291859",
   "metadata": {},
   "outputs": [
    {
     "ename": "AttributeError",
     "evalue": "'CaseInsensitiveDict' object has no attribute 'json'",
     "output_type": "error",
     "traceback": [
      "\u001b[1;31m---------------------------------------------------------------------------\u001b[0m",
      "\u001b[1;31mAttributeError\u001b[0m                            Traceback (most recent call last)",
      "\u001b[1;32m~\\AppData\\Local\\Temp/ipykernel_52416/4196871005.py\u001b[0m in \u001b[0;36m<module>\u001b[1;34m\u001b[0m\n\u001b[1;32m----> 1\u001b[1;33m \u001b[0mx\u001b[0m \u001b[1;33m=\u001b[0m \u001b[0mx\u001b[0m\u001b[1;33m.\u001b[0m\u001b[0mjson\u001b[0m\u001b[1;33m(\u001b[0m\u001b[1;33m)\u001b[0m\u001b[1;33m\u001b[0m\u001b[1;33m\u001b[0m\u001b[0m\n\u001b[0m",
      "\u001b[1;31mAttributeError\u001b[0m: 'CaseInsensitiveDict' object has no attribute 'json'"
     ]
    }
   ],
   "source": []
  },
  {
   "cell_type": "code",
   "execution_count": 84,
   "id": "c61a06a0",
   "metadata": {},
   "outputs": [],
   "source": [
    "headers = {\n",
    "    'Accept': 'text/html,application/xhtml+xml,application/xml;q=0.9,image/avif,image/webp,image/apng,*/*;q=0.8,application/signed-exchange;v=b3;q=0.7',\n",
    "    'Accept-Encoding': 'gzip, deflate, br',\n",
    "    'Accept-Language': 'en-US,en;q=0.9',\n",
    "    'Cache-Control': 'max-age=0',\n",
    "    'Connection': 'keep-alive',\n",
    "#     Cookie: lang=english; _gid=GA1.2.1668238279.1701359179; affiliate=RhDJDjIv5vwprG3OHA1JRaRjMhglCis59RDPYQMp5L7MIE%2Bk5TQz7ph0Nr7R1A2TPm5I%2BzRdM1RHs1Bvbugf6v6FeDYqywdEEvGYPK0m%2FrdSgJaZZUNbCd9%2FsnQ2kGc3Pu6jfj%2Bm9JUmQdBlOJmZ; _ga=GA1.1.1527804706.1701359179; _ga_Z6S9P8LL3D=GS1.1.1701359179.1.1.1701359343.0.0.0\n",
    "    'Host': 'www6.mp4upload.com:183',\n",
    "    'Referer': 'https://www.mp4upload.com/',\n",
    "    'Sec-Fetch-Dest': 'document',\n",
    "    'Sec-Fetch-Mode': 'navigate',\n",
    "    'Sec-Fetch-Site': 'same-site',\n",
    "    'Sec-Fetch-User': '?1',\n",
    "    'Upgrade-Insecure-Requests': '1',\n",
    "    'User-Agent': 'Mozilla/5.0 (Windows NT 10.0; Win64; x64) AppleWebKit/537.36 (KHTML, like Gecko) Chrome/119.0.0.0 Safari/537.36',\n",
    "    'sec-ch-ua': '\"Google Chrome\";v=\"119\", \"Chromium\";v=\"119\", \"Not?A_Brand\";v=\"24\"',\n",
    "    'sec-ch-ua-mobile': '?0',\n",
    "    'sec-ch-ua-platform': \"Windows\"\n",
    "}"
   ]
  },
  {
   "cell_type": "code",
   "execution_count": 90,
   "id": "8b4a2172",
   "metadata": {},
   "outputs": [
    {
     "ename": "SSLError",
     "evalue": "HTTPSConnectionPool(host='www6.mp4upload.com', port=183): Max retries exceeded with url: /d/sgxw6jytz3b4quuomowaakcykxjhxuzithhokvb64xemr3wfllgja7gjzmkpizxa6e23i5ln/48342-Episode%201_1565091825.mp4 (Caused by SSLError(SSLCertVerificationError(1, '[SSL: CERTIFICATE_VERIFY_FAILED] certificate verify failed: unable to get local issuer certificate (_ssl.c:1129)')))",
     "output_type": "error",
     "traceback": [
      "\u001b[1;31m---------------------------------------------------------------------------\u001b[0m",
      "\u001b[1;31mSSLCertVerificationError\u001b[0m                  Traceback (most recent call last)",
      "\u001b[1;32m~\\anaconda3\\lib\\site-packages\\urllib3\\connectionpool.py\u001b[0m in \u001b[0;36murlopen\u001b[1;34m(self, method, url, body, headers, retries, redirect, assert_same_host, timeout, pool_timeout, release_conn, chunked, body_pos, **response_kw)\u001b[0m\n\u001b[0;32m    698\u001b[0m             \u001b[1;31m# Make the request on the httplib connection object.\u001b[0m\u001b[1;33m\u001b[0m\u001b[1;33m\u001b[0m\u001b[0m\n\u001b[1;32m--> 699\u001b[1;33m             httplib_response = self._make_request(\n\u001b[0m\u001b[0;32m    700\u001b[0m                 \u001b[0mconn\u001b[0m\u001b[1;33m,\u001b[0m\u001b[1;33m\u001b[0m\u001b[1;33m\u001b[0m\u001b[0m\n",
      "\u001b[1;32m~\\anaconda3\\lib\\site-packages\\urllib3\\connectionpool.py\u001b[0m in \u001b[0;36m_make_request\u001b[1;34m(self, conn, method, url, timeout, chunked, **httplib_request_kw)\u001b[0m\n\u001b[0;32m    381\u001b[0m         \u001b[1;32mtry\u001b[0m\u001b[1;33m:\u001b[0m\u001b[1;33m\u001b[0m\u001b[1;33m\u001b[0m\u001b[0m\n\u001b[1;32m--> 382\u001b[1;33m             \u001b[0mself\u001b[0m\u001b[1;33m.\u001b[0m\u001b[0m_validate_conn\u001b[0m\u001b[1;33m(\u001b[0m\u001b[0mconn\u001b[0m\u001b[1;33m)\u001b[0m\u001b[1;33m\u001b[0m\u001b[1;33m\u001b[0m\u001b[0m\n\u001b[0m\u001b[0;32m    383\u001b[0m         \u001b[1;32mexcept\u001b[0m \u001b[1;33m(\u001b[0m\u001b[0mSocketTimeout\u001b[0m\u001b[1;33m,\u001b[0m \u001b[0mBaseSSLError\u001b[0m\u001b[1;33m)\u001b[0m \u001b[1;32mas\u001b[0m \u001b[0me\u001b[0m\u001b[1;33m:\u001b[0m\u001b[1;33m\u001b[0m\u001b[1;33m\u001b[0m\u001b[0m\n",
      "\u001b[1;32m~\\anaconda3\\lib\\site-packages\\urllib3\\connectionpool.py\u001b[0m in \u001b[0;36m_validate_conn\u001b[1;34m(self, conn)\u001b[0m\n\u001b[0;32m   1009\u001b[0m         \u001b[1;32mif\u001b[0m \u001b[1;32mnot\u001b[0m \u001b[0mgetattr\u001b[0m\u001b[1;33m(\u001b[0m\u001b[0mconn\u001b[0m\u001b[1;33m,\u001b[0m \u001b[1;34m\"sock\"\u001b[0m\u001b[1;33m,\u001b[0m \u001b[1;32mNone\u001b[0m\u001b[1;33m)\u001b[0m\u001b[1;33m:\u001b[0m  \u001b[1;31m# AppEngine might not have  `.sock`\u001b[0m\u001b[1;33m\u001b[0m\u001b[1;33m\u001b[0m\u001b[0m\n\u001b[1;32m-> 1010\u001b[1;33m             \u001b[0mconn\u001b[0m\u001b[1;33m.\u001b[0m\u001b[0mconnect\u001b[0m\u001b[1;33m(\u001b[0m\u001b[1;33m)\u001b[0m\u001b[1;33m\u001b[0m\u001b[1;33m\u001b[0m\u001b[0m\n\u001b[0m\u001b[0;32m   1011\u001b[0m \u001b[1;33m\u001b[0m\u001b[0m\n",
      "\u001b[1;32m~\\anaconda3\\lib\\site-packages\\urllib3\\connection.py\u001b[0m in \u001b[0;36mconnect\u001b[1;34m(self)\u001b[0m\n\u001b[0;32m    415\u001b[0m \u001b[1;33m\u001b[0m\u001b[0m\n\u001b[1;32m--> 416\u001b[1;33m         self.sock = ssl_wrap_socket(\n\u001b[0m\u001b[0;32m    417\u001b[0m             \u001b[0msock\u001b[0m\u001b[1;33m=\u001b[0m\u001b[0mconn\u001b[0m\u001b[1;33m,\u001b[0m\u001b[1;33m\u001b[0m\u001b[1;33m\u001b[0m\u001b[0m\n",
      "\u001b[1;32m~\\anaconda3\\lib\\site-packages\\urllib3\\util\\ssl_.py\u001b[0m in \u001b[0;36mssl_wrap_socket\u001b[1;34m(sock, keyfile, certfile, cert_reqs, ca_certs, server_hostname, ssl_version, ciphers, ssl_context, ca_cert_dir, key_password, ca_cert_data, tls_in_tls)\u001b[0m\n\u001b[0;32m    448\u001b[0m     \u001b[1;32mif\u001b[0m \u001b[0msend_sni\u001b[0m\u001b[1;33m:\u001b[0m\u001b[1;33m\u001b[0m\u001b[1;33m\u001b[0m\u001b[0m\n\u001b[1;32m--> 449\u001b[1;33m         ssl_sock = _ssl_wrap_socket_impl(\n\u001b[0m\u001b[0;32m    450\u001b[0m             \u001b[0msock\u001b[0m\u001b[1;33m,\u001b[0m \u001b[0mcontext\u001b[0m\u001b[1;33m,\u001b[0m \u001b[0mtls_in_tls\u001b[0m\u001b[1;33m,\u001b[0m \u001b[0mserver_hostname\u001b[0m\u001b[1;33m=\u001b[0m\u001b[0mserver_hostname\u001b[0m\u001b[1;33m\u001b[0m\u001b[1;33m\u001b[0m\u001b[0m\n",
      "\u001b[1;32m~\\anaconda3\\lib\\site-packages\\urllib3\\util\\ssl_.py\u001b[0m in \u001b[0;36m_ssl_wrap_socket_impl\u001b[1;34m(sock, ssl_context, tls_in_tls, server_hostname)\u001b[0m\n\u001b[0;32m    492\u001b[0m     \u001b[1;32mif\u001b[0m \u001b[0mserver_hostname\u001b[0m\u001b[1;33m:\u001b[0m\u001b[1;33m\u001b[0m\u001b[1;33m\u001b[0m\u001b[0m\n\u001b[1;32m--> 493\u001b[1;33m         \u001b[1;32mreturn\u001b[0m \u001b[0mssl_context\u001b[0m\u001b[1;33m.\u001b[0m\u001b[0mwrap_socket\u001b[0m\u001b[1;33m(\u001b[0m\u001b[0msock\u001b[0m\u001b[1;33m,\u001b[0m \u001b[0mserver_hostname\u001b[0m\u001b[1;33m=\u001b[0m\u001b[0mserver_hostname\u001b[0m\u001b[1;33m)\u001b[0m\u001b[1;33m\u001b[0m\u001b[1;33m\u001b[0m\u001b[0m\n\u001b[0m\u001b[0;32m    494\u001b[0m     \u001b[1;32melse\u001b[0m\u001b[1;33m:\u001b[0m\u001b[1;33m\u001b[0m\u001b[1;33m\u001b[0m\u001b[0m\n",
      "\u001b[1;32m~\\anaconda3\\lib\\ssl.py\u001b[0m in \u001b[0;36mwrap_socket\u001b[1;34m(self, sock, server_side, do_handshake_on_connect, suppress_ragged_eofs, server_hostname, session)\u001b[0m\n\u001b[0;32m    499\u001b[0m         \u001b[1;31m# ctx._wrap_socket()\u001b[0m\u001b[1;33m\u001b[0m\u001b[1;33m\u001b[0m\u001b[0m\n\u001b[1;32m--> 500\u001b[1;33m         return self.sslsocket_class._create(\n\u001b[0m\u001b[0;32m    501\u001b[0m             \u001b[0msock\u001b[0m\u001b[1;33m=\u001b[0m\u001b[0msock\u001b[0m\u001b[1;33m,\u001b[0m\u001b[1;33m\u001b[0m\u001b[1;33m\u001b[0m\u001b[0m\n",
      "\u001b[1;32m~\\anaconda3\\lib\\ssl.py\u001b[0m in \u001b[0;36m_create\u001b[1;34m(cls, sock, server_side, do_handshake_on_connect, suppress_ragged_eofs, server_hostname, context, session)\u001b[0m\n\u001b[0;32m   1039\u001b[0m                         \u001b[1;32mraise\u001b[0m \u001b[0mValueError\u001b[0m\u001b[1;33m(\u001b[0m\u001b[1;34m\"do_handshake_on_connect should not be specified for non-blocking sockets\"\u001b[0m\u001b[1;33m)\u001b[0m\u001b[1;33m\u001b[0m\u001b[1;33m\u001b[0m\u001b[0m\n\u001b[1;32m-> 1040\u001b[1;33m                     \u001b[0mself\u001b[0m\u001b[1;33m.\u001b[0m\u001b[0mdo_handshake\u001b[0m\u001b[1;33m(\u001b[0m\u001b[1;33m)\u001b[0m\u001b[1;33m\u001b[0m\u001b[1;33m\u001b[0m\u001b[0m\n\u001b[0m\u001b[0;32m   1041\u001b[0m             \u001b[1;32mexcept\u001b[0m \u001b[1;33m(\u001b[0m\u001b[0mOSError\u001b[0m\u001b[1;33m,\u001b[0m \u001b[0mValueError\u001b[0m\u001b[1;33m)\u001b[0m\u001b[1;33m:\u001b[0m\u001b[1;33m\u001b[0m\u001b[1;33m\u001b[0m\u001b[0m\n",
      "\u001b[1;32m~\\anaconda3\\lib\\ssl.py\u001b[0m in \u001b[0;36mdo_handshake\u001b[1;34m(self, block)\u001b[0m\n\u001b[0;32m   1308\u001b[0m                 \u001b[0mself\u001b[0m\u001b[1;33m.\u001b[0m\u001b[0msettimeout\u001b[0m\u001b[1;33m(\u001b[0m\u001b[1;32mNone\u001b[0m\u001b[1;33m)\u001b[0m\u001b[1;33m\u001b[0m\u001b[1;33m\u001b[0m\u001b[0m\n\u001b[1;32m-> 1309\u001b[1;33m             \u001b[0mself\u001b[0m\u001b[1;33m.\u001b[0m\u001b[0m_sslobj\u001b[0m\u001b[1;33m.\u001b[0m\u001b[0mdo_handshake\u001b[0m\u001b[1;33m(\u001b[0m\u001b[1;33m)\u001b[0m\u001b[1;33m\u001b[0m\u001b[1;33m\u001b[0m\u001b[0m\n\u001b[0m\u001b[0;32m   1310\u001b[0m         \u001b[1;32mfinally\u001b[0m\u001b[1;33m:\u001b[0m\u001b[1;33m\u001b[0m\u001b[1;33m\u001b[0m\u001b[0m\n",
      "\u001b[1;31mSSLCertVerificationError\u001b[0m: [SSL: CERTIFICATE_VERIFY_FAILED] certificate verify failed: unable to get local issuer certificate (_ssl.c:1129)",
      "\nDuring handling of the above exception, another exception occurred:\n",
      "\u001b[1;31mMaxRetryError\u001b[0m                             Traceback (most recent call last)",
      "\u001b[1;32m~\\AppData\\Roaming\\Python\\Python39\\site-packages\\requests\\adapters.py\u001b[0m in \u001b[0;36msend\u001b[1;34m(self, request, stream, timeout, verify, cert, proxies)\u001b[0m\n\u001b[0;32m    488\u001b[0m             \u001b[1;32mif\u001b[0m \u001b[1;32mnot\u001b[0m \u001b[0mchunked\u001b[0m\u001b[1;33m:\u001b[0m\u001b[1;33m\u001b[0m\u001b[1;33m\u001b[0m\u001b[0m\n\u001b[1;32m--> 489\u001b[1;33m                 resp = conn.urlopen(\n\u001b[0m\u001b[0;32m    490\u001b[0m                     \u001b[0mmethod\u001b[0m\u001b[1;33m=\u001b[0m\u001b[0mrequest\u001b[0m\u001b[1;33m.\u001b[0m\u001b[0mmethod\u001b[0m\u001b[1;33m,\u001b[0m\u001b[1;33m\u001b[0m\u001b[1;33m\u001b[0m\u001b[0m\n",
      "\u001b[1;32m~\\anaconda3\\lib\\site-packages\\urllib3\\connectionpool.py\u001b[0m in \u001b[0;36murlopen\u001b[1;34m(self, method, url, body, headers, retries, redirect, assert_same_host, timeout, pool_timeout, release_conn, chunked, body_pos, **response_kw)\u001b[0m\n\u001b[0;32m    754\u001b[0m \u001b[1;33m\u001b[0m\u001b[0m\n\u001b[1;32m--> 755\u001b[1;33m             retries = retries.increment(\n\u001b[0m\u001b[0;32m    756\u001b[0m                 \u001b[0mmethod\u001b[0m\u001b[1;33m,\u001b[0m \u001b[0murl\u001b[0m\u001b[1;33m,\u001b[0m \u001b[0merror\u001b[0m\u001b[1;33m=\u001b[0m\u001b[0me\u001b[0m\u001b[1;33m,\u001b[0m \u001b[0m_pool\u001b[0m\u001b[1;33m=\u001b[0m\u001b[0mself\u001b[0m\u001b[1;33m,\u001b[0m \u001b[0m_stacktrace\u001b[0m\u001b[1;33m=\u001b[0m\u001b[0msys\u001b[0m\u001b[1;33m.\u001b[0m\u001b[0mexc_info\u001b[0m\u001b[1;33m(\u001b[0m\u001b[1;33m)\u001b[0m\u001b[1;33m[\u001b[0m\u001b[1;36m2\u001b[0m\u001b[1;33m]\u001b[0m\u001b[1;33m\u001b[0m\u001b[1;33m\u001b[0m\u001b[0m\n",
      "\u001b[1;32m~\\anaconda3\\lib\\site-packages\\urllib3\\util\\retry.py\u001b[0m in \u001b[0;36mincrement\u001b[1;34m(self, method, url, response, error, _pool, _stacktrace)\u001b[0m\n\u001b[0;32m    573\u001b[0m         \u001b[1;32mif\u001b[0m \u001b[0mnew_retry\u001b[0m\u001b[1;33m.\u001b[0m\u001b[0mis_exhausted\u001b[0m\u001b[1;33m(\u001b[0m\u001b[1;33m)\u001b[0m\u001b[1;33m:\u001b[0m\u001b[1;33m\u001b[0m\u001b[1;33m\u001b[0m\u001b[0m\n\u001b[1;32m--> 574\u001b[1;33m             \u001b[1;32mraise\u001b[0m \u001b[0mMaxRetryError\u001b[0m\u001b[1;33m(\u001b[0m\u001b[0m_pool\u001b[0m\u001b[1;33m,\u001b[0m \u001b[0murl\u001b[0m\u001b[1;33m,\u001b[0m \u001b[0merror\u001b[0m \u001b[1;32mor\u001b[0m \u001b[0mResponseError\u001b[0m\u001b[1;33m(\u001b[0m\u001b[0mcause\u001b[0m\u001b[1;33m)\u001b[0m\u001b[1;33m)\u001b[0m\u001b[1;33m\u001b[0m\u001b[1;33m\u001b[0m\u001b[0m\n\u001b[0m\u001b[0;32m    575\u001b[0m \u001b[1;33m\u001b[0m\u001b[0m\n",
      "\u001b[1;31mMaxRetryError\u001b[0m: HTTPSConnectionPool(host='www6.mp4upload.com', port=183): Max retries exceeded with url: /d/sgxw6jytz3b4quuomowaakcykxjhxuzithhokvb64xemr3wfllgja7gjzmkpizxa6e23i5ln/48342-Episode%201_1565091825.mp4 (Caused by SSLError(SSLCertVerificationError(1, '[SSL: CERTIFICATE_VERIFY_FAILED] certificate verify failed: unable to get local issuer certificate (_ssl.c:1129)')))",
      "\nDuring handling of the above exception, another exception occurred:\n",
      "\u001b[1;31mSSLError\u001b[0m                                  Traceback (most recent call last)",
      "\u001b[1;32m~\\AppData\\Local\\Temp/ipykernel_52416/57055452.py\u001b[0m in \u001b[0;36m<module>\u001b[1;34m\u001b[0m\n\u001b[1;32m----> 1\u001b[1;33m \u001b[0mrequests\u001b[0m\u001b[1;33m.\u001b[0m\u001b[0mget\u001b[0m\u001b[1;33m(\u001b[0m\u001b[1;34m'https://www6.mp4upload.com:183/d/sgxw6jytz3b4quuomowaakcykxjhxuzithhokvb64xemr3wfllgja7gjzmkpizxa6e23i5ln/48342-Episode 1_1565091825.mp4'\u001b[0m\u001b[1;33m,\u001b[0m\u001b[0mheaders\u001b[0m\u001b[1;33m=\u001b[0m\u001b[0mheaders\u001b[0m\u001b[1;33m)\u001b[0m\u001b[1;33m\u001b[0m\u001b[1;33m\u001b[0m\u001b[0m\n\u001b[0m",
      "\u001b[1;32m~\\AppData\\Roaming\\Python\\Python39\\site-packages\\requests\\api.py\u001b[0m in \u001b[0;36mget\u001b[1;34m(url, params, **kwargs)\u001b[0m\n\u001b[0;32m     71\u001b[0m     \"\"\"\n\u001b[0;32m     72\u001b[0m \u001b[1;33m\u001b[0m\u001b[0m\n\u001b[1;32m---> 73\u001b[1;33m     \u001b[1;32mreturn\u001b[0m \u001b[0mrequest\u001b[0m\u001b[1;33m(\u001b[0m\u001b[1;34m\"get\"\u001b[0m\u001b[1;33m,\u001b[0m \u001b[0murl\u001b[0m\u001b[1;33m,\u001b[0m \u001b[0mparams\u001b[0m\u001b[1;33m=\u001b[0m\u001b[0mparams\u001b[0m\u001b[1;33m,\u001b[0m \u001b[1;33m**\u001b[0m\u001b[0mkwargs\u001b[0m\u001b[1;33m)\u001b[0m\u001b[1;33m\u001b[0m\u001b[1;33m\u001b[0m\u001b[0m\n\u001b[0m\u001b[0;32m     74\u001b[0m \u001b[1;33m\u001b[0m\u001b[0m\n\u001b[0;32m     75\u001b[0m \u001b[1;33m\u001b[0m\u001b[0m\n",
      "\u001b[1;32m~\\AppData\\Roaming\\Python\\Python39\\site-packages\\requests\\api.py\u001b[0m in \u001b[0;36mrequest\u001b[1;34m(method, url, **kwargs)\u001b[0m\n\u001b[0;32m     57\u001b[0m     \u001b[1;31m# cases, and look like a memory leak in others.\u001b[0m\u001b[1;33m\u001b[0m\u001b[1;33m\u001b[0m\u001b[0m\n\u001b[0;32m     58\u001b[0m     \u001b[1;32mwith\u001b[0m \u001b[0msessions\u001b[0m\u001b[1;33m.\u001b[0m\u001b[0mSession\u001b[0m\u001b[1;33m(\u001b[0m\u001b[1;33m)\u001b[0m \u001b[1;32mas\u001b[0m \u001b[0msession\u001b[0m\u001b[1;33m:\u001b[0m\u001b[1;33m\u001b[0m\u001b[1;33m\u001b[0m\u001b[0m\n\u001b[1;32m---> 59\u001b[1;33m         \u001b[1;32mreturn\u001b[0m \u001b[0msession\u001b[0m\u001b[1;33m.\u001b[0m\u001b[0mrequest\u001b[0m\u001b[1;33m(\u001b[0m\u001b[0mmethod\u001b[0m\u001b[1;33m=\u001b[0m\u001b[0mmethod\u001b[0m\u001b[1;33m,\u001b[0m \u001b[0murl\u001b[0m\u001b[1;33m=\u001b[0m\u001b[0murl\u001b[0m\u001b[1;33m,\u001b[0m \u001b[1;33m**\u001b[0m\u001b[0mkwargs\u001b[0m\u001b[1;33m)\u001b[0m\u001b[1;33m\u001b[0m\u001b[1;33m\u001b[0m\u001b[0m\n\u001b[0m\u001b[0;32m     60\u001b[0m \u001b[1;33m\u001b[0m\u001b[0m\n\u001b[0;32m     61\u001b[0m \u001b[1;33m\u001b[0m\u001b[0m\n",
      "\u001b[1;32m~\\AppData\\Roaming\\Python\\Python39\\site-packages\\requests\\sessions.py\u001b[0m in \u001b[0;36mrequest\u001b[1;34m(self, method, url, params, data, headers, cookies, files, auth, timeout, allow_redirects, proxies, hooks, stream, verify, cert, json)\u001b[0m\n\u001b[0;32m    585\u001b[0m         }\n\u001b[0;32m    586\u001b[0m         \u001b[0msend_kwargs\u001b[0m\u001b[1;33m.\u001b[0m\u001b[0mupdate\u001b[0m\u001b[1;33m(\u001b[0m\u001b[0msettings\u001b[0m\u001b[1;33m)\u001b[0m\u001b[1;33m\u001b[0m\u001b[1;33m\u001b[0m\u001b[0m\n\u001b[1;32m--> 587\u001b[1;33m         \u001b[0mresp\u001b[0m \u001b[1;33m=\u001b[0m \u001b[0mself\u001b[0m\u001b[1;33m.\u001b[0m\u001b[0msend\u001b[0m\u001b[1;33m(\u001b[0m\u001b[0mprep\u001b[0m\u001b[1;33m,\u001b[0m \u001b[1;33m**\u001b[0m\u001b[0msend_kwargs\u001b[0m\u001b[1;33m)\u001b[0m\u001b[1;33m\u001b[0m\u001b[1;33m\u001b[0m\u001b[0m\n\u001b[0m\u001b[0;32m    588\u001b[0m \u001b[1;33m\u001b[0m\u001b[0m\n\u001b[0;32m    589\u001b[0m         \u001b[1;32mreturn\u001b[0m \u001b[0mresp\u001b[0m\u001b[1;33m\u001b[0m\u001b[1;33m\u001b[0m\u001b[0m\n",
      "\u001b[1;32m~\\AppData\\Roaming\\Python\\Python39\\site-packages\\requests\\sessions.py\u001b[0m in \u001b[0;36msend\u001b[1;34m(self, request, **kwargs)\u001b[0m\n\u001b[0;32m    699\u001b[0m \u001b[1;33m\u001b[0m\u001b[0m\n\u001b[0;32m    700\u001b[0m         \u001b[1;31m# Send the request\u001b[0m\u001b[1;33m\u001b[0m\u001b[1;33m\u001b[0m\u001b[0m\n\u001b[1;32m--> 701\u001b[1;33m         \u001b[0mr\u001b[0m \u001b[1;33m=\u001b[0m \u001b[0madapter\u001b[0m\u001b[1;33m.\u001b[0m\u001b[0msend\u001b[0m\u001b[1;33m(\u001b[0m\u001b[0mrequest\u001b[0m\u001b[1;33m,\u001b[0m \u001b[1;33m**\u001b[0m\u001b[0mkwargs\u001b[0m\u001b[1;33m)\u001b[0m\u001b[1;33m\u001b[0m\u001b[1;33m\u001b[0m\u001b[0m\n\u001b[0m\u001b[0;32m    702\u001b[0m \u001b[1;33m\u001b[0m\u001b[0m\n\u001b[0;32m    703\u001b[0m         \u001b[1;31m# Total elapsed time of the request (approximately)\u001b[0m\u001b[1;33m\u001b[0m\u001b[1;33m\u001b[0m\u001b[0m\n",
      "\u001b[1;32m~\\AppData\\Roaming\\Python\\Python39\\site-packages\\requests\\adapters.py\u001b[0m in \u001b[0;36msend\u001b[1;34m(self, request, stream, timeout, verify, cert, proxies)\u001b[0m\n\u001b[0;32m    561\u001b[0m             \u001b[1;32mif\u001b[0m \u001b[0misinstance\u001b[0m\u001b[1;33m(\u001b[0m\u001b[0me\u001b[0m\u001b[1;33m.\u001b[0m\u001b[0mreason\u001b[0m\u001b[1;33m,\u001b[0m \u001b[0m_SSLError\u001b[0m\u001b[1;33m)\u001b[0m\u001b[1;33m:\u001b[0m\u001b[1;33m\u001b[0m\u001b[1;33m\u001b[0m\u001b[0m\n\u001b[0;32m    562\u001b[0m                 \u001b[1;31m# This branch is for urllib3 v1.22 and later.\u001b[0m\u001b[1;33m\u001b[0m\u001b[1;33m\u001b[0m\u001b[0m\n\u001b[1;32m--> 563\u001b[1;33m                 \u001b[1;32mraise\u001b[0m \u001b[0mSSLError\u001b[0m\u001b[1;33m(\u001b[0m\u001b[0me\u001b[0m\u001b[1;33m,\u001b[0m \u001b[0mrequest\u001b[0m\u001b[1;33m=\u001b[0m\u001b[0mrequest\u001b[0m\u001b[1;33m)\u001b[0m\u001b[1;33m\u001b[0m\u001b[1;33m\u001b[0m\u001b[0m\n\u001b[0m\u001b[0;32m    564\u001b[0m \u001b[1;33m\u001b[0m\u001b[0m\n\u001b[0;32m    565\u001b[0m             \u001b[1;32mraise\u001b[0m \u001b[0mConnectionError\u001b[0m\u001b[1;33m(\u001b[0m\u001b[0me\u001b[0m\u001b[1;33m,\u001b[0m \u001b[0mrequest\u001b[0m\u001b[1;33m=\u001b[0m\u001b[0mrequest\u001b[0m\u001b[1;33m)\u001b[0m\u001b[1;33m\u001b[0m\u001b[1;33m\u001b[0m\u001b[0m\n",
      "\u001b[1;31mSSLError\u001b[0m: HTTPSConnectionPool(host='www6.mp4upload.com', port=183): Max retries exceeded with url: /d/sgxw6jytz3b4quuomowaakcykxjhxuzithhokvb64xemr3wfllgja7gjzmkpizxa6e23i5ln/48342-Episode%201_1565091825.mp4 (Caused by SSLError(SSLCertVerificationError(1, '[SSL: CERTIFICATE_VERIFY_FAILED] certificate verify failed: unable to get local issuer certificate (_ssl.c:1129)')))"
     ]
    }
   ],
   "source": [
    "requests.get('https://www6.mp4upload.com:183/d/sgxw6jytz3b4quuomowaakcykxjhxuzithhokvb64xemr3wfllgja7gjzmkpizxa6e23i5ln/48342-Episode 1_1565091825.mp4',headers=headers)"
   ]
  },
  {
   "cell_type": "code",
   "execution_count": 32,
   "id": "a50c508c",
   "metadata": {},
   "outputs": [
    {
     "name": "stdout",
     "output_type": "stream",
     "text": [
      "File downloaded to 1ad7bc36fea331055e22037ca217b7d7-1701525924\n"
     ]
    }
   ],
   "source": [
    "import time\n",
    "from pyDownload import Downloader\n",
    "\n",
    "# url = 'https://sample-videos.com/video123/mp4/720/big_buck_bunny_720p_30mb.mp4'\n",
    "\n",
    "downloader = Downloader(url=url,threads=5)\n",
    "if downloader.is_running:\n",
    "    time.sleep(1)\n",
    "print('File downloaded to %s' % downloader.file_name)"
   ]
  },
  {
   "cell_type": "code",
   "execution_count": 2,
   "id": "3b92d742",
   "metadata": {},
   "outputs": [
    {
     "name": "stdout",
     "output_type": "stream",
     "text": [
      "Collecting pyDownload\n",
      "  Downloading pyDownload-0.0.1.dev4-py2.py3-none-any.whl (7.1 kB)\n",
      "Requirement already satisfied: requests>=2.18.0 in c:\\users\\user\\appdata\\roaming\\python\\python39\\site-packages (from pyDownload) (2.28.1)\n",
      "Collecting progressbar2>=3.37.1\n",
      "  Downloading progressbar2-4.2.0-py2.py3-none-any.whl (27 kB)\n",
      "Collecting python-utils>=3.0.0\n",
      "  Downloading python_utils-3.8.1-py2.py3-none-any.whl (27 kB)\n",
      "Collecting typing-extensions>3.10.0.2\n",
      "  Downloading typing_extensions-4.8.0-py3-none-any.whl (31 kB)\n",
      "Requirement already satisfied: urllib3<1.27,>=1.21.1 in c:\\users\\user\\anaconda3\\lib\\site-packages (from requests>=2.18.0->pyDownload) (1.26.7)\n",
      "Requirement already satisfied: idna<4,>=2.5 in c:\\users\\user\\anaconda3\\lib\\site-packages (from requests>=2.18.0->pyDownload) (3.2)\n",
      "Requirement already satisfied: charset-normalizer<3,>=2 in c:\\users\\user\\anaconda3\\lib\\site-packages (from requests>=2.18.0->pyDownload) (2.0.4)\n",
      "Requirement already satisfied: certifi>=2017.4.17 in c:\\users\\user\\anaconda3\\lib\\site-packages (from requests>=2.18.0->pyDownload) (2021.10.8)\n",
      "Installing collected packages: typing-extensions, python-utils, progressbar2, pyDownload\n",
      "  Attempting uninstall: typing-extensions\n",
      "    Found existing installation: typing-extensions 3.10.0.2\n",
      "    Uninstalling typing-extensions-3.10.0.2:\n",
      "      Successfully uninstalled typing-extensions-3.10.0.2\n",
      "Successfully installed progressbar2-4.2.0 pyDownload-0.0.1.dev4 python-utils-3.8.1 typing-extensions-4.8.0\n",
      "Note: you may need to restart the kernel to use updated packages.\n"
     ]
    }
   ],
   "source": [
    "pip install pyDownload"
   ]
  },
  {
   "cell_type": "code",
   "execution_count": 33,
   "id": "33a123e9",
   "metadata": {},
   "outputs": [],
   "source": [
    "options = webdriver.ChromeOptions()\n",
    "options.add_argument('--incognito')\n",
    "# options.add_experimental_option(\"prefs\",prefs)\n",
    "driver = webdriver.Chrome(options=options)  \n",
    "    \n",
    "\n",
    "temp_link = urlHead9xB+mp4UploadLink[0][12:]\n",
    "driver.get(temp_link)\n",
    "time.sleep(10)\n",
    "temp_s = BeautifulSoup(driver.page_source,'lxml')\n",
    "temp_x_find_a = temp_s.find_all('a', attrs={'class':'max-w-sm mx-auto group block sm:inline-block border border-blue-500 px-6 w-full lg:w-auto lg:px-6 py-2 leading-4 text-blue-500 no-underline hover:border-blue-300 shadow'})\n",
    "url = temp_x_find_a[1].get('href')    \n"
   ]
  },
  {
   "cell_type": "code",
   "execution_count": 28,
   "id": "be1ca492",
   "metadata": {},
   "outputs": [
    {
     "data": {
      "text/plain": [
       "'https://www.mp4upload.com/zzxtedbq0133'"
      ]
     },
     "execution_count": 28,
     "metadata": {},
     "output_type": "execute_result"
    }
   ],
   "source": [
    "mp4UploadLink[0]"
   ]
  },
  {
   "cell_type": "code",
   "execution_count": 29,
   "id": "0011ba1a",
   "metadata": {},
   "outputs": [
    {
     "data": {
      "text/plain": [
       "'http://9xbud.com/'"
      ]
     },
     "execution_count": 29,
     "metadata": {},
     "output_type": "execute_result"
    }
   ],
   "source": [
    "urlHead9xB"
   ]
  },
  {
   "cell_type": "code",
   "execution_count": 34,
   "id": "682b39c2",
   "metadata": {},
   "outputs": [
    {
     "data": {
      "text/plain": [
       "'https://c11.9xbud.com/down/YToyOntzOjY6ImhlYWRlciI7YToxOntpOjA7czo0MjoiUmVmZXJlcjogaHR0cDovL21wNHVwbG9hZC5jb20venp4dGVkYnEwMTMzIjt9czozOiJ1cmwiO3M6MTE1OiJodHRwczovL3d3dzYubXA0dXBsb2FkLmNvbToxODMvZC9zZ3h3Nmp5dHozYjRxdXVvbW93YWFrY3lreGpoeHV6aXRoaG9rdmI2NHhlbm1jbnRjNXRwdG9kdGdwdGt3cm91bGpsbDNyZHgvdmlkZW8ubXA0Ijt9/4b915ad0342c093a65655ad5de8fa3a8-1701526113?customName=mp4upload_com+Video_+Original'"
      ]
     },
     "execution_count": 34,
     "metadata": {},
     "output_type": "execute_result"
    }
   ],
   "source": [
    "url"
   ]
  },
  {
   "cell_type": "code",
   "execution_count": null,
   "id": "59c424f3",
   "metadata": {},
   "outputs": [],
   "source": []
  }
 ],
 "metadata": {
  "kernelspec": {
   "display_name": "Python 3 (ipykernel)",
   "language": "python",
   "name": "python3"
  },
  "language_info": {
   "codemirror_mode": {
    "name": "ipython",
    "version": 3
   },
   "file_extension": ".py",
   "mimetype": "text/x-python",
   "name": "python",
   "nbconvert_exporter": "python",
   "pygments_lexer": "ipython3",
   "version": "3.9.7"
  }
 },
 "nbformat": 4,
 "nbformat_minor": 5
}
