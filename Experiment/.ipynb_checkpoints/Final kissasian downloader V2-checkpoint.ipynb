{
 "cells": [
  {
   "cell_type": "markdown",
   "id": "46add65f",
   "metadata": {},
   "source": [
    "# Kissasian Downloader"
   ]
  },
  {
   "cell_type": "markdown",
   "id": "bea94873",
   "metadata": {},
   "source": [
    "## Link of the series (homepage: https://kissasian.lu): "
   ]
  },
  {
   "cell_type": "code",
   "execution_count": 3,
   "id": "a43f92f6",
   "metadata": {},
   "outputs": [],
   "source": [
    "urlSeries = 'https://kissasian.lu/Drama/Heaven'"
   ]
  },
  {
   "cell_type": "code",
   "execution_count": 4,
   "id": "27beb66a",
   "metadata": {},
   "outputs": [],
   "source": [
    "import requests\n",
    "from bs4 import BeautifulSoup\n",
    "import re\n",
    "import time\n",
    "from IPython.display import clear_output\n",
    "import threading\n",
    "import os\n",
    "import pandas as pd\n",
    "from openpyxl import load_workbook\n",
    "from selenium import webdriver\n",
    "from selenium.webdriver.common.by import By\n",
    "import pandas as pd\n",
    "import numpy as np\n",
    "from openpyxl import load_workbook"
   ]
  },
  {
   "cell_type": "markdown",
   "id": "99f6d3ea",
   "metadata": {},
   "source": [
    "## Please enter information below:"
   ]
  },
  {
   "cell_type": "code",
   "execution_count": 5,
   "id": "42838425",
   "metadata": {},
   "outputs": [],
   "source": [
    "seriesName = urlSeries.replace('https://kissasian.lu/Drama/','')\n",
    "seriesName = seriesName.replace('-',' ')\n",
    "downloadDIR = os.getcwd()+'\\\\out\\\\video'\n",
    "pathToMine = os.getcwd()+'\\\\out\\\\Mine.xlsx'"
   ]
  },
  {
   "cell_type": "code",
   "execution_count": 6,
   "id": "9f8abb49",
   "metadata": {},
   "outputs": [],
   "source": [
    "# Temporary List Variables\n",
    "episodeMark = []\n",
    "linkTitles = []\n",
    "mp4UploadLink = []\n",
    "mp4UploadLinkForDownload = []\n",
    "replace = []\n",
    "# Trick\n",
    "headers = {'User-Agent':'Mozilla/5.0 (Windows NT 10.0; Win64; x64) AppleWebKit/537.36 (KHTML, like Gecko) Chrome/119.0.0.0 Safari/537.36'}"
   ]
  },
  {
   "cell_type": "markdown",
   "id": "3cfe3b63",
   "metadata": {},
   "source": [
    "#### Downloader magic function"
   ]
  },
  {
   "cell_type": "code",
   "execution_count": 5,
   "id": "1bcb801f",
   "metadata": {},
   "outputs": [],
   "source": [
    "from tqdm.notebook import tqdm\n",
    "import requests\n",
    "def download_file_mp4uploadAdd9xm(url,n):\n",
    "    flag = True\n",
    "    if len(str(n))==1:\n",
    "        temp_str = seriesName+' ep 00'+str(n)+'.mp4'        \n",
    "    elif len(str(n))==2:\n",
    "        temp_str = seriesName+' ep 0'+str(n)+'.mp4'\n",
    "    else:\n",
    "        temp_str = seriesName+' ep '+str(n)+'.mp4'\n",
    "        \n",
    "#     Find Link:\n",
    "    # prefs = {\"download.default_directory\" : downloadDIR}\n",
    "    options = webdriver.ChromeOptions()\n",
    "    options.add_argument('--incognito')\n",
    "    # options.add_experimental_option(\"prefs\",prefs)\n",
    "    driver = webdriver.Chrome(options=options)  \n",
    "    urlHead9xB = 'http://9xbud.com/'\n",
    "    \n",
    "    temp_link = urlHead9xB+url[12:]\n",
    "    driver.get(temp_link)\n",
    "    time.sleep(10)\n",
    "    temp_s = BeautifulSoup(driver.page_source,'lxml')\n",
    "    temp_x_find_a = temp_s.find_all('a', attrs={'class':'max-w-sm mx-auto group block sm:inline-block border border-blue-500 px-6 w-full lg:w-auto lg:px-6 py-2 leading-4 text-blue-500 no-underline hover:border-blue-300 shadow'})\n",
    "    url = temp_x_find_a[1].get('href')    \n",
    "    \n",
    "    driver.close()\n",
    "    \n",
    "    \n",
    "    # url = \"http://www.ovh.net/files/10Mb.dat\" #big file test\n",
    "#     url = link\n",
    "    headers = {'User-Agent':'Mozilla/5.0 (Windows NT 10.0; Win64; x64) AppleWebKit/537.36 (KHTML, like Gecko) Chrome/119.0.0.0 Safari/537.36'}\n",
    "    \n",
    "    # Streaming, so we can iterate over the response.\n",
    "    response = requests.get(url,headers = headers, stream=True)\n",
    "    total_size_in_bytes= int(response.headers.get('content-length', 0))\n",
    "    block_size = 1024 #1 Kibibyte\n",
    "    \n",
    "    if(os.path.exists(str_path + '\\\\' + temp_str)):\n",
    "        local_size = os.path.getsize(str_path+'\\\\'+temp_str)\n",
    "        if(local_size == total_size_in_bytes):\n",
    "            print(temp_str+\" already downloaded\")\n",
    "            flag = False\n",
    "    if flag:\n",
    "        progress_bar = tqdm( desc=temp_str,total=total_size_in_bytes, unit='iB', unit_scale=True)\n",
    "        with open(temp_str, 'wb') as file:\n",
    "            for data in response.iter_content(block_size):\n",
    "    #             print(response.status_code)\n",
    "                progress_bar.update(len(data))\n",
    "                file.write(data)\n",
    "                global stop_threads\n",
    "                if stop_threads:\n",
    "                    break\n",
    "        progress_bar.close()\n",
    "        if total_size_in_bytes != 0 and progress_bar.n != total_size_in_bytes:\n",
    "            print(\"ERROR, something went wrong\")\n",
    "            if (os.path.exists(str_path + '\\\\' + temp_str)):\n",
    "                os.remove(str_path + '\\\\' + temp_str)\n",
    "        if(response.status_code == 403):\n",
    "            if (os.path.exists(str_path + '\\\\' + temp_str)):\n",
    "                os.remove(str_path + '\\\\' + temp_str)\n",
    "        global stop_threads_1\n",
    "#         stop_threads_1 = True\n",
    "#         break\n",
    "#     break"
   ]
  },
  {
   "cell_type": "code",
   "execution_count": 6,
   "id": "fc932398",
   "metadata": {},
   "outputs": [],
   "source": [
    "str_path = downloadDIR + '\\\\'+seriesName\n",
    "isFirstRun = os.path.isdir(downloadDIR)\n",
    "isPathExist = os.path.isdir(str_path)\n",
    "check_file = False\n",
    "resumeDownloadThread = False"
   ]
  },
  {
   "cell_type": "code",
   "execution_count": 7,
   "id": "997586af",
   "metadata": {},
   "outputs": [],
   "source": [
    "if (not(isFirstRun)):\n",
    "    os.makedirs(downloadDIR)"
   ]
  },
  {
   "cell_type": "code",
   "execution_count": 8,
   "id": "534ab929",
   "metadata": {},
   "outputs": [],
   "source": [
    "if (isPathExist):\n",
    "    check_file = True\n",
    "else:\n",
    "    os.mkdir(str_path)"
   ]
  },
  {
   "cell_type": "code",
   "execution_count": 9,
   "id": "1cccb718",
   "metadata": {},
   "outputs": [],
   "source": [
    "# prefs = {\"download.default_directory\" : downloadDIR}\n",
    "options = webdriver.ChromeOptions()\n",
    "options.add_argument('--incognito')\n",
    "# options.add_experimental_option(\"prefs\",prefs)\n",
    "driver = webdriver.Chrome(options=options)  \n",
    "urlHead9xB = 'http://9xbud.com/'"
   ]
  },
  {
   "cell_type": "code",
   "execution_count": 10,
   "id": "f06ac4f9",
   "metadata": {},
   "outputs": [
    {
     "data": {
      "text/plain": [
       "True"
      ]
     },
     "execution_count": 10,
     "metadata": {},
     "output_type": "execute_result"
    }
   ],
   "source": [
    "wb = load_workbook(pathToMine, read_only=True)   # open an Excel file and return a workbook\n",
    "    \n",
    "if seriesName in wb.sheetnames:\n",
    "    resumeDownloadThread = True    \n",
    "#     print('sheet1 exists')\n",
    "check_file"
   ]
  },
  {
   "cell_type": "code",
   "execution_count": 11,
   "id": "e359451a",
   "metadata": {},
   "outputs": [],
   "source": [
    "if (check_file)and(resumeDownloadThread):\n",
    "    resumeDownloadThread = True\n",
    "    df = pd.read_excel(pathToMine,sheet_name=seriesName)\n",
    "    for i in range(df.shape[0]):\n",
    "        episodeMark.append(df['episode name'][i])\n",
    "        linkTitles.append(df['Kissasian Link'][i])\n",
    "        mp4UploadLink.append(df['mp4Upload Link'][i])"
   ]
  },
  {
   "cell_type": "code",
   "execution_count": 12,
   "id": "ee3186da",
   "metadata": {},
   "outputs": [],
   "source": [
    "driver.close()"
   ]
  },
  {
   "cell_type": "code",
   "execution_count": 13,
   "id": "da415f8c",
   "metadata": {},
   "outputs": [],
   "source": [
    "if(not(resumeDownloadThread)):\n",
    "#   Get the episode links:  \n",
    "    page = requests.get(urlSeries)\n",
    "    s = BeautifulSoup(page.text,'lxml')\n",
    "    titles = s.find_all('li', attrs={'class':'episodeSub'})\n",
    "    linkTitles = [title.a.get('href') for title in titles]\n",
    "    linkTitles.reverse()\n",
    "          "
   ]
  },
  {
   "cell_type": "code",
   "execution_count": 14,
   "id": "b1b2f9af",
   "metadata": {},
   "outputs": [],
   "source": [
    "if(not(resumeDownloadThread)):\n",
    "    n = 1\n",
    "    episodeMark = [];\n",
    "    for i in linkTitles:\n",
    "        if len(str(n))==1:\n",
    "            temp_str = seriesName+' ep 00'+str(n)+'.mp4'        \n",
    "        elif len(str(n))==2:\n",
    "            temp_str = seriesName+' ep 0'+str(n)+'.mp4'\n",
    "        else:\n",
    "            temp_str = seriesName+' ep '+str(n)+'.mp4'\n",
    "        episodeMark.append(temp_str)\n",
    "        n = n + 1"
   ]
  },
  {
   "cell_type": "code",
   "execution_count": 15,
   "id": "f3e477a6",
   "metadata": {},
   "outputs": [],
   "source": [
    "if(not(resumeDownloadThread)):\n",
    "    # prefs = {\"download.default_directory\" : downloadDIR}\n",
    "    options = webdriver.ChromeOptions()\n",
    "    options.add_argument('--incognito')\n",
    "    # options.add_experimental_option(\"prefs\",prefs)\n",
    "    driver = webdriver.Chrome(options=options)    "
   ]
  },
  {
   "cell_type": "code",
   "execution_count": null,
   "id": "cd3228c4",
   "metadata": {},
   "outputs": [],
   "source": []
  },
  {
   "cell_type": "code",
   "execution_count": 16,
   "id": "f4d6c2f1",
   "metadata": {},
   "outputs": [],
   "source": [
    "urlDomain = 'https://kissasian.lu'\n",
    "urlMobile = '/Mobile/SwitchToMobile' \n",
    "urlHead9xB = 'http://9xbud.com/'"
   ]
  },
  {
   "cell_type": "code",
   "execution_count": 17,
   "id": "effba1bf",
   "metadata": {},
   "outputs": [],
   "source": [
    "if(not(resumeDownloadThread)):\n",
    "    driver.get(urlDomain+urlMobile)\n",
    "    \n",
    "    for link in linkTitles:\n",
    "        driver.get(urlDomain+link+'&s=mp')\n",
    "        temp_x = driver.page_source\n",
    "        temp_s = BeautifulSoup(temp_x,'lxml')\n",
    "        temp_x_find_a = temp_s.find_all('a')\n",
    "        mp4UploadLink.append(temp_x_find_a[12].get('href'))\n",
    "    "
   ]
  },
  {
   "cell_type": "code",
   "execution_count": 18,
   "id": "2674ff37",
   "metadata": {},
   "outputs": [],
   "source": [
    "if(not(resumeDownloadThread)):\n",
    "    driver.close()\n",
    "    data = {\n",
    "        'episode name' : episodeMark,\n",
    "        'Kissasian Link' : linkTitles,\n",
    "        'mp4Upload Link' : mp4UploadLink,\n",
    "#         '9xbud Link' : mp4UploadLinkForDownload\n",
    "    }\n",
    "    df = pd.DataFrame(data)"
   ]
  },
  {
   "cell_type": "code",
   "execution_count": 19,
   "id": "c13b8cd7",
   "metadata": {},
   "outputs": [],
   "source": [
    "if(not(resumeDownloadThread)):\n",
    "    if(not(os.path.exists(pathToMine))):\n",
    "#         book = load_workbook(pathToMine)\n",
    "#         writer = pd.ExcelWriter(pathToMine, engine = 'openpyxl')\n",
    "#         writer.book = book\n",
    "        writer = pd.ExcelWriter(pathToMine, engine = 'xlsxwriter')\n",
    "        df.to_excel(writer, sheet_name = seriesName)\n",
    "        writer.close()        \n",
    "#         print('if')\n",
    "    else:\n",
    "#         print('else')\n",
    "        with pd.ExcelWriter(pathToMine, engine='openpyxl', mode='a',if_sheet_exists='replace') as writer:  \n",
    "            df.to_excel(writer, sheet_name=seriesName)"
   ]
  },
  {
   "cell_type": "code",
   "execution_count": 20,
   "id": "9d5e0958",
   "metadata": {},
   "outputs": [
    {
     "name": "stdout",
     "output_type": "stream",
     "text": [
      "Heaven ep 001.mp4 already downloaded\n",
      "Heaven ep 003.mp4 already downloaded\n",
      "Heaven ep 002.mp4 already downloaded\n",
      "Heaven ep 006.mp4 already downloaded\n",
      "Heaven ep 005.mp4 already downloaded\n",
      "Heaven ep 004.mp4 already downloaded\n",
      "Heaven ep 007.mp4 already downloaded\n",
      "Heaven ep 009.mp4 already downloaded\n",
      "Heaven ep 008.mp4 already downloaded\n"
     ]
    }
   ],
   "source": [
    "sleep_count = 10\n",
    "n = 1\n",
    "m = 0\n",
    "z = 0\n",
    "os.chdir(str_path)\n",
    "flagFinish = False\n",
    "episode_number = len(mp4UploadLink)\n",
    "thread_one = threading.Thread()\n",
    "thread_two = threading.Thread()\n",
    "thread_three = threading.Thread()\n",
    "# thread_four = threading.Thread()\n",
    "# thread_five = threading.Thread()\n",
    "# print(episode_fold_number)\n",
    "# print(episode_fold_number)\n",
    "\n",
    "while not(flagFinish):\n",
    "    if(not(thread_one.is_alive())):\n",
    "        thread_one = threading.Thread(target=download_file_mp4uploadAdd9xm,args=(mp4UploadLink[m],n))\n",
    "        thread_one.start()\n",
    "        m = m + 1\n",
    "        n = n + 1\n",
    "        if m == episode_number:\n",
    "            flagFinish = True\n",
    "    elif(not(thread_two.is_alive())):\n",
    "        thread_two = threading.Thread(target=download_file_mp4uploadAdd9xm,args=(mp4UploadLink[m],n))\n",
    "        thread_two.start()\n",
    "        m = m + 1\n",
    "        n = n + 1\n",
    "        if m == episode_number:\n",
    "            flagFinish = True\n",
    "    elif(not(thread_three.is_alive())):\n",
    "        thread_three = threading.Thread(target=download_file_mp4uploadAdd9xm,args=(mp4UploadLink[m],n))\n",
    "        thread_three.start()\n",
    "        m = m + 1\n",
    "        n = n + 1\n",
    "        if m == episode_number:\n",
    "            flagFinish = True\n",
    "#     elif(not(thread_four.is_alive())):\n",
    "#         thread_four = threading.Thread(target=download_file_mp4upload,args=(mp4UploadLinkForDownload[m],n))\n",
    "#         thread_four.start()\n",
    "#         m = m + 1\n",
    "#         n = n + 1\n",
    "#         if m == episode_number:\n",
    "#             flagFinish = True\n",
    "#     elif(not(thread_five.is_alive())):\n",
    "#         thread_five = threading.Thread(target=download_file_mp4upload,args=(mp4UploadLinkForDownload[m],n))\n",
    "#         thread_five.start()\n",
    "#         m = m + 1\n",
    "#         n = n + 1\n",
    "#         if m == episode_number:\n",
    "#             flagFinish = True\n",
    "    else:\n",
    "        time.sleep(sleep_count)\n",
    "time.sleep(sleep_count)\n",
    "\n",
    "# print('complete execution')\n",
    "    \n",
    "    \n",
    "# for i in range(episode_remaining_number):\n",
    "#     print(str(n+i))\n",
    "# #     print('hello')\n"
   ]
  },
  {
   "cell_type": "code",
   "execution_count": 21,
   "id": "256b0b77",
   "metadata": {},
   "outputs": [
    {
     "name": "stdout",
     "output_type": "stream",
     "text": [
      "Heaven ep 010.mp4 already downloaded\n"
     ]
    }
   ],
   "source": [
    "os.chdir('..')"
   ]
  },
  {
   "cell_type": "code",
   "execution_count": null,
   "id": "a42102d5",
   "metadata": {},
   "outputs": [],
   "source": []
  },
  {
   "cell_type": "code",
   "execution_count": 2,
   "id": "2ebf8e4b",
   "metadata": {},
   "outputs": [],
   "source": [
    "# pip install m3u8"
   ]
  },
  {
   "cell_type": "code",
   "execution_count": 12,
   "id": "0d73d0c4",
   "metadata": {},
   "outputs": [],
   "source": [
    "URL = 'https://vidmoly.to/embed-1oc3x1lshp73.html'\n",
    "# URL = 'https://str-2-e-4-9p-our.vmrest.space/hls/,xqx2jbzfnfokjiqbtgwcj6a3wl53ga4qbanyk3ijpm6ustp3zqdyatefctmq,.urlset/master.m3u8'\n",
    "\n",
    "session = requests.Session()\n",
    "\n",
    "response = session.get(URL).text\n"
   ]
  },
  {
   "cell_type": "code",
   "execution_count": 13,
   "id": "a140bdb6",
   "metadata": {},
   "outputs": [
    {
     "data": {
      "text/plain": [
       "'<html>\\r\\n<head><title>403 Forbidden</title></head>\\r\\n<body bgcolor=\"white\">\\r\\n<center><h1>403 Forbidden</h1></center>\\r\\n<hr><center>nginx</center>\\r\\n</body>\\r\\n</html>\\r\\n'"
      ]
     },
     "execution_count": 13,
     "metadata": {},
     "output_type": "execute_result"
    }
   ],
   "source": [
    "response"
   ]
  },
  {
   "cell_type": "code",
   "execution_count": 14,
   "id": "5572382e",
   "metadata": {},
   "outputs": [
    {
     "ename": "JSONDecodeError",
     "evalue": "Expecting value: line 1 column 1 (char 0)",
     "output_type": "error",
     "traceback": [
      "\u001b[1;31m---------------------------------------------------------------------------\u001b[0m",
      "\u001b[1;31mJSONDecodeError\u001b[0m                           Traceback (most recent call last)",
      "\u001b[1;32m~\\AppData\\Local\\Temp/ipykernel_45400/2615467.py\u001b[0m in \u001b[0;36m<module>\u001b[1;34m\u001b[0m\n\u001b[0;32m      1\u001b[0m \u001b[1;32mimport\u001b[0m \u001b[0mjson\u001b[0m\u001b[1;33m\u001b[0m\u001b[1;33m\u001b[0m\u001b[0m\n\u001b[1;32m----> 2\u001b[1;33m \u001b[0mdata\u001b[0m \u001b[1;33m=\u001b[0m \u001b[0mjson\u001b[0m\u001b[1;33m.\u001b[0m\u001b[0mloads\u001b[0m\u001b[1;33m(\u001b[0m\u001b[0mresponse\u001b[0m\u001b[1;33m)\u001b[0m\u001b[1;33m\u001b[0m\u001b[1;33m\u001b[0m\u001b[0m\n\u001b[0m",
      "\u001b[1;32m~\\anaconda3\\lib\\json\\__init__.py\u001b[0m in \u001b[0;36mloads\u001b[1;34m(s, cls, object_hook, parse_float, parse_int, parse_constant, object_pairs_hook, **kw)\u001b[0m\n\u001b[0;32m    344\u001b[0m             \u001b[0mparse_int\u001b[0m \u001b[1;32mis\u001b[0m \u001b[1;32mNone\u001b[0m \u001b[1;32mand\u001b[0m \u001b[0mparse_float\u001b[0m \u001b[1;32mis\u001b[0m \u001b[1;32mNone\u001b[0m \u001b[1;32mand\u001b[0m\u001b[1;33m\u001b[0m\u001b[1;33m\u001b[0m\u001b[0m\n\u001b[0;32m    345\u001b[0m             parse_constant is None and object_pairs_hook is None and not kw):\n\u001b[1;32m--> 346\u001b[1;33m         \u001b[1;32mreturn\u001b[0m \u001b[0m_default_decoder\u001b[0m\u001b[1;33m.\u001b[0m\u001b[0mdecode\u001b[0m\u001b[1;33m(\u001b[0m\u001b[0ms\u001b[0m\u001b[1;33m)\u001b[0m\u001b[1;33m\u001b[0m\u001b[1;33m\u001b[0m\u001b[0m\n\u001b[0m\u001b[0;32m    347\u001b[0m     \u001b[1;32mif\u001b[0m \u001b[0mcls\u001b[0m \u001b[1;32mis\u001b[0m \u001b[1;32mNone\u001b[0m\u001b[1;33m:\u001b[0m\u001b[1;33m\u001b[0m\u001b[1;33m\u001b[0m\u001b[0m\n\u001b[0;32m    348\u001b[0m         \u001b[0mcls\u001b[0m \u001b[1;33m=\u001b[0m \u001b[0mJSONDecoder\u001b[0m\u001b[1;33m\u001b[0m\u001b[1;33m\u001b[0m\u001b[0m\n",
      "\u001b[1;32m~\\anaconda3\\lib\\json\\decoder.py\u001b[0m in \u001b[0;36mdecode\u001b[1;34m(self, s, _w)\u001b[0m\n\u001b[0;32m    335\u001b[0m \u001b[1;33m\u001b[0m\u001b[0m\n\u001b[0;32m    336\u001b[0m         \"\"\"\n\u001b[1;32m--> 337\u001b[1;33m         \u001b[0mobj\u001b[0m\u001b[1;33m,\u001b[0m \u001b[0mend\u001b[0m \u001b[1;33m=\u001b[0m \u001b[0mself\u001b[0m\u001b[1;33m.\u001b[0m\u001b[0mraw_decode\u001b[0m\u001b[1;33m(\u001b[0m\u001b[0ms\u001b[0m\u001b[1;33m,\u001b[0m \u001b[0midx\u001b[0m\u001b[1;33m=\u001b[0m\u001b[0m_w\u001b[0m\u001b[1;33m(\u001b[0m\u001b[0ms\u001b[0m\u001b[1;33m,\u001b[0m \u001b[1;36m0\u001b[0m\u001b[1;33m)\u001b[0m\u001b[1;33m.\u001b[0m\u001b[0mend\u001b[0m\u001b[1;33m(\u001b[0m\u001b[1;33m)\u001b[0m\u001b[1;33m)\u001b[0m\u001b[1;33m\u001b[0m\u001b[1;33m\u001b[0m\u001b[0m\n\u001b[0m\u001b[0;32m    338\u001b[0m         \u001b[0mend\u001b[0m \u001b[1;33m=\u001b[0m \u001b[0m_w\u001b[0m\u001b[1;33m(\u001b[0m\u001b[0ms\u001b[0m\u001b[1;33m,\u001b[0m \u001b[0mend\u001b[0m\u001b[1;33m)\u001b[0m\u001b[1;33m.\u001b[0m\u001b[0mend\u001b[0m\u001b[1;33m(\u001b[0m\u001b[1;33m)\u001b[0m\u001b[1;33m\u001b[0m\u001b[1;33m\u001b[0m\u001b[0m\n\u001b[0;32m    339\u001b[0m         \u001b[1;32mif\u001b[0m \u001b[0mend\u001b[0m \u001b[1;33m!=\u001b[0m \u001b[0mlen\u001b[0m\u001b[1;33m(\u001b[0m\u001b[0ms\u001b[0m\u001b[1;33m)\u001b[0m\u001b[1;33m:\u001b[0m\u001b[1;33m\u001b[0m\u001b[1;33m\u001b[0m\u001b[0m\n",
      "\u001b[1;32m~\\anaconda3\\lib\\json\\decoder.py\u001b[0m in \u001b[0;36mraw_decode\u001b[1;34m(self, s, idx)\u001b[0m\n\u001b[0;32m    353\u001b[0m             \u001b[0mobj\u001b[0m\u001b[1;33m,\u001b[0m \u001b[0mend\u001b[0m \u001b[1;33m=\u001b[0m \u001b[0mself\u001b[0m\u001b[1;33m.\u001b[0m\u001b[0mscan_once\u001b[0m\u001b[1;33m(\u001b[0m\u001b[0ms\u001b[0m\u001b[1;33m,\u001b[0m \u001b[0midx\u001b[0m\u001b[1;33m)\u001b[0m\u001b[1;33m\u001b[0m\u001b[1;33m\u001b[0m\u001b[0m\n\u001b[0;32m    354\u001b[0m         \u001b[1;32mexcept\u001b[0m \u001b[0mStopIteration\u001b[0m \u001b[1;32mas\u001b[0m \u001b[0merr\u001b[0m\u001b[1;33m:\u001b[0m\u001b[1;33m\u001b[0m\u001b[1;33m\u001b[0m\u001b[0m\n\u001b[1;32m--> 355\u001b[1;33m             \u001b[1;32mraise\u001b[0m \u001b[0mJSONDecodeError\u001b[0m\u001b[1;33m(\u001b[0m\u001b[1;34m\"Expecting value\"\u001b[0m\u001b[1;33m,\u001b[0m \u001b[0ms\u001b[0m\u001b[1;33m,\u001b[0m \u001b[0merr\u001b[0m\u001b[1;33m.\u001b[0m\u001b[0mvalue\u001b[0m\u001b[1;33m)\u001b[0m \u001b[1;32mfrom\u001b[0m \u001b[1;32mNone\u001b[0m\u001b[1;33m\u001b[0m\u001b[1;33m\u001b[0m\u001b[0m\n\u001b[0m\u001b[0;32m    356\u001b[0m         \u001b[1;32mreturn\u001b[0m \u001b[0mobj\u001b[0m\u001b[1;33m,\u001b[0m \u001b[0mend\u001b[0m\u001b[1;33m\u001b[0m\u001b[1;33m\u001b[0m\u001b[0m\n",
      "\u001b[1;31mJSONDecodeError\u001b[0m: Expecting value: line 1 column 1 (char 0)"
     ]
    }
   ],
   "source": [
    "import json\n",
    "data = json.loads(response)"
   ]
  },
  {
   "cell_type": "code",
   "execution_count": 11,
   "id": "2d047b5c",
   "metadata": {},
   "outputs": [
    {
     "name": "stdout",
     "output_type": "stream",
     "text": [
      "Note: you may need to restart the kernel to use updated packages.\n"
     ]
    },
    {
     "name": "stderr",
     "output_type": "stream",
     "text": [
      "ERROR: Could not find a version that satisfies the requirement json (from versions: none)\n",
      "ERROR: No matching distribution found for json\n"
     ]
    }
   ],
   "source": [
    "# pip install json"
   ]
  },
  {
   "cell_type": "code",
   "execution_count": null,
   "id": "96009a67",
   "metadata": {},
   "outputs": [],
   "source": []
  }
 ],
 "metadata": {
  "kernelspec": {
   "display_name": "Python 3 (ipykernel)",
   "language": "python",
   "name": "python3"
  },
  "language_info": {
   "codemirror_mode": {
    "name": "ipython",
    "version": 3
   },
   "file_extension": ".py",
   "mimetype": "text/x-python",
   "name": "python",
   "nbconvert_exporter": "python",
   "pygments_lexer": "ipython3",
   "version": "3.9.7"
  }
 },
 "nbformat": 4,
 "nbformat_minor": 5
}
