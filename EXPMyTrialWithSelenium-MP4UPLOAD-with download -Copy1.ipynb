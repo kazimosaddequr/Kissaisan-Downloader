{
 "cells": [
  {
   "cell_type": "code",
   "execution_count": 1,
   "id": "eafefbbe",
   "metadata": {},
   "outputs": [],
   "source": [
    "import requests\n",
    "from bs4 import BeautifulSoup\n",
    "import re\n",
    "import time\n",
    "from IPython.display import clear_output\n",
    "import threading\n",
    "import os\n",
    "import pandas as pd\n",
    "from openpyxl import load_workbook"
   ]
  },
  {
   "cell_type": "code",
   "execution_count": 2,
   "id": "0130cc79",
   "metadata": {},
   "outputs": [],
   "source": [
    "# df = pd.DataFrame(data)"
   ]
  },
  {
   "cell_type": "code",
   "execution_count": 3,
   "id": "d5d9091d",
   "metadata": {},
   "outputs": [],
   "source": [
    "# df.head()"
   ]
  },
  {
   "cell_type": "code",
   "execution_count": 4,
   "id": "3ec31099",
   "metadata": {},
   "outputs": [],
   "source": [
    "# print(df)"
   ]
  },
  {
   "cell_type": "code",
   "execution_count": 5,
   "id": "1e4aa196",
   "metadata": {},
   "outputs": [],
   "source": [
    "# df.to_excel(\"output.xlsx\")"
   ]
  },
  {
   "cell_type": "code",
   "execution_count": 6,
   "id": "ba7e99c8",
   "metadata": {},
   "outputs": [],
   "source": [
    "# s = os.getcwd()+'\\\\output1.xlsx'\n",
    "# os.path.exists(s)"
   ]
  },
  {
   "cell_type": "code",
   "execution_count": 7,
   "id": "92c957e3",
   "metadata": {},
   "outputs": [],
   "source": [
    "# x1 = np.random.randn(100, 2)\n",
    "# df1 = pd.DataFrame(x1)\n",
    "\n",
    "# x2 = np.random.randn(100, 2)\n",
    "# df2 = pd.DataFrame(x2)\n",
    "# writer = pd.ExcelWriter(path, engine = 'xlsxwriter')\n",
    "# df1.to_excel(writer, sheet_name = 'x1')\n",
    "# df2.to_excel(writer, sheet_name = 'x2')\n",
    "# writer.close()"
   ]
  },
  {
   "cell_type": "code",
   "execution_count": 8,
   "id": "0bd6111a",
   "metadata": {},
   "outputs": [],
   "source": [
    "# from openpyxl import load_workbook\n",
    "# import numpy as np\n",
    "\n",
    "# # path = r\"C:\\Users\\fedel\\Desktop\\excelData\\PhD_data.xlsx\"\n",
    "# path = os.getcwd()+'\\\\output1.xlsx'\n",
    "\n",
    "# book = load_workbook(path)\n",
    "# writer = pd.ExcelWriter(path, engine = 'openpyxl')\n",
    "# writer.book = book\n",
    "\n",
    "# # x3 = np.random.randn(100, 2)\n",
    "# # df3 = pd.DataFrame(x3)\n",
    "\n",
    "# # x4 = np.random.randn(100, 2)\n",
    "# # df4 = pd.DataFrame(x4)\n",
    "\n",
    "# df.to_excel(writer, sheet_name = seriesName)\n",
    "# # df3.to_excel(writer, sheet_name = 'x3')\n",
    "# # df4.to_excel(writer, sheet_name = 'x4')\n",
    "# writer.close()"
   ]
  },
  {
   "cell_type": "code",
   "execution_count": null,
   "id": "50d00c9c",
   "metadata": {},
   "outputs": [],
   "source": []
  },
  {
   "cell_type": "code",
   "execution_count": null,
   "id": "33ec88c2",
   "metadata": {},
   "outputs": [],
   "source": []
  },
  {
   "cell_type": "code",
   "execution_count": null,
   "id": "bb94aea7",
   "metadata": {},
   "outputs": [],
   "source": []
  },
  {
   "cell_type": "code",
   "execution_count": 9,
   "id": "4676177b",
   "metadata": {},
   "outputs": [],
   "source": [
    "# data = {'File name': episodeMark,'9xbudLink': mp4UploadLinkForDownload}"
   ]
  },
  {
   "cell_type": "code",
   "execution_count": 10,
   "id": "26f57ba8",
   "metadata": {},
   "outputs": [],
   "source": [
    "# n = 1\n",
    "# episodeMark = [];\n",
    "# for i in mp4UploadLinkForDownload:\n",
    "#     if len(str(n))==1:\n",
    "#         temp_str = seriesName+' ep 00'+str(n)+'.mp4'        \n",
    "#     elif len(str(n))==2:\n",
    "#         temp_str = seriesName+' ep 0'+str(n)+'.mp4'\n",
    "#     else:\n",
    "#         temp_str = seriesName+' ep '+str(n)+'.mp4'\n",
    "#     episodeMark.append(temp_str)\n",
    "#     n = n + 1\n",
    "    \n",
    "        "
   ]
  },
  {
   "cell_type": "code",
   "execution_count": 11,
   "id": "5434e411",
   "metadata": {},
   "outputs": [],
   "source": [
    "# episodeMark"
   ]
  },
  {
   "cell_type": "code",
   "execution_count": null,
   "id": "d6a6f0bb",
   "metadata": {},
   "outputs": [],
   "source": []
  },
  {
   "cell_type": "code",
   "execution_count": null,
   "id": "d7b47d88",
   "metadata": {},
   "outputs": [],
   "source": []
  },
  {
   "cell_type": "code",
   "execution_count": 12,
   "id": "4caf1c47",
   "metadata": {},
   "outputs": [],
   "source": [
    "# urlSeries = 'https://kissasian.lu/Drama/Mr-Queen'\n",
    "urlSeries = 'https://kissasian.lu/Drama/Mahatsajan-Ruk-Karm-Gradart'\n",
    "seriesName = 'My Dear Warrior'\n",
    "downloadDIR = 'F:\\ripped\\out'\n",
    "pathToMine = os.getcwd()+'\\\\out\\\\Mine.xlsx'"
   ]
  },
  {
   "cell_type": "code",
   "execution_count": 13,
   "id": "2edfb0e1",
   "metadata": {},
   "outputs": [],
   "source": [
    "page = requests.get(urlSeries)"
   ]
  },
  {
   "cell_type": "code",
   "execution_count": 14,
   "id": "2dcb2dad",
   "metadata": {},
   "outputs": [],
   "source": [
    "s = BeautifulSoup(page.text,'lxml')"
   ]
  },
  {
   "cell_type": "code",
   "execution_count": 15,
   "id": "f1f9aba4",
   "metadata": {},
   "outputs": [],
   "source": [
    "titles = s.find_all('li', attrs={'class':'episodeSub'})"
   ]
  },
  {
   "cell_type": "code",
   "execution_count": 16,
   "id": "f4312f64",
   "metadata": {},
   "outputs": [],
   "source": [
    "linkTitles = [title.a.get('href') for title in titles]"
   ]
  },
  {
   "cell_type": "code",
   "execution_count": 17,
   "id": "9922896f",
   "metadata": {},
   "outputs": [],
   "source": [
    "linkTitles.reverse()"
   ]
  },
  {
   "cell_type": "code",
   "execution_count": 18,
   "id": "847700b8",
   "metadata": {},
   "outputs": [],
   "source": [
    "n = 1\n",
    "episodeMark = [];\n",
    "for i in linkTitles:\n",
    "    if len(str(n))==1:\n",
    "        temp_str = seriesName+' ep 00'+str(n)+'.mp4'        \n",
    "    elif len(str(n))==2:\n",
    "        temp_str = seriesName+' ep 0'+str(n)+'.mp4'\n",
    "    else:\n",
    "        temp_str = seriesName+' ep '+str(n)+'.mp4'\n",
    "    episodeMark.append(temp_str)\n",
    "    n = n + 1\n",
    "    \n",
    "        "
   ]
  },
  {
   "cell_type": "code",
   "execution_count": 46,
   "id": "558eead0",
   "metadata": {},
   "outputs": [],
   "source": [
    "from selenium import webdriver\n",
    "from selenium.webdriver.common.by import By"
   ]
  },
  {
   "cell_type": "code",
   "execution_count": 47,
   "id": "786b6038",
   "metadata": {},
   "outputs": [],
   "source": [
    "# prefs = {\"download.default_directory\" : downloadDIR}\n",
    "options = webdriver.ChromeOptions()\n",
    "options.add_argument('--incognito')\n",
    "# options.add_experimental_option(\"prefs\",prefs)\n",
    "driver = webdriver.Chrome(options=options)"
   ]
  },
  {
   "cell_type": "code",
   "execution_count": 48,
   "id": "d57e522d",
   "metadata": {},
   "outputs": [],
   "source": [
    "urlDomain = 'https://kissasian.lu'"
   ]
  },
  {
   "cell_type": "code",
   "execution_count": 49,
   "id": "4d1bd066",
   "metadata": {},
   "outputs": [],
   "source": [
    "urlMobile = '/Mobile/SwitchToMobile' "
   ]
  },
  {
   "cell_type": "code",
   "execution_count": 50,
   "id": "964711fe",
   "metadata": {},
   "outputs": [],
   "source": [
    "driver.get(urlDomain+urlMobile)"
   ]
  },
  {
   "cell_type": "code",
   "execution_count": 51,
   "id": "146bfa65",
   "metadata": {},
   "outputs": [],
   "source": [
    "mp4UploadLink = []\n",
    "for link in linkTitles:\n",
    "    driver.get(urlDomain+link+'&s=sw')\n",
    "    temp_x = driver.page_source\n",
    "    temp_s = BeautifulSoup(temp_x,'lxml')\n",
    "    temp_x_find_a = temp_s.find_all('a')\n",
    "    mp4UploadLink.append(temp_x_find_a[12].get('href'))\n",
    "    "
   ]
  },
  {
   "cell_type": "code",
   "execution_count": 52,
   "id": "3d78796e",
   "metadata": {
    "scrolled": true
   },
   "outputs": [
    {
     "data": {
      "text/plain": [
       "['https://streamwish.to/f/f4l406a54gc6.html',\n",
       " 'https://streamwish.to/f/4cf5hjn2rcl7.html',\n",
       " 'https://streamwish.to/f/9582sqlpkvwr.html',\n",
       " 'https://streamwish.to/f/uqnq52iyph7o.html',\n",
       " 'https://streamwish.to/f/af3x2xmpmxwt.html',\n",
       " 'https://streamwish.to/f/xwe4tg7tsjg4.html',\n",
       " 'https://streamwish.to/f/yl3keblhqg92.html',\n",
       " 'https://streamwish.to/f/jitnbxjlc27a.html',\n",
       " 'https://streamwish.to/f/idxtgguep46p.html',\n",
       " 'https://streamwish.to/f/3j3mr40flsn5.html',\n",
       " 'https://www.facebook.com/messages/t/kissasiansupport',\n",
       " 'https://www.facebook.com/messages/t/kissasiansupport',\n",
       " 'https://streamwish.to/f/fy20llfhxfsk.html',\n",
       " 'https://streamwish.to/f/nlio3726nnt8.html',\n",
       " 'https://streamwish.to/f/v5dqlc9zwoww.html',\n",
       " 'https://www.facebook.com/messages/t/kissasiansupport',\n",
       " 'https://streamwish.to/f/6gyy61amqc6f.html',\n",
       " 'https://streamwish.to/f/9m00aq5u8cb6.html',\n",
       " 'https://streamwish.to/f/7xw814py5b6o.html',\n",
       " 'https://streamwish.to/f/y75rp4zbu2x5.html']"
      ]
     },
     "execution_count": 52,
     "metadata": {},
     "output_type": "execute_result"
    }
   ],
   "source": [
    "mp4UploadLink"
   ]
  },
  {
   "cell_type": "code",
   "execution_count": 71,
   "id": "ea404165",
   "metadata": {},
   "outputs": [
    {
     "ename": "InvalidArgumentException",
     "evalue": "Message: invalid argument\n  (Session info: chrome=119.0.6045.160)\nStacktrace:\n\tGetHandleVerifier [0x00007FF6E60882B2+55298]\n\t(No symbol) [0x00007FF6E5FF5E02]\n\t(No symbol) [0x00007FF6E5EB045D]\n\t(No symbol) [0x00007FF6E5E9EEDC]\n\t(No symbol) [0x00007FF6E5E9D041]\n\t(No symbol) [0x00007FF6E5E9D803]\n\t(No symbol) [0x00007FF6E5EB29BF]\n\t(No symbol) [0x00007FF6E5F2AE27]\n\t(No symbol) [0x00007FF6E5F120AA]\n\t(No symbol) [0x00007FF6E5F2AAA4]\n\t(No symbol) [0x00007FF6E5F11E83]\n\t(No symbol) [0x00007FF6E5EE670A]\n\t(No symbol) [0x00007FF6E5EE7964]\n\tGetHandleVerifier [0x00007FF6E6400AAB+3694587]\n\tGetHandleVerifier [0x00007FF6E645728E+4048862]\n\tGetHandleVerifier [0x00007FF6E644F173+4015811]\n\tGetHandleVerifier [0x00007FF6E61247D6+695590]\n\t(No symbol) [0x00007FF6E6000CE8]\n\t(No symbol) [0x00007FF6E5FFCF34]\n\t(No symbol) [0x00007FF6E5FFD062]\n\t(No symbol) [0x00007FF6E5FED3A3]\n\tBaseThreadInitThunk [0x00007FFDF7667344+20]\n\tRtlUserThreadStart [0x00007FFDF7B826B1+33]\n",
     "output_type": "error",
     "traceback": [
      "\u001b[1;31m---------------------------------------------------------------------------\u001b[0m",
      "\u001b[1;31mInvalidArgumentException\u001b[0m                  Traceback (most recent call last)",
      "\u001b[1;32m~\\AppData\\Local\\Temp/ipykernel_38232/4237912007.py\u001b[0m in \u001b[0;36m<module>\u001b[1;34m\u001b[0m\n\u001b[1;32m----> 1\u001b[1;33m \u001b[0mdriver\u001b[0m\u001b[1;33m.\u001b[0m\u001b[0mget\u001b[0m\u001b[1;33m(\u001b[0m\u001b[0mlinkTitles\u001b[0m\u001b[1;33m[\u001b[0m\u001b[1;36m1\u001b[0m\u001b[1;33m]\u001b[0m\u001b[1;33m)\u001b[0m\u001b[1;33m\u001b[0m\u001b[1;33m\u001b[0m\u001b[0m\n\u001b[0m\u001b[0;32m      2\u001b[0m \u001b[0mtemp_x\u001b[0m \u001b[1;33m=\u001b[0m \u001b[0mdriver\u001b[0m\u001b[1;33m.\u001b[0m\u001b[0mpage_source\u001b[0m\u001b[1;33m\u001b[0m\u001b[1;33m\u001b[0m\u001b[0m\n\u001b[0;32m      3\u001b[0m \u001b[0mtemp_s\u001b[0m \u001b[1;33m=\u001b[0m \u001b[0mBeautifulSoup\u001b[0m\u001b[1;33m(\u001b[0m\u001b[0mtemp_x\u001b[0m\u001b[1;33m,\u001b[0m\u001b[1;34m'lxml'\u001b[0m\u001b[1;33m)\u001b[0m\u001b[1;33m\u001b[0m\u001b[1;33m\u001b[0m\u001b[0m\n\u001b[0;32m      4\u001b[0m \u001b[0mtemp_x_find_a\u001b[0m \u001b[1;33m=\u001b[0m \u001b[0mtemp_s\u001b[0m\u001b[1;33m.\u001b[0m\u001b[0mfind_all\u001b[0m\u001b[1;33m(\u001b[0m\u001b[1;34m'a'\u001b[0m\u001b[1;33m)\u001b[0m\u001b[1;33m\u001b[0m\u001b[1;33m\u001b[0m\u001b[0m\n\u001b[0;32m      5\u001b[0m \u001b[1;31m# temp_x_find_a[12].get('href')\u001b[0m\u001b[1;33m\u001b[0m\u001b[1;33m\u001b[0m\u001b[0m\n",
      "\u001b[1;32m~\\anaconda3\\lib\\site-packages\\selenium\\webdriver\\remote\\webdriver.py\u001b[0m in \u001b[0;36mget\u001b[1;34m(self, url)\u001b[0m\n\u001b[0;32m    354\u001b[0m     \u001b[1;32mdef\u001b[0m \u001b[0mget\u001b[0m\u001b[1;33m(\u001b[0m\u001b[0mself\u001b[0m\u001b[1;33m,\u001b[0m \u001b[0murl\u001b[0m\u001b[1;33m:\u001b[0m \u001b[0mstr\u001b[0m\u001b[1;33m)\u001b[0m \u001b[1;33m->\u001b[0m \u001b[1;32mNone\u001b[0m\u001b[1;33m:\u001b[0m\u001b[1;33m\u001b[0m\u001b[1;33m\u001b[0m\u001b[0m\n\u001b[0;32m    355\u001b[0m         \u001b[1;34m\"\"\"Loads a web page in the current browser session.\"\"\"\u001b[0m\u001b[1;33m\u001b[0m\u001b[1;33m\u001b[0m\u001b[0m\n\u001b[1;32m--> 356\u001b[1;33m         \u001b[0mself\u001b[0m\u001b[1;33m.\u001b[0m\u001b[0mexecute\u001b[0m\u001b[1;33m(\u001b[0m\u001b[0mCommand\u001b[0m\u001b[1;33m.\u001b[0m\u001b[0mGET\u001b[0m\u001b[1;33m,\u001b[0m \u001b[1;33m{\u001b[0m\u001b[1;34m\"url\"\u001b[0m\u001b[1;33m:\u001b[0m \u001b[0murl\u001b[0m\u001b[1;33m}\u001b[0m\u001b[1;33m)\u001b[0m\u001b[1;33m\u001b[0m\u001b[1;33m\u001b[0m\u001b[0m\n\u001b[0m\u001b[0;32m    357\u001b[0m \u001b[1;33m\u001b[0m\u001b[0m\n\u001b[0;32m    358\u001b[0m     \u001b[1;33m@\u001b[0m\u001b[0mproperty\u001b[0m\u001b[1;33m\u001b[0m\u001b[1;33m\u001b[0m\u001b[0m\n",
      "\u001b[1;32m~\\anaconda3\\lib\\site-packages\\selenium\\webdriver\\remote\\webdriver.py\u001b[0m in \u001b[0;36mexecute\u001b[1;34m(self, driver_command, params)\u001b[0m\n\u001b[0;32m    345\u001b[0m         \u001b[0mresponse\u001b[0m \u001b[1;33m=\u001b[0m \u001b[0mself\u001b[0m\u001b[1;33m.\u001b[0m\u001b[0mcommand_executor\u001b[0m\u001b[1;33m.\u001b[0m\u001b[0mexecute\u001b[0m\u001b[1;33m(\u001b[0m\u001b[0mdriver_command\u001b[0m\u001b[1;33m,\u001b[0m \u001b[0mparams\u001b[0m\u001b[1;33m)\u001b[0m\u001b[1;33m\u001b[0m\u001b[1;33m\u001b[0m\u001b[0m\n\u001b[0;32m    346\u001b[0m         \u001b[1;32mif\u001b[0m \u001b[0mresponse\u001b[0m\u001b[1;33m:\u001b[0m\u001b[1;33m\u001b[0m\u001b[1;33m\u001b[0m\u001b[0m\n\u001b[1;32m--> 347\u001b[1;33m             \u001b[0mself\u001b[0m\u001b[1;33m.\u001b[0m\u001b[0merror_handler\u001b[0m\u001b[1;33m.\u001b[0m\u001b[0mcheck_response\u001b[0m\u001b[1;33m(\u001b[0m\u001b[0mresponse\u001b[0m\u001b[1;33m)\u001b[0m\u001b[1;33m\u001b[0m\u001b[1;33m\u001b[0m\u001b[0m\n\u001b[0m\u001b[0;32m    348\u001b[0m             \u001b[0mresponse\u001b[0m\u001b[1;33m[\u001b[0m\u001b[1;34m\"value\"\u001b[0m\u001b[1;33m]\u001b[0m \u001b[1;33m=\u001b[0m \u001b[0mself\u001b[0m\u001b[1;33m.\u001b[0m\u001b[0m_unwrap_value\u001b[0m\u001b[1;33m(\u001b[0m\u001b[0mresponse\u001b[0m\u001b[1;33m.\u001b[0m\u001b[0mget\u001b[0m\u001b[1;33m(\u001b[0m\u001b[1;34m\"value\"\u001b[0m\u001b[1;33m,\u001b[0m \u001b[1;32mNone\u001b[0m\u001b[1;33m)\u001b[0m\u001b[1;33m)\u001b[0m\u001b[1;33m\u001b[0m\u001b[1;33m\u001b[0m\u001b[0m\n\u001b[0;32m    349\u001b[0m             \u001b[1;32mreturn\u001b[0m \u001b[0mresponse\u001b[0m\u001b[1;33m\u001b[0m\u001b[1;33m\u001b[0m\u001b[0m\n",
      "\u001b[1;32m~\\anaconda3\\lib\\site-packages\\selenium\\webdriver\\remote\\errorhandler.py\u001b[0m in \u001b[0;36mcheck_response\u001b[1;34m(self, response)\u001b[0m\n\u001b[0;32m    227\u001b[0m                 \u001b[0malert_text\u001b[0m \u001b[1;33m=\u001b[0m \u001b[0mvalue\u001b[0m\u001b[1;33m[\u001b[0m\u001b[1;34m\"alert\"\u001b[0m\u001b[1;33m]\u001b[0m\u001b[1;33m.\u001b[0m\u001b[0mget\u001b[0m\u001b[1;33m(\u001b[0m\u001b[1;34m\"text\"\u001b[0m\u001b[1;33m)\u001b[0m\u001b[1;33m\u001b[0m\u001b[1;33m\u001b[0m\u001b[0m\n\u001b[0;32m    228\u001b[0m             \u001b[1;32mraise\u001b[0m \u001b[0mexception_class\u001b[0m\u001b[1;33m(\u001b[0m\u001b[0mmessage\u001b[0m\u001b[1;33m,\u001b[0m \u001b[0mscreen\u001b[0m\u001b[1;33m,\u001b[0m \u001b[0mstacktrace\u001b[0m\u001b[1;33m,\u001b[0m \u001b[0malert_text\u001b[0m\u001b[1;33m)\u001b[0m  \u001b[1;31m# type: ignore[call-arg]  # mypy is not smart enough here\u001b[0m\u001b[1;33m\u001b[0m\u001b[1;33m\u001b[0m\u001b[0m\n\u001b[1;32m--> 229\u001b[1;33m         \u001b[1;32mraise\u001b[0m \u001b[0mexception_class\u001b[0m\u001b[1;33m(\u001b[0m\u001b[0mmessage\u001b[0m\u001b[1;33m,\u001b[0m \u001b[0mscreen\u001b[0m\u001b[1;33m,\u001b[0m \u001b[0mstacktrace\u001b[0m\u001b[1;33m)\u001b[0m\u001b[1;33m\u001b[0m\u001b[1;33m\u001b[0m\u001b[0m\n\u001b[0m",
      "\u001b[1;31mInvalidArgumentException\u001b[0m: Message: invalid argument\n  (Session info: chrome=119.0.6045.160)\nStacktrace:\n\tGetHandleVerifier [0x00007FF6E60882B2+55298]\n\t(No symbol) [0x00007FF6E5FF5E02]\n\t(No symbol) [0x00007FF6E5EB045D]\n\t(No symbol) [0x00007FF6E5E9EEDC]\n\t(No symbol) [0x00007FF6E5E9D041]\n\t(No symbol) [0x00007FF6E5E9D803]\n\t(No symbol) [0x00007FF6E5EB29BF]\n\t(No symbol) [0x00007FF6E5F2AE27]\n\t(No symbol) [0x00007FF6E5F120AA]\n\t(No symbol) [0x00007FF6E5F2AAA4]\n\t(No symbol) [0x00007FF6E5F11E83]\n\t(No symbol) [0x00007FF6E5EE670A]\n\t(No symbol) [0x00007FF6E5EE7964]\n\tGetHandleVerifier [0x00007FF6E6400AAB+3694587]\n\tGetHandleVerifier [0x00007FF6E645728E+4048862]\n\tGetHandleVerifier [0x00007FF6E644F173+4015811]\n\tGetHandleVerifier [0x00007FF6E61247D6+695590]\n\t(No symbol) [0x00007FF6E6000CE8]\n\t(No symbol) [0x00007FF6E5FFCF34]\n\t(No symbol) [0x00007FF6E5FFD062]\n\t(No symbol) [0x00007FF6E5FED3A3]\n\tBaseThreadInitThunk [0x00007FFDF7667344+20]\n\tRtlUserThreadStart [0x00007FFDF7B826B1+33]\n"
     ]
    }
   ],
   "source": [
    "driver.get(linkTitles[1])\n",
    "temp_x = driver.page_source\n",
    "temp_s = BeautifulSoup(temp_x,'lxml')\n",
    "temp_x_find_a = temp_s.find_all('a')\n",
    "# temp_x_find_a[12].get('href')    \n",
    "temp_x_find_a[1].get('href')"
   ]
  },
  {
   "cell_type": "code",
   "execution_count": 79,
   "id": "7f9ac40a",
   "metadata": {},
   "outputs": [],
   "source": [
    "driver.get(urlDomain+linkTitles[0]+'&s=beta&pfail=1')"
   ]
  },
  {
   "cell_type": "code",
   "execution_count": 75,
   "id": "a6b2293d",
   "metadata": {},
   "outputs": [
    {
     "data": {
      "text/plain": [
       "'/Drama/Mahatsajan-Ruk-Karm-Gradart/Episode-1?id=51349'"
      ]
     },
     "execution_count": 75,
     "metadata": {},
     "output_type": "execute_result"
    }
   ],
   "source": [
    "linkTitles[0]"
   ]
  },
  {
   "cell_type": "code",
   "execution_count": null,
   "id": "72eb8b08",
   "metadata": {},
   "outputs": [],
   "source": []
  },
  {
   "cell_type": "code",
   "execution_count": null,
   "id": "ed9e5b69",
   "metadata": {},
   "outputs": [],
   "source": [
    "'https://kissasian.lu/Drama/Mahatsajan-Ruk-Karm-Gradart/Episode-1?id=51349&s=beta&pfail=1'"
   ]
  },
  {
   "cell_type": "code",
   "execution_count": null,
   "id": "16d656f4",
   "metadata": {},
   "outputs": [],
   "source": []
  },
  {
   "cell_type": "code",
   "execution_count": 25,
   "id": "d40971a7",
   "metadata": {},
   "outputs": [],
   "source": [
    "# from IPython.display import display, Javascript\n",
    "# def add_cell(text,  type='code', direct='above'):\n",
    "#     text = text.replace('\\n','\\\\n').replace(\"\\\"\", \"\\\\\\\"\").replace(\"'\", \"\\\\'\")\n",
    "\n",
    "#     display(Javascript('''\n",
    "#     var cell = IPython.notebook.insert_cell_{}(\"{}\")\n",
    "#     cell.set_text(\"{}\")\n",
    "#     '''.format(direct, type, text)));\n",
    "\n",
    "# mp4UploadLinkForDownload[0]"
   ]
  },
  {
   "cell_type": "code",
   "execution_count": 26,
   "id": "27480e04",
   "metadata": {},
   "outputs": [],
   "source": [
    "# browser_open_code_String = \"options = webdriver.ChromeOptions()\\noptions.add_argument('--incognito')\\ndriver = webdriver.Chrome(options=options)\"\n",
    "# urlHead9xB = 'http://9xbud.com/'\n"
   ]
  },
  {
   "cell_type": "code",
   "execution_count": 27,
   "id": "044b2576",
   "metadata": {},
   "outputs": [
    {
     "data": {
      "text/plain": [
       "'f:\\\\ripped'"
      ]
     },
     "execution_count": 27,
     "metadata": {},
     "output_type": "execute_result"
    }
   ],
   "source": [
    "os.getcwd()"
   ]
  },
  {
   "cell_type": "code",
   "execution_count": 28,
   "id": "854d832b",
   "metadata": {},
   "outputs": [],
   "source": [
    "mp4UploadLinkForDownload = []\n",
    "urlHead9xB = 'http://9xbud.com/'\n",
    "for link in mp4UploadLink:\n",
    "    temp_link = urlHead9xB+link[12:]\n",
    "    driver.get(temp_link)\n",
    "    time.sleep(10)\n",
    "    temp_s = BeautifulSoup(driver.page_source,'lxml')\n",
    "    temp_x_find_a = temp_s.find_all('a', attrs={'class':'max-w-sm mx-auto group block sm:inline-block border border-blue-500 px-6 w-full lg:w-auto lg:px-6 py-2 leading-4 text-blue-500 no-underline hover:border-blue-300 shadow'})\n",
    "    mp4UploadLinkForDownload.append(temp_x_find_a[1].get('href'))    "
   ]
  },
  {
   "cell_type": "code",
   "execution_count": 29,
   "id": "263f7aac",
   "metadata": {},
   "outputs": [],
   "source": [
    "driver.close()"
   ]
  },
  {
   "cell_type": "code",
   "execution_count": 30,
   "id": "13ace332",
   "metadata": {},
   "outputs": [],
   "source": [
    "import os"
   ]
  },
  {
   "cell_type": "code",
   "execution_count": 31,
   "id": "cb450bb7",
   "metadata": {},
   "outputs": [],
   "source": [
    "str_path = os.getcwd()"
   ]
  },
  {
   "cell_type": "code",
   "execution_count": 32,
   "id": "ad8e97bd",
   "metadata": {},
   "outputs": [],
   "source": [
    "str_path = str_path + '\\\\\\\\'+seriesName"
   ]
  },
  {
   "cell_type": "code",
   "execution_count": 33,
   "id": "55ff0a10",
   "metadata": {},
   "outputs": [],
   "source": [
    "isPathExist = os.path.isdir(str_path)"
   ]
  },
  {
   "cell_type": "code",
   "execution_count": 34,
   "id": "28e7d0b5",
   "metadata": {},
   "outputs": [
    {
     "name": "stdout",
     "output_type": "stream",
     "text": [
      "exist\n"
     ]
    }
   ],
   "source": [
    "if (isPathExist):\n",
    "    print(\"exist\")\n",
    "else:\n",
    "    os.mkdir(str_path)\n",
    "    "
   ]
  },
  {
   "cell_type": "code",
   "execution_count": 35,
   "id": "11e5bdbf",
   "metadata": {},
   "outputs": [],
   "source": [
    "os.chdir(str_path)"
   ]
  },
  {
   "cell_type": "code",
   "execution_count": 37,
   "id": "c1524720",
   "metadata": {},
   "outputs": [],
   "source": [
    "data = {\n",
    "    'episode name' : episodeMark,\n",
    "    'Kissasian Link' : linkTitles,\n",
    "    'mp4Upload Link' : mp4UploadLink,\n",
    "    '9xbud Link' : mp4UploadLinkForDownload\n",
    "}"
   ]
  },
  {
   "cell_type": "code",
   "execution_count": 38,
   "id": "879a1c0d",
   "metadata": {},
   "outputs": [],
   "source": [
    "df = pd.DataFrame(data)"
   ]
  },
  {
   "cell_type": "code",
   "execution_count": 45,
   "id": "cefa9bd6",
   "metadata": {},
   "outputs": [],
   "source": [
    "book = load_workbook(pathToMine)\n",
    "writer = pd.ExcelWriter(pathToMine, engine = 'openpyxl')\n",
    "writer.book = book\n",
    "\n",
    "writer = pd.ExcelWriter(pathToMine, engine = 'xlsxwriter')\n",
    "df.to_excel(writer, sheet_name = seriesName)\n",
    "writer.close()"
   ]
  },
  {
   "cell_type": "code",
   "execution_count": null,
   "id": "1c640145",
   "metadata": {},
   "outputs": [],
   "source": []
  },
  {
   "cell_type": "code",
   "execution_count": null,
   "id": "05a23943",
   "metadata": {},
   "outputs": [],
   "source": [
    "# ls"
   ]
  },
  {
   "cell_type": "code",
   "execution_count": null,
   "id": "c1af95af",
   "metadata": {},
   "outputs": [],
   "source": []
  },
  {
   "cell_type": "code",
   "execution_count": null,
   "id": "8634db33",
   "metadata": {},
   "outputs": [],
   "source": [
    "# mp4UploadLinkForDownloadTry.append(mp4UploadLinkForDownload[2])"
   ]
  },
  {
   "cell_type": "code",
   "execution_count": null,
   "id": "4dd70685",
   "metadata": {},
   "outputs": [],
   "source": [
    "# os.chdir('..')"
   ]
  },
  {
   "cell_type": "code",
   "execution_count": null,
   "id": "5141840e",
   "metadata": {},
   "outputs": [],
   "source": []
  },
  {
   "cell_type": "code",
   "execution_count": null,
   "id": "637f7727",
   "metadata": {},
   "outputs": [],
   "source": [
    "# os.chdir('..')"
   ]
  },
  {
   "cell_type": "code",
   "execution_count": null,
   "id": "5f21c868",
   "metadata": {},
   "outputs": [],
   "source": [
    "# ls"
   ]
  },
  {
   "cell_type": "code",
   "execution_count": null,
   "id": "61023dfa",
   "metadata": {},
   "outputs": [],
   "source": []
  },
  {
   "cell_type": "code",
   "execution_count": null,
   "id": "f94aa646",
   "metadata": {},
   "outputs": [],
   "source": [
    "# ls"
   ]
  },
  {
   "cell_type": "code",
   "execution_count": null,
   "id": "c8633eae",
   "metadata": {},
   "outputs": [],
   "source": [
    "# import os\n"
   ]
  },
  {
   "cell_type": "code",
   "execution_count": null,
   "id": "4733e4b4",
   "metadata": {},
   "outputs": [],
   "source": [
    "# ls"
   ]
  },
  {
   "cell_type": "code",
   "execution_count": null,
   "id": "38151da7",
   "metadata": {},
   "outputs": [],
   "source": []
  },
  {
   "cell_type": "code",
   "execution_count": null,
   "id": "95c7c1d7",
   "metadata": {},
   "outputs": [],
   "source": [
    "from tqdm.notebook import tqdm\n",
    "import requests\n",
    "def download_file_mp4upload(url,n):\n",
    "    if len(str(n))==1:\n",
    "        temp_str = seriesName+' ep 00'+str(n)+'.mp4'        \n",
    "    elif len(str(n))==2:\n",
    "        temp_str = seriesName+' ep 0'+str(n)+'.mp4'\n",
    "    else:\n",
    "        temp_str = seriesName+' ep '+str(n)+'.mp4'\n",
    "    # url = \"http://www.ovh.net/files/10Mb.dat\" #big file test\n",
    "#     url = link\n",
    "    headers = {'User-Agent':'Mozilla/5.0 (Windows NT 10.0; Win64; x64) AppleWebKit/537.36 (KHTML, like Gecko) Chrome/119.0.0.0 Safari/537.36'}\n",
    "    \n",
    "    # Streaming, so we can iterate over the response.\n",
    "    response = requests.get(url,headers = headers, stream=True)\n",
    "    total_size_in_bytes= int(response.headers.get('content-length', 0))\n",
    "    block_size = 1024 #1 Kibibyte\n",
    "    progress_bar = tqdm( desc=temp_str,total=total_size_in_bytes, unit='iB', unit_scale=True)\n",
    "    with open(temp_str, 'wb') as file:\n",
    "        for data in response.iter_content(block_size):\n",
    "            progress_bar.update(len(data))\n",
    "            file.write(data)\n",
    "    progress_bar.close()\n",
    "    if total_size_in_bytes != 0 and progress_bar.n != total_size_in_bytes:\n",
    "        print(\"ERROR, something went wrong\")\n",
    "#         break\n",
    "#     break"
   ]
  },
  {
   "cell_type": "code",
   "execution_count": null,
   "id": "db2bac9e",
   "metadata": {},
   "outputs": [],
   "source": [
    "# episode_number = len(mp4UploadLinkForDownload)\n",
    "# # episode_number"
   ]
  },
  {
   "cell_type": "code",
   "execution_count": null,
   "id": "fa241a57",
   "metadata": {},
   "outputs": [],
   "source": [
    "# episode_number"
   ]
  },
  {
   "cell_type": "code",
   "execution_count": null,
   "id": "46999bd1",
   "metadata": {},
   "outputs": [],
   "source": [
    "# mp4UploadLinkForDownload "
   ]
  },
  {
   "cell_type": "code",
   "execution_count": null,
   "id": "e41bf6ca",
   "metadata": {},
   "outputs": [],
   "source": [
    "# sampleLinkDownloadArr[13]"
   ]
  },
  {
   "cell_type": "code",
   "execution_count": null,
   "id": "cb0ece09",
   "metadata": {},
   "outputs": [],
   "source": [
    "# episode_number"
   ]
  },
  {
   "cell_type": "code",
   "execution_count": null,
   "id": "71981cc3",
   "metadata": {},
   "outputs": [],
   "source": [
    "# episode_number = 2\n",
    "# episode_fold_number = int(episode_number/5)\n",
    "# episode_remaining_number = episode_number%5\n"
   ]
  },
  {
   "cell_type": "code",
   "execution_count": null,
   "id": "97e3953f",
   "metadata": {},
   "outputs": [],
   "source": [
    "# sleep_count = 5\n",
    "# n = 1\n",
    "# m = 0\n",
    "# flagFinish = False\n",
    "# thread_one = threading.Thread()\n",
    "# thread_two = threading.Thread()\n",
    "# thread_three = threading.Thread()\n",
    "# thread_four = threading.Thread()\n",
    "# thread_five = threading.Thread()\n",
    "# # print(episode_fold_number)\n",
    "# # print(episode_fold_number)\n",
    "\n",
    "# while not(flagFinish):\n",
    "#     if(not(thread_one.is_alive())):\n",
    "#         thread_one = threading.Thread(target=download_file_mp4upload,args=(mp4UploadLinkForDownload[m],n))\n",
    "#         thread_one.start()\n",
    "#         m = m + 1\n",
    "#         n = n + 1\n",
    "#         if m == episode_number:\n",
    "#             flagFinish = True\n",
    "#     elif(not(thread_two.is_alive())):\n",
    "#         thread_two = threading.Thread(target=download_file_mp4upload,args=(mp4UploadLinkForDownload[m],n))\n",
    "#         thread_two.start()\n",
    "#         m = m + 1\n",
    "#         n = n + 1\n",
    "#         if m == episode_number:\n",
    "#             flagFinish = True\n",
    "#     elif(not(thread_three.is_alive())):\n",
    "#         thread_three = threading.Thread(target=download_file_mp4upload,args=(mp4UploadLinkForDownload[m],n))\n",
    "#         thread_three.start()\n",
    "#         m = m + 1\n",
    "#         n = n + 1\n",
    "#         if m == episode_number:\n",
    "#             flagFinish = True\n",
    "#     elif(not(thread_four.is_alive())):\n",
    "#         thread_four = threading.Thread(target=download_file_mp4upload,args=(mp4UploadLinkForDownload[m],n))\n",
    "#         thread_four.start()\n",
    "#         m = m + 1\n",
    "#         n = n + 1\n",
    "#         if m == episode_number:\n",
    "#             flagFinish = True\n",
    "#     elif(not(thread_five.is_alive())):\n",
    "#         thread_five = threading.Thread(target=download_file_mp4upload,args=(mp4UploadLinkForDownload[m],n))\n",
    "#         thread_five.start()\n",
    "#         m = m + 1\n",
    "#         n = n + 1\n",
    "#         if m == episode_number:\n",
    "#             flagFinish = True\n",
    "#     else:\n",
    "#         time.sleep(sleep_count)\n",
    "# time.sleep(sleep_count)\n",
    "\n",
    "# # print('complete execution')\n",
    "    \n",
    "    \n",
    "# # for i in range(episode_remaining_number):\n",
    "# #     print(str(n+i))\n",
    "# # #     print('hello')\n"
   ]
  },
  {
   "cell_type": "code",
   "execution_count": null,
   "id": "7566832e",
   "metadata": {},
   "outputs": [],
   "source": [
    "# sleep_count = 5\n",
    "# n = 1\n",
    "# m = 0\n",
    "# # print(episode_fold_number)\n",
    "# # print(episode_fold_number)\n",
    "# while (episode_fold_number!=0):\n",
    "#     if (episode_fold_number!=0):\n",
    "#         thread_one = threading.Thread(target=download_file_mp4upload,args=(mp4UploadLinkForDownload[m],n))\n",
    "#         thread_two = threading.Thread(target=download_file_mp4upload,args=(mp4UploadLinkForDownload[m+1],n+1))\n",
    "#         thread_three = threading.Thread(target=download_file_mp4upload,args=(mp4UploadLinkForDownload[m+2],n+2))\n",
    "#         thread_four = threading.Thread(target=download_file_mp4upload,args=(mp4UploadLinkForDownload[m+3],n+3))\n",
    "#         thread_five = threading.Thread(target=download_file_mp4upload,args=(mp4UploadLinkForDownload[m+4],n+4))\n",
    "#         thread_one.start()\n",
    "#         thread_two.start()\n",
    "#         thread_three.start()\n",
    "#         thread_four.start()\n",
    "#         thread_five.start()\n",
    "#         while (thread_one.is_alive())or(thread_two.is_alive())or(thread_three.is_alive())or(thread_four.is_alive())or(thread_five.is_alive()):\n",
    "#             time.sleep(sleep_count)\n",
    "# #         print(str(n))\n",
    "# #         print(str(n+1))\n",
    "# #         print(str(n+2))\n",
    "#         n = n + 5\n",
    "#         m = m + 5\n",
    "# #         print('helllo')\n",
    "#         episode_fold_number = episode_fold_number-1\n",
    "\n",
    "# if episode_remaining_number == 4:\n",
    "#     thread_one = threading.Thread(target=download_file_mp4upload,args=(mp4UploadLinkForDownload[m],n))\n",
    "#     thread_two = threading.Thread(target=download_file_mp4upload,args=(mp4UploadLinkForDownload[m+1],n+1))\n",
    "#     thread_three = threading.Thread(target=download_file_mp4upload,args=(mp4UploadLinkForDownload[m+2],n+2))\n",
    "#     thread_four = threading.Thread(target=download_file_mp4upload,args=(mp4UploadLinkForDownload[m+3],n+3))\n",
    "#     thread_one.start()\n",
    "#     thread_two.start()\n",
    "#     thread_three.start()\n",
    "#     thread_four.start()\n",
    "#     while (thread_one.is_alive())or(thread_two.is_alive())or(thread_three.is_alive())or(thread_four.is_alive()):\n",
    "#         time.sleep(sleep_count) \n",
    "# elif episode_remaining_number == 3:\n",
    "#     thread_one = threading.Thread(target=download_file_mp4upload,args=(mp4UploadLinkForDownload[m],n))\n",
    "#     thread_two = threading.Thread(target=download_file_mp4upload,args=(mp4UploadLinkForDownload[m+1],n+1))\n",
    "#     thread_three = threading.Thread(target=download_file_mp4upload,args=(mp4UploadLinkForDownload[m+2],n+2))\n",
    "#     thread_one.start()\n",
    "#     thread_two.start()\n",
    "#     thread_three.start()\n",
    "#     while (thread_one.is_alive())or(thread_two.is_alive())or(thread_three.is_alive()):\n",
    "#         time.sleep(sleep_count) \n",
    "# elif episode_remaining_number == 2:\n",
    "#     thread_one = threading.Thread(target=download_file_mp4upload,args=(mp4UploadLinkForDownload[m],n))\n",
    "#     thread_two = threading.Thread(target=download_file_mp4upload,args=(mp4UploadLinkForDownload[m+1],n+1))\n",
    "#     thread_one.start()\n",
    "#     thread_two.start()\n",
    "#     while (thread_one.is_alive())or(thread_two.is_alive()):\n",
    "#         time.sleep(sleep_count)\n",
    "# elif episode_remaining_number == 1:\n",
    "#     thread_one = threading.Thread(target=download_file_mp4upload,args=(mp4UploadLinkForDownload[m],n))\n",
    "#     thread_one.start()\n",
    "#     while (thread_one.is_alive()):\n",
    "#             time.sleep(sleep_count)\n",
    "# else:\n",
    "#     print('complete execution')\n",
    "    \n",
    "    \n",
    "# # for i in range(episode_remaining_number):\n",
    "# #     print(str(n+i))\n",
    "# # #     print('hello')\n"
   ]
  },
  {
   "cell_type": "code",
   "execution_count": null,
   "id": "aa4275c7",
   "metadata": {},
   "outputs": [],
   "source": [
    "# sleep_count = 5\n",
    "# n = 1\n",
    "# m = 0\n",
    "# # print(episode_fold_number)\n",
    "# # print(episode_fold_number)\n",
    "# while (episode_fold_number!=0):\n",
    "#     if (episode_fold_number!=0):\n",
    "#         thread_one = threading.Thread(target=download_file_mp4upload,args=(mp4UploadLinkForDownload[m],n))\n",
    "#         thread_two = threading.Thread(target=download_file_mp4upload,args=(mp4UploadLinkForDownload[m+1],n+1))\n",
    "#         thread_three = threading.Thread(target=download_file_mp4upload,args=(mp4UploadLinkForDownload[m+2],n+2))\n",
    "#         thread_one.start()\n",
    "#         thread_two.start()\n",
    "#         thread_three.start()\n",
    "#         while (thread_one.is_alive())or(thread_two.is_alive())or(thread_three.is_alive()):\n",
    "#             time.sleep(sleep_count)\n",
    "# #         print(str(n))\n",
    "# #         print(str(n+1))\n",
    "# #         print(str(n+2))\n",
    "#         n = n + 3\n",
    "#         m = m + 3\n",
    "# #         print('helllo')\n",
    "#         episode_fold_number = episode_fold_number-1\n",
    "\n",
    "# if episode_remaining_number == 2:\n",
    "#     thread_one = threading.Thread(target=download_file_mp4upload,args=(mp4UploadLinkForDownload[m],n))\n",
    "#     thread_two = threading.Thread(target=download_file_mp4upload,args=(mp4UploadLinkForDownload[m+1],n+1))\n",
    "#     thread_one.start()\n",
    "#     thread_two.start()\n",
    "#     while (thread_one.is_alive())or(thread_two.is_alive()):\n",
    "#         time.sleep(sleep_count)\n",
    "# elif episode_remaining_number == 1:\n",
    "#     thread_one = threading.Thread(target=download_file_mp4upload,args=(mp4UploadLinkForDownload[m],n))\n",
    "#     thread_one.start()\n",
    "#     while (thread_one.is_alive()):\n",
    "#             time.sleep(sleep_count)\n",
    "# else:\n",
    "#     print('complete execution')\n",
    "    \n",
    "    \n",
    "# # for i in range(episode_remaining_number):\n",
    "# #     print(str(n+i))\n",
    "# # #     print('hello')\n"
   ]
  },
  {
   "cell_type": "code",
   "execution_count": null,
   "id": "c0303753",
   "metadata": {},
   "outputs": [],
   "source": [
    "os.chdir('..')"
   ]
  },
  {
   "cell_type": "code",
   "execution_count": null,
   "id": "54ab1dba",
   "metadata": {},
   "outputs": [],
   "source": [
    "# ls"
   ]
  },
  {
   "cell_type": "code",
   "execution_count": null,
   "id": "9a7263ee",
   "metadata": {},
   "outputs": [],
   "source": []
  }
 ],
 "metadata": {
  "kernelspec": {
   "display_name": "Python 3 (ipykernel)",
   "language": "python",
   "name": "python3"
  },
  "language_info": {
   "codemirror_mode": {
    "name": "ipython",
    "version": 3
   },
   "file_extension": ".py",
   "mimetype": "text/x-python",
   "name": "python",
   "nbconvert_exporter": "python",
   "pygments_lexer": "ipython3",
   "version": "3.9.7"
  }
 },
 "nbformat": 4,
 "nbformat_minor": 5
}
