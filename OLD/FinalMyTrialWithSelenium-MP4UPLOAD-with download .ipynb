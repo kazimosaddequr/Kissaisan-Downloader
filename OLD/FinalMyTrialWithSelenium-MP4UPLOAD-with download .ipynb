{
 "cells": [
  {
   "cell_type": "code",
   "execution_count": 1,
   "id": "eafefbbe",
   "metadata": {},
   "outputs": [],
   "source": [
    "import requests\n",
    "from bs4 import BeautifulSoup\n",
    "import re\n",
    "import time\n",
    "from IPython.display import clear_output\n",
    "import threading\n",
    "import os"
   ]
  },
  {
   "cell_type": "code",
   "execution_count": 2,
   "id": "4caf1c47",
   "metadata": {},
   "outputs": [],
   "source": [
    "# urlSeries = 'https://kissasian.lu/Drama/Mr-Queen'\n",
    "urlSeries = 'https://kissasian.lu/Drama/What-s-Wrong-With-Secretary-Kim'\n",
    "seriesName = 'What Wrong With Secretary Kim'\n",
    "downloadDIR = 'F:\\ripped\\out'"
   ]
  },
  {
   "cell_type": "code",
   "execution_count": 3,
   "id": "2edfb0e1",
   "metadata": {},
   "outputs": [],
   "source": [
    "page = requests.get(urlSeries)"
   ]
  },
  {
   "cell_type": "code",
   "execution_count": 4,
   "id": "2dcb2dad",
   "metadata": {},
   "outputs": [],
   "source": [
    "s = BeautifulSoup(page.text,'lxml')"
   ]
  },
  {
   "cell_type": "code",
   "execution_count": 5,
   "id": "f1f9aba4",
   "metadata": {},
   "outputs": [],
   "source": [
    "titles = s.find_all('li', attrs={'class':'episodeSub'})"
   ]
  },
  {
   "cell_type": "code",
   "execution_count": 6,
   "id": "f4312f64",
   "metadata": {},
   "outputs": [],
   "source": [
    "linkTitles = [title.a.get('href') for title in titles]"
   ]
  },
  {
   "cell_type": "code",
   "execution_count": 7,
   "id": "9922896f",
   "metadata": {},
   "outputs": [],
   "source": [
    "linkTitles.reverse()"
   ]
  },
  {
   "cell_type": "code",
   "execution_count": 8,
   "id": "558eead0",
   "metadata": {},
   "outputs": [],
   "source": [
    "from selenium import webdriver\n",
    "from selenium.webdriver.common.by import By"
   ]
  },
  {
   "cell_type": "code",
   "execution_count": 9,
   "id": "786b6038",
   "metadata": {},
   "outputs": [],
   "source": [
    "# prefs = {\"download.default_directory\" : downloadDIR}\n",
    "options = webdriver.ChromeOptions()\n",
    "options.add_argument('--incognito')\n",
    "# options.add_experimental_option(\"prefs\",prefs)\n",
    "driver = webdriver.Chrome(options=options)"
   ]
  },
  {
   "cell_type": "code",
   "execution_count": 10,
   "id": "d57e522d",
   "metadata": {},
   "outputs": [],
   "source": [
    "urlDomain = 'https://kissasian.lu'"
   ]
  },
  {
   "cell_type": "code",
   "execution_count": 11,
   "id": "4d1bd066",
   "metadata": {},
   "outputs": [],
   "source": [
    "urlMobile = '/Mobile/SwitchToMobile' "
   ]
  },
  {
   "cell_type": "code",
   "execution_count": 12,
   "id": "964711fe",
   "metadata": {},
   "outputs": [],
   "source": [
    "driver.get(urlDomain+urlMobile)"
   ]
  },
  {
   "cell_type": "code",
   "execution_count": 13,
   "id": "146bfa65",
   "metadata": {},
   "outputs": [],
   "source": [
    "mp4UploadLink = []\n",
    "for link in linkTitles:\n",
    "    driver.get(urlDomain+link+'&s=mp')\n",
    "    temp_x = driver.page_source\n",
    "    temp_s = BeautifulSoup(temp_x,'lxml')\n",
    "    temp_x_find_a = temp_s.find_all('a')\n",
    "    mp4UploadLink.append(temp_x_find_a[12].get('href'))\n",
    "    "
   ]
  },
  {
   "cell_type": "code",
   "execution_count": 14,
   "id": "d40971a7",
   "metadata": {},
   "outputs": [],
   "source": [
    "# from IPython.display import display, Javascript\n",
    "# def add_cell(text,  type='code', direct='above'):\n",
    "#     text = text.replace('\\n','\\\\n').replace(\"\\\"\", \"\\\\\\\"\").replace(\"'\", \"\\\\'\")\n",
    "\n",
    "#     display(Javascript('''\n",
    "#     var cell = IPython.notebook.insert_cell_{}(\"{}\")\n",
    "#     cell.set_text(\"{}\")\n",
    "#     '''.format(direct, type, text)));\n",
    "\n",
    "# mp4UploadLinkForDownload[0]"
   ]
  },
  {
   "cell_type": "code",
   "execution_count": 15,
   "id": "27480e04",
   "metadata": {},
   "outputs": [],
   "source": [
    "browser_open_code_String = \"options = webdriver.ChromeOptions()\\noptions.add_argument('--incognito')\\ndriver = webdriver.Chrome(options=options)\"\n",
    "urlHead9xB = 'http://9xbud.com/'\n"
   ]
  },
  {
   "cell_type": "code",
   "execution_count": 16,
   "id": "044b2576",
   "metadata": {},
   "outputs": [
    {
     "data": {
      "text/plain": [
       "'F:\\\\ripped'"
      ]
     },
     "execution_count": 16,
     "metadata": {},
     "output_type": "execute_result"
    }
   ],
   "source": [
    "os.getcwd()"
   ]
  },
  {
   "cell_type": "code",
   "execution_count": 17,
   "id": "854d832b",
   "metadata": {},
   "outputs": [],
   "source": [
    "mp4UploadLinkForDownload = []\n",
    "urlHead9xB = 'http://9xbud.com/'\n",
    "for link in mp4UploadLink:\n",
    "    temp_link = urlHead9xB+link[12:]\n",
    "    driver.get(temp_link)\n",
    "    time.sleep(10)\n",
    "    temp_s = BeautifulSoup(driver.page_source,'lxml')\n",
    "    temp_x_find_a = temp_s.find_all('a', attrs={'class':'max-w-sm mx-auto group block sm:inline-block border border-blue-500 px-6 w-full lg:w-auto lg:px-6 py-2 leading-4 text-blue-500 no-underline hover:border-blue-300 shadow'})\n",
    "    mp4UploadLinkForDownload.append(temp_x_find_a[1].get('href'))    "
   ]
  },
  {
   "cell_type": "code",
   "execution_count": 18,
   "id": "263f7aac",
   "metadata": {},
   "outputs": [],
   "source": [
    "driver.close()"
   ]
  },
  {
   "cell_type": "code",
   "execution_count": 19,
   "id": "13ace332",
   "metadata": {},
   "outputs": [],
   "source": [
    "import os"
   ]
  },
  {
   "cell_type": "code",
   "execution_count": 20,
   "id": "cb450bb7",
   "metadata": {},
   "outputs": [],
   "source": [
    "str_path = os.getcwd()"
   ]
  },
  {
   "cell_type": "code",
   "execution_count": 21,
   "id": "ad8e97bd",
   "metadata": {},
   "outputs": [],
   "source": [
    "str_path = str_path + '\\\\\\\\'+seriesName"
   ]
  },
  {
   "cell_type": "code",
   "execution_count": 22,
   "id": "55ff0a10",
   "metadata": {},
   "outputs": [],
   "source": [
    "isPathExist = os.path.isdir(str_path)"
   ]
  },
  {
   "cell_type": "code",
   "execution_count": 23,
   "id": "28e7d0b5",
   "metadata": {},
   "outputs": [],
   "source": [
    "if (isPathExist):\n",
    "    print(\"exist\")\n",
    "else:\n",
    "    os.mkdir(str_path)\n",
    "    "
   ]
  },
  {
   "cell_type": "code",
   "execution_count": 24,
   "id": "11e5bdbf",
   "metadata": {},
   "outputs": [],
   "source": [
    "os.chdir(str_path)"
   ]
  },
  {
   "cell_type": "code",
   "execution_count": 25,
   "id": "05a23943",
   "metadata": {},
   "outputs": [],
   "source": [
    "# ls"
   ]
  },
  {
   "cell_type": "code",
   "execution_count": null,
   "id": "c1af95af",
   "metadata": {},
   "outputs": [],
   "source": []
  },
  {
   "cell_type": "code",
   "execution_count": 26,
   "id": "8634db33",
   "metadata": {},
   "outputs": [],
   "source": [
    "# mp4UploadLinkForDownloadTry.append(mp4UploadLinkForDownload[2])"
   ]
  },
  {
   "cell_type": "code",
   "execution_count": 27,
   "id": "4dd70685",
   "metadata": {},
   "outputs": [],
   "source": [
    "# os.chdir('..')"
   ]
  },
  {
   "cell_type": "code",
   "execution_count": null,
   "id": "5141840e",
   "metadata": {},
   "outputs": [],
   "source": []
  },
  {
   "cell_type": "code",
   "execution_count": 28,
   "id": "637f7727",
   "metadata": {},
   "outputs": [],
   "source": [
    "# os.chdir('..')"
   ]
  },
  {
   "cell_type": "code",
   "execution_count": 29,
   "id": "5f21c868",
   "metadata": {},
   "outputs": [],
   "source": [
    "# ls"
   ]
  },
  {
   "cell_type": "code",
   "execution_count": null,
   "id": "61023dfa",
   "metadata": {},
   "outputs": [],
   "source": []
  },
  {
   "cell_type": "code",
   "execution_count": 30,
   "id": "f94aa646",
   "metadata": {},
   "outputs": [],
   "source": [
    "# ls"
   ]
  },
  {
   "cell_type": "code",
   "execution_count": 31,
   "id": "c8633eae",
   "metadata": {},
   "outputs": [],
   "source": [
    "# import os\n"
   ]
  },
  {
   "cell_type": "code",
   "execution_count": 32,
   "id": "4733e4b4",
   "metadata": {},
   "outputs": [],
   "source": [
    "# ls"
   ]
  },
  {
   "cell_type": "code",
   "execution_count": null,
   "id": "38151da7",
   "metadata": {},
   "outputs": [],
   "source": []
  },
  {
   "cell_type": "code",
   "execution_count": 33,
   "id": "95c7c1d7",
   "metadata": {},
   "outputs": [],
   "source": [
    "from tqdm.notebook import tqdm\n",
    "import requests\n",
    "def download_file_mp4upload(url,n):\n",
    "    if len(str(n))==1:\n",
    "        temp_str = seriesName+' ep 00'+str(n)+'.mp4'        \n",
    "    elif len(str(n))==2:\n",
    "        temp_str = seriesName+' ep 0'+str(n)+'.mp4'\n",
    "    else:\n",
    "        temp_str = seriesName+' ep '+str(n)+'.mp4'\n",
    "    # url = \"http://www.ovh.net/files/10Mb.dat\" #big file test\n",
    "#     url = link\n",
    "    headers = {'User-Agent':'Mozilla/5.0 (Windows NT 10.0; Win64; x64) AppleWebKit/537.36 (KHTML, like Gecko) Chrome/119.0.0.0 Safari/537.36'}\n",
    "    \n",
    "    # Streaming, so we can iterate over the response.\n",
    "    response = requests.get(url,headers = headers, stream=True)\n",
    "    total_size_in_bytes= int(response.headers.get('content-length', 0))\n",
    "    block_size = 1024 #1 Kibibyte\n",
    "    progress_bar = tqdm( desc=temp_str,total=total_size_in_bytes, unit='iB', unit_scale=True)\n",
    "    with open(temp_str, 'wb') as file:\n",
    "        for data in response.iter_content(block_size):\n",
    "            progress_bar.update(len(data))\n",
    "            file.write(data)\n",
    "    progress_bar.close()\n",
    "    if total_size_in_bytes != 0 and progress_bar.n != total_size_in_bytes:\n",
    "        print(\"ERROR, something went wrong\")\n",
    "#         break\n",
    "#     break"
   ]
  },
  {
   "cell_type": "code",
   "execution_count": 34,
   "id": "db2bac9e",
   "metadata": {},
   "outputs": [],
   "source": [
    "episode_number = len(mp4UploadLinkForDownload)"
   ]
  },
  {
   "cell_type": "code",
   "execution_count": 43,
   "id": "46999bd1",
   "metadata": {},
   "outputs": [
    {
     "data": {
      "text/plain": [
       "['https://prfaa50.9xbud.com/down/YToyOntzOjY6ImhlYWRlciI7YToxOntpOjA7czo0MjoiUmVmZXJlcjogaHR0cDovL21wNHVwbG9hZC5jb20veHpxdm9ydnd0YjcxIjt9czozOiJ1cmwiO3M6MTEzOiJodHRwczovL2ExLm1wNHVwbG9hZC5jb206MTgzL2QveDJ4d2VqbHZ6M2I0cXV1b29ndmFla2NyazdnbHJ5Y2p6NW1lZWp1empjdnhhMjJydnloYng0aXJvbGcycmdnbXByMndhNWVpL3ZpZGVvLm1wNCI7fQ,,/8828b045ed2188db2f74556ea1b9bff3-1700326236?customName=mp4upload_com+Video_+Original',\n",
       " 'https://prafd67.9xbud.com/down/YToyOntzOjY6ImhlYWRlciI7YToxOntpOjA7czo0MjoiUmVmZXJlcjogaHR0cDovL21wNHVwbG9hZC5jb20vZGwwNzh4eXFsaHJ5Ijt9czozOiJ1cmwiO3M6MTEzOiJodHRwczovL2ExLm1wNHVwbG9hZC5jb206MTgzL2QveDJ4M2NqbHZ6M2I0cXV1b29ndmI0cHFxY3pzamd3N3R1NG42MjJxN2tyNjJkeXN0a2k1emV0aXh3enRuaGxvb2tmNnJ0MjU0L3ZpZGVvLm1wNCI7fQ,,/d77c076e80affba3dab5cc256ed30e56-1700326246?customName=mp4upload_com+Video_+Original',\n",
       " 'https://pr4f4ea.9xbud.com/down/YToyOntzOjY6ImhlYWRlciI7YToxOntpOjA7czo0MjoiUmVmZXJlcjogaHR0cDovL21wNHVwbG9hZC5jb20vZGdocHZqcmtmZ2plIjt9czozOiJ1cmwiO3M6MTEzOiJodHRwczovL2ExLm1wNHVwbG9hZC5jb206MTgzL2QveDJ4cXlrZHZ6M2I0cXV1b29ndmI0bmtpa2Z5emZ1YmxmM2ljc213NXR4Z2R6cHVhNTc3ZTZlZWQ1bXV2bGNvNndubmE2Y3Y2L3ZpZGVvLm1wNCI7fQ,,/07ddd10ceb45d26e23058e80f97f25ce-1700326257?customName=mp4upload_com+Video_+Original',\n",
       " 'https://c4.9xbud.com/down/YToyOntzOjY6ImhlYWRlciI7YToxOntpOjA7czo0MjoiUmVmZXJlcjogaHR0cDovL21wNHVwbG9hZC5jb20vc2RleXFhZ2t5b3dxIjt9czozOiJ1cmwiO3M6MTEzOiJodHRwczovL2ExLm1wNHVwbG9hZC5jb206MTgzL2QveDJ4N2FrZHZ6M2I0cXV1b29ndmFzbnNmbGJqamZnNDczdGZ6dGZ1NjNzZ2xleWoyZ2F3NHUzdGszemZnbWF5bDdueGxtNmZlL3ZpZGVvLm1wNCI7fQ,,/c1be376c53dcf55777f04e8e6eaad72e-1700326268?customName=mp4upload_com+Video_+Original',\n",
       " 'https://c2.9xbud.com/down/YToyOntzOjY6ImhlYWRlciI7YToxOntpOjA7czo0MjoiUmVmZXJlcjogaHR0cDovL21wNHVwbG9hZC5jb20vODBneDFkbTRhdGxvIjt9czozOiJ1cmwiO3M6MTE1OiJodHRwczovL3d3dzQubXA0dXBsb2FkLmNvbToxODMvZC9yY3gyd2szdnozYjRxdXVvb2d2ZWV5c2hsZWdhbHJyYXM1ejY2cDYyc3hnNGFoZ2dwMmhxdno0eHZ4Z2F1eWFjdnc1d2h1M2cvdmlkZW8ubXA0Ijt9/592fe81601f3e6288548131d6595d7a5-1700326278?customName=mp4upload_com+Video_+Original',\n",
       " 'https://pr4f4ea.9xbud.com/down/YToyOntzOjY6ImhlYWRlciI7YToxOntpOjA7czo0MjoiUmVmZXJlcjogaHR0cDovL21wNHVwbG9hZC5jb20vdDVzOW5xZGd2ZTM4Ijt9czozOiJ1cmwiO3M6MTEzOiJodHRwczovL2ExLm1wNHVwbG9hZC5jb206MTgzL2QveDJ4NWFrM3Z6M2I0cXV1b29ndmE0ejJ0ZGRxajNtbWZvenVsa3B2ZXduazUzYjNobmVnNWFjdGR2bjRiMjRhNWQ3aXdqajJpL3ZpZGVvLm1wNCI7fQ,,/d2276dae5b20b505487da26c3290fb10-1700326289?customName=mp4upload_com+Video_+Original',\n",
       " 'https://prbb88c.9xbud.com/down/YToyOntzOjY6ImhlYWRlciI7YToxOntpOjA7czo0MjoiUmVmZXJlcjogaHR0cDovL21wNHVwbG9hZC5jb20vaHMzcml5djhwbmtoIjt9czozOiJ1cmwiO3M6MTEzOiJodHRwczovL2ExLm1wNHVwbG9hZC5jb206MTgzL2QveDJ4eXNsdHZ6M2I0cXV1b29ndmJlaWl0a253eTMycG4yejRwam4zNnZ3cDQ0dDc0ZGF2eWprMmZvbmxvZGE3eHpjYnRzaWVlL3ZpZGVvLm1wNCI7fQ,,/2d1cb6431585c77ad3d6907e11a76c3c-1700326300?customName=mp4upload_com+Video_+Original',\n",
       " 'https://c2.9xbud.com/down/YToyOntzOjY6ImhlYWRlciI7YToxOntpOjA7czo0MjoiUmVmZXJlcjogaHR0cDovL21wNHVwbG9hZC5jb20vZ2pobWxodGRlZGtrIjt9czozOiJ1cmwiO3M6MTEzOiJodHRwczovL2ExLm1wNHVwbG9hZC5jb206MTgzL2QveDJ4NWVsM3Z6M2I0cXV1b29ndmIyb2NpanFveHJrYm9ibnRwMm9wZWxuaHRyb2R6cHF0dmpub2NxYmY2NHF5bmZpamdzdDJhL3ZpZGVvLm1wNCI7fQ,,/b9728cfa2ff5405e0e83aec062e9df0e-1700326311?customName=mp4upload_com+Video_+Original',\n",
       " 'https://c12.9xbud.com/down/YToyOntzOjY6ImhlYWRlciI7YToxOntpOjA7czo0MjoiUmVmZXJlcjogaHR0cDovL21wNHVwbG9hZC5jb20vbWFoMGFyMTUzb3VkIjt9czozOiJ1cmwiO3M6MTEzOiJodHRwczovL2ExLm1wNHVwbG9hZC5jb206MTgzL2QveDJ4NmdqdHZ6M2I0cXV1b29ndmJvbTJpY2ZxaXYya2lka2d6MnAzaW1qNml5YWpiY3ljb2hhdGFpZmF6dmxwdGNic3ppZ3NhL3ZpZGVvLm1wNCI7fQ,,/50859ed8fd1f4a7f099adc64ac2dee5d-1700326321?customName=mp4upload_com+Video_+Original',\n",
       " 'https://c14.9xbud.com/down/YToyOntzOjY6ImhlYWRlciI7YToxOntpOjA7czo0MjoiUmVmZXJlcjogaHR0cDovL21wNHVwbG9hZC5jb20vOG95ZXRidzhieTlsIjt9czozOiJ1cmwiO3M6MTEzOiJodHRwczovL2ExLm1wNHVwbG9hZC5jb206MTgzL2QveDJ4dzRudHZ6M2I0cXV1b29rdmVlcGt6aXRoZGFibTZxa213MmI1c3oycHloN3BicGhqaGdtcWFmaWVyYzJvcnZyY2trdXpkL3ZpZGVvLm1wNCI7fQ,,/43f1e1cb6e030e98978e489bbda1ddec-1700326332?customName=mp4upload_com+Video_+Original',\n",
       " 'https://c2.9xbud.com/down/YToyOntzOjY6ImhlYWRlciI7YToxOntpOjA7czo0MjoiUmVmZXJlcjogaHR0cDovL21wNHVwbG9hZC5jb20vcWcwNjNzN2FkZWFzIjt9czozOiJ1cmwiO3M6MTE1OiJodHRwczovL3d3dzQubXA0dXBsb2FkLmNvbToxODMvZC9yY3hzN3lkdXozYjRxdXVvcm92YXduaXFjNnpvd2ttaHU0MnFreHBzNWF3cG5kcHZ2Y2FrdjVycXNrZ2ZxY3F0NWJxdGNjZWkvdmlkZW8ubXA0Ijt9/431f75894e1c55f132e32ec1259335c7-1700326343?customName=mp4upload_com+Video_+Original',\n",
       " 'https://prdf035.9xbud.com/down/YToyOntzOjY6ImhlYWRlciI7YToxOntpOjA7czo0MjoiUmVmZXJlcjogaHR0cDovL21wNHVwbG9hZC5jb20vc2s4ZnJyMnU3OHpqIjt9czozOiJ1cmwiO3M6MTE1OiJodHRwczovL3d3dzQubXA0dXBsb2FkLmNvbToxODMvZC9yY3h2dWFsdXozYjRxdXVvcXd2YXNvaXlpNTVwcjUzcW9zaDRtbWF4dTJqM2lyb2hjZHFhdWthc2lyZzc3cnFqcDdxZGg3MjUvdmlkZW8ubXA0Ijt9/4bb865dab100e16bcc206332f8b9d6f9-1700326354?customName=mp4upload_com+Video_+Original',\n",
       " 'https://prafd67.9xbud.com/down/YToyOntzOjY6ImhlYWRlciI7YToxOntpOjA7czo0MjoiUmVmZXJlcjogaHR0cDovL21wNHVwbG9hZC5jb20vemI5aWhyeWF2bGtrIjt9czozOiJ1cmwiO3M6MTEzOiJodHRwczovL2EzLm1wNHVwbG9hZC5jb206MTgzL2QveHN4cWpnZHh6M2I0cXV1b3RzdmFhbWF6amNuNGM0d2s2Nm15eXkzbWxueWViemR5dWxlaDZzamU2cGZ5Z3Jzb2JoaWs1Y3J5L3ZpZGVvLm1wNCI7fQ,,/354cfac0a5b00135ce4ea4a35eb70e7a-1700326365?customName=mp4upload_com+Video_+Original',\n",
       " 'https://pr4f4ea.9xbud.com/down/YToyOntzOjY6ImhlYWRlciI7YToxOntpOjA7czo0MjoiUmVmZXJlcjogaHR0cDovL21wNHVwbG9hZC5jb20vdWU3YjEwZ3Z3dm5lIjt9czozOiJ1cmwiO3M6MTE1OiJodHRwczovL3d3dzQubXA0dXBsb2FkLmNvbToxODMvZC9yY3hxZGpseHozYjRxdXVvdHd2YTZueXhpbWduZndiaTU2djR1ZHJid2VjZWoydHY1dGFtNHVkZTdxdDRqNHl3NHhwbmo0ZXgvdmlkZW8ubXA0Ijt9/0d37d5fe11dd48b39f94e4c2e81bae56-1700326376?customName=mp4upload_com+Video_+Original',\n",
       " 'https://prdf035.9xbud.com/down/YToyOntzOjY6ImhlYWRlciI7YToxOntpOjA7czo0MjoiUmVmZXJlcjogaHR0cDovL21wNHVwbG9hZC5jb20vb2M1YzZiemd0YnhwIjt9czozOiJ1cmwiO3M6MTEzOiJodHRwczovL2EzLm1wNHVwbG9hZC5jb206MTgzL2QveHN4NTZvZHh6M2I0cXV1b3NzdmJrbWl2aWpxM3RlZDIzZm5iZTRzbGVxZTNrcnJ5bmR3aW52eXpudTNtdmRwMmQ2cnpnNHVnL3ZpZGVvLm1wNCI7fQ,,/9a16e873f2b26ddf795ac22a7b256f08-1700326388?customName=mp4upload_com+Video_+Original',\n",
       " 'https://c13.9xbud.com/down/YToyOntzOjY6ImhlYWRlciI7YToxOntpOjA7czo0MjoiUmVmZXJlcjogaHR0cDovL21wNHVwbG9hZC5jb20vbDR6NG12Yzc0enp0Ijt9czozOiJ1cmwiO3M6MTE1OiJodHRwczovL3d3dzQubXA0dXBsb2FkLmNvbToxODMvZC9yY3g3NHJkeHozYjRxdXVvc3d2Ym16czJjdmVlY2czbGJuamRrendsemhya3g3Nmxyem5yb3VsdHk3NTdzenJjNGl0aTVsZG0vdmlkZW8ubXA0Ijt9/77497dce97d8ca6b7bd767d04d9c2b01-1700326397?customName=mp4upload_com+Video_+Original']"
      ]
     },
     "execution_count": 43,
     "metadata": {},
     "output_type": "execute_result"
    }
   ],
   "source": [
    "mp4UploadLinkForDownload"
   ]
  },
  {
   "cell_type": "code",
   "execution_count": 35,
   "id": "e41bf6ca",
   "metadata": {},
   "outputs": [],
   "source": [
    "# sampleLinkDownloadArr[13]"
   ]
  },
  {
   "cell_type": "code",
   "execution_count": 36,
   "id": "cb0ece09",
   "metadata": {},
   "outputs": [],
   "source": [
    "# episode_number"
   ]
  },
  {
   "cell_type": "code",
   "execution_count": 37,
   "id": "71981cc3",
   "metadata": {},
   "outputs": [],
   "source": [
    "# episode_number = 2\n",
    "# episode_fold_number = int(episode_number/5)\n",
    "# episode_remaining_number = episode_number%5\n"
   ]
  },
  {
   "cell_type": "code",
   "execution_count": 38,
   "id": "97e3953f",
   "metadata": {},
   "outputs": [
    {
     "data": {
      "application/vnd.jupyter.widget-view+json": {
       "model_id": "58f0e8f0cb684d0e899216233e718c89",
       "version_major": 2,
       "version_minor": 0
      },
      "text/plain": [
       "What Wrong With Secretary Kim ep 001.mp4:   0%|          | 0.00/682M [00:00<?, ?iB/s]"
      ]
     },
     "metadata": {},
     "output_type": "display_data"
    },
    {
     "data": {
      "application/vnd.jupyter.widget-view+json": {
       "model_id": "ec596439e55946b2a1e7f64fccbd1b8e",
       "version_major": 2,
       "version_minor": 0
      },
      "text/plain": [
       "What Wrong With Secretary Kim ep 002.mp4:   0%|          | 0.00/695M [00:00<?, ?iB/s]"
      ]
     },
     "metadata": {},
     "output_type": "display_data"
    },
    {
     "data": {
      "application/vnd.jupyter.widget-view+json": {
       "model_id": "401a4742b1cf496aa2b82065fca1ad39",
       "version_major": 2,
       "version_minor": 0
      },
      "text/plain": [
       "What Wrong With Secretary Kim ep 005.mp4:   0%|          | 0.00/633M [00:00<?, ?iB/s]"
      ]
     },
     "metadata": {},
     "output_type": "display_data"
    },
    {
     "data": {
      "application/vnd.jupyter.widget-view+json": {
       "model_id": "8588b51e2fce42acb4c0f4c64dd859b2",
       "version_major": 2,
       "version_minor": 0
      },
      "text/plain": [
       "What Wrong With Secretary Kim ep 004.mp4:   0%|          | 0.00/654M [00:00<?, ?iB/s]"
      ]
     },
     "metadata": {},
     "output_type": "display_data"
    },
    {
     "data": {
      "application/vnd.jupyter.widget-view+json": {
       "model_id": "c8f813b518ba45669b1048002c89bfb9",
       "version_major": 2,
       "version_minor": 0
      },
      "text/plain": [
       "What Wrong With Secretary Kim ep 003.mp4:   0%|          | 0.00/720M [00:00<?, ?iB/s]"
      ]
     },
     "metadata": {},
     "output_type": "display_data"
    },
    {
     "data": {
      "application/vnd.jupyter.widget-view+json": {
       "model_id": "e179d99b950a4353b05e0983bd491434",
       "version_major": 2,
       "version_minor": 0
      },
      "text/plain": [
       "What Wrong With Secretary Kim ep 006.mp4: 0.00iB [00:00, ?iB/s]"
      ]
     },
     "metadata": {},
     "output_type": "display_data"
    },
    {
     "data": {
      "application/vnd.jupyter.widget-view+json": {
       "model_id": "6e5cfced5d1d4a5d94233c6a2ece4073",
       "version_major": 2,
       "version_minor": 0
      },
      "text/plain": [
       "What Wrong With Secretary Kim ep 007.mp4:   0%|          | 0.00/832M [00:00<?, ?iB/s]"
      ]
     },
     "metadata": {},
     "output_type": "display_data"
    },
    {
     "data": {
      "application/vnd.jupyter.widget-view+json": {
       "model_id": "2382c6935eed470d8a6ab4b90cac85f0",
       "version_major": 2,
       "version_minor": 0
      },
      "text/plain": [
       "What Wrong With Secretary Kim ep 008.mp4:   0%|          | 0.00/699M [00:00<?, ?iB/s]"
      ]
     },
     "metadata": {},
     "output_type": "display_data"
    },
    {
     "data": {
      "application/vnd.jupyter.widget-view+json": {
       "model_id": "c01d070ed9a54d029bd08a78124db7be",
       "version_major": 2,
       "version_minor": 0
      },
      "text/plain": [
       "What Wrong With Secretary Kim ep 009.mp4:   0%|          | 0.00/722M [00:00<?, ?iB/s]"
      ]
     },
     "metadata": {},
     "output_type": "display_data"
    },
    {
     "data": {
      "application/vnd.jupyter.widget-view+json": {
       "model_id": "2675631cf9194ebb96d6c1a2286650a1",
       "version_major": 2,
       "version_minor": 0
      },
      "text/plain": [
       "What Wrong With Secretary Kim ep 010.mp4:   0%|          | 0.00/824M [00:00<?, ?iB/s]"
      ]
     },
     "metadata": {},
     "output_type": "display_data"
    },
    {
     "data": {
      "application/vnd.jupyter.widget-view+json": {
       "model_id": "e75de5a9802c46e8ba7d1487db25633f",
       "version_major": 2,
       "version_minor": 0
      },
      "text/plain": [
       "What Wrong With Secretary Kim ep 011.mp4:   0%|          | 0.00/741M [00:00<?, ?iB/s]"
      ]
     },
     "metadata": {},
     "output_type": "display_data"
    },
    {
     "data": {
      "application/vnd.jupyter.widget-view+json": {
       "model_id": "68b620ad4e5d476ba24600e015981f71",
       "version_major": 2,
       "version_minor": 0
      },
      "text/plain": [
       "What Wrong With Secretary Kim ep 012.mp4:   0%|          | 0.00/700M [00:00<?, ?iB/s]"
      ]
     },
     "metadata": {},
     "output_type": "display_data"
    },
    {
     "data": {
      "application/vnd.jupyter.widget-view+json": {
       "model_id": "3f8217897be94353985cd915f60436dc",
       "version_major": 2,
       "version_minor": 0
      },
      "text/plain": [
       "What Wrong With Secretary Kim ep 013.mp4:   0%|          | 0.00/728M [00:00<?, ?iB/s]"
      ]
     },
     "metadata": {},
     "output_type": "display_data"
    },
    {
     "data": {
      "application/vnd.jupyter.widget-view+json": {
       "model_id": "1fe2382a3d414ef4a28dbaef85690b7b",
       "version_major": 2,
       "version_minor": 0
      },
      "text/plain": [
       "What Wrong With Secretary Kim ep 014.mp4: 0.00iB [00:00, ?iB/s]"
      ]
     },
     "metadata": {},
     "output_type": "display_data"
    },
    {
     "data": {
      "application/vnd.jupyter.widget-view+json": {
       "model_id": "041aed46a5504a108e1bfe942054bedd",
       "version_major": 2,
       "version_minor": 0
      },
      "text/plain": [
       "What Wrong With Secretary Kim ep 015.mp4:   0%|          | 0.00/738M [00:00<?, ?iB/s]"
      ]
     },
     "metadata": {},
     "output_type": "display_data"
    },
    {
     "data": {
      "application/vnd.jupyter.widget-view+json": {
       "model_id": "ba2891cd32984998b140835950c61319",
       "version_major": 2,
       "version_minor": 0
      },
      "text/plain": [
       "What Wrong With Secretary Kim ep 016.mp4:   0%|          | 0.00/804M [00:00<?, ?iB/s]"
      ]
     },
     "metadata": {},
     "output_type": "display_data"
    }
   ],
   "source": [
    "sleep_count = 5\n",
    "n = 1\n",
    "m = 0\n",
    "flagFinish = False\n",
    "thread_one = threading.Thread()\n",
    "thread_two = threading.Thread()\n",
    "thread_three = threading.Thread()\n",
    "thread_four = threading.Thread()\n",
    "thread_five = threading.Thread()\n",
    "# print(episode_fold_number)\n",
    "# print(episode_fold_number)\n",
    "\n",
    "while not(flagFinish):\n",
    "    if(not(thread_one.is_alive())):\n",
    "        thread_one = threading.Thread(target=download_file_mp4upload,args=(mp4UploadLinkForDownload[m],n))\n",
    "        thread_one.start()\n",
    "        m = m + 1\n",
    "        n = n + 1\n",
    "        if m == episode_number:\n",
    "            flagFinish = True\n",
    "    elif(not(thread_two.is_alive())):\n",
    "        thread_two = threading.Thread(target=download_file_mp4upload,args=(mp4UploadLinkForDownload[m],n))\n",
    "        thread_two.start()\n",
    "        m = m + 1\n",
    "        n = n + 1\n",
    "        if m == episode_number:\n",
    "            flagFinish = True\n",
    "    elif(not(thread_three.is_alive())):\n",
    "        thread_three = threading.Thread(target=download_file_mp4upload,args=(mp4UploadLinkForDownload[m],n))\n",
    "        thread_three.start()\n",
    "        m = m + 1\n",
    "        n = n + 1\n",
    "        if m == episode_number:\n",
    "            flagFinish = True\n",
    "    elif(not(thread_four.is_alive())):\n",
    "        thread_four = threading.Thread(target=download_file_mp4upload,args=(mp4UploadLinkForDownload[m],n))\n",
    "        thread_four.start()\n",
    "        m = m + 1\n",
    "        n = n + 1\n",
    "        if m == episode_number:\n",
    "            flagFinish = True\n",
    "    elif(not(thread_five.is_alive())):\n",
    "        thread_five = threading.Thread(target=download_file_mp4upload,args=(mp4UploadLinkForDownload[m],n))\n",
    "        thread_five.start()\n",
    "        m = m + 1\n",
    "        n = n + 1\n",
    "        if m == episode_number:\n",
    "            flagFinish = True\n",
    "    else:\n",
    "        time.sleep(sleep_count)\n",
    "time.sleep(sleep_count)\n",
    "\n",
    "# print('complete execution')\n",
    "    \n",
    "    \n",
    "# for i in range(episode_remaining_number):\n",
    "#     print(str(n+i))\n",
    "# #     print('hello')\n"
   ]
  },
  {
   "cell_type": "code",
   "execution_count": 39,
   "id": "7566832e",
   "metadata": {},
   "outputs": [],
   "source": [
    "# sleep_count = 5\n",
    "# n = 1\n",
    "# m = 0\n",
    "# # print(episode_fold_number)\n",
    "# # print(episode_fold_number)\n",
    "# while (episode_fold_number!=0):\n",
    "#     if (episode_fold_number!=0):\n",
    "#         thread_one = threading.Thread(target=download_file_mp4upload,args=(mp4UploadLinkForDownload[m],n))\n",
    "#         thread_two = threading.Thread(target=download_file_mp4upload,args=(mp4UploadLinkForDownload[m+1],n+1))\n",
    "#         thread_three = threading.Thread(target=download_file_mp4upload,args=(mp4UploadLinkForDownload[m+2],n+2))\n",
    "#         thread_four = threading.Thread(target=download_file_mp4upload,args=(mp4UploadLinkForDownload[m+3],n+3))\n",
    "#         thread_five = threading.Thread(target=download_file_mp4upload,args=(mp4UploadLinkForDownload[m+4],n+4))\n",
    "#         thread_one.start()\n",
    "#         thread_two.start()\n",
    "#         thread_three.start()\n",
    "#         thread_four.start()\n",
    "#         thread_five.start()\n",
    "#         while (thread_one.is_alive())or(thread_two.is_alive())or(thread_three.is_alive())or(thread_four.is_alive())or(thread_five.is_alive()):\n",
    "#             time.sleep(sleep_count)\n",
    "# #         print(str(n))\n",
    "# #         print(str(n+1))\n",
    "# #         print(str(n+2))\n",
    "#         n = n + 5\n",
    "#         m = m + 5\n",
    "# #         print('helllo')\n",
    "#         episode_fold_number = episode_fold_number-1\n",
    "\n",
    "# if episode_remaining_number == 4:\n",
    "#     thread_one = threading.Thread(target=download_file_mp4upload,args=(mp4UploadLinkForDownload[m],n))\n",
    "#     thread_two = threading.Thread(target=download_file_mp4upload,args=(mp4UploadLinkForDownload[m+1],n+1))\n",
    "#     thread_three = threading.Thread(target=download_file_mp4upload,args=(mp4UploadLinkForDownload[m+2],n+2))\n",
    "#     thread_four = threading.Thread(target=download_file_mp4upload,args=(mp4UploadLinkForDownload[m+3],n+3))\n",
    "#     thread_one.start()\n",
    "#     thread_two.start()\n",
    "#     thread_three.start()\n",
    "#     thread_four.start()\n",
    "#     while (thread_one.is_alive())or(thread_two.is_alive())or(thread_three.is_alive())or(thread_four.is_alive()):\n",
    "#         time.sleep(sleep_count) \n",
    "# elif episode_remaining_number == 3:\n",
    "#     thread_one = threading.Thread(target=download_file_mp4upload,args=(mp4UploadLinkForDownload[m],n))\n",
    "#     thread_two = threading.Thread(target=download_file_mp4upload,args=(mp4UploadLinkForDownload[m+1],n+1))\n",
    "#     thread_three = threading.Thread(target=download_file_mp4upload,args=(mp4UploadLinkForDownload[m+2],n+2))\n",
    "#     thread_one.start()\n",
    "#     thread_two.start()\n",
    "#     thread_three.start()\n",
    "#     while (thread_one.is_alive())or(thread_two.is_alive())or(thread_three.is_alive()):\n",
    "#         time.sleep(sleep_count) \n",
    "# elif episode_remaining_number == 2:\n",
    "#     thread_one = threading.Thread(target=download_file_mp4upload,args=(mp4UploadLinkForDownload[m],n))\n",
    "#     thread_two = threading.Thread(target=download_file_mp4upload,args=(mp4UploadLinkForDownload[m+1],n+1))\n",
    "#     thread_one.start()\n",
    "#     thread_two.start()\n",
    "#     while (thread_one.is_alive())or(thread_two.is_alive()):\n",
    "#         time.sleep(sleep_count)\n",
    "# elif episode_remaining_number == 1:\n",
    "#     thread_one = threading.Thread(target=download_file_mp4upload,args=(mp4UploadLinkForDownload[m],n))\n",
    "#     thread_one.start()\n",
    "#     while (thread_one.is_alive()):\n",
    "#             time.sleep(sleep_count)\n",
    "# else:\n",
    "#     print('complete execution')\n",
    "    \n",
    "    \n",
    "# # for i in range(episode_remaining_number):\n",
    "# #     print(str(n+i))\n",
    "# # #     print('hello')\n"
   ]
  },
  {
   "cell_type": "code",
   "execution_count": 40,
   "id": "aa4275c7",
   "metadata": {},
   "outputs": [],
   "source": [
    "# sleep_count = 5\n",
    "# n = 1\n",
    "# m = 0\n",
    "# # print(episode_fold_number)\n",
    "# # print(episode_fold_number)\n",
    "# while (episode_fold_number!=0):\n",
    "#     if (episode_fold_number!=0):\n",
    "#         thread_one = threading.Thread(target=download_file_mp4upload,args=(mp4UploadLinkForDownload[m],n))\n",
    "#         thread_two = threading.Thread(target=download_file_mp4upload,args=(mp4UploadLinkForDownload[m+1],n+1))\n",
    "#         thread_three = threading.Thread(target=download_file_mp4upload,args=(mp4UploadLinkForDownload[m+2],n+2))\n",
    "#         thread_one.start()\n",
    "#         thread_two.start()\n",
    "#         thread_three.start()\n",
    "#         while (thread_one.is_alive())or(thread_two.is_alive())or(thread_three.is_alive()):\n",
    "#             time.sleep(sleep_count)\n",
    "# #         print(str(n))\n",
    "# #         print(str(n+1))\n",
    "# #         print(str(n+2))\n",
    "#         n = n + 3\n",
    "#         m = m + 3\n",
    "# #         print('helllo')\n",
    "#         episode_fold_number = episode_fold_number-1\n",
    "\n",
    "# if episode_remaining_number == 2:\n",
    "#     thread_one = threading.Thread(target=download_file_mp4upload,args=(mp4UploadLinkForDownload[m],n))\n",
    "#     thread_two = threading.Thread(target=download_file_mp4upload,args=(mp4UploadLinkForDownload[m+1],n+1))\n",
    "#     thread_one.start()\n",
    "#     thread_two.start()\n",
    "#     while (thread_one.is_alive())or(thread_two.is_alive()):\n",
    "#         time.sleep(sleep_count)\n",
    "# elif episode_remaining_number == 1:\n",
    "#     thread_one = threading.Thread(target=download_file_mp4upload,args=(mp4UploadLinkForDownload[m],n))\n",
    "#     thread_one.start()\n",
    "#     while (thread_one.is_alive()):\n",
    "#             time.sleep(sleep_count)\n",
    "# else:\n",
    "#     print('complete execution')\n",
    "    \n",
    "    \n",
    "# # for i in range(episode_remaining_number):\n",
    "# #     print(str(n+i))\n",
    "# # #     print('hello')\n"
   ]
  },
  {
   "cell_type": "code",
   "execution_count": 41,
   "id": "c0303753",
   "metadata": {},
   "outputs": [],
   "source": [
    "os.chdir('..')"
   ]
  },
  {
   "cell_type": "code",
   "execution_count": 42,
   "id": "54ab1dba",
   "metadata": {},
   "outputs": [],
   "source": [
    "# ls"
   ]
  },
  {
   "cell_type": "code",
   "execution_count": null,
   "id": "9a7263ee",
   "metadata": {},
   "outputs": [],
   "source": []
  }
 ],
 "metadata": {
  "kernelspec": {
   "display_name": "Python 3 (ipykernel)",
   "language": "python",
   "name": "python3"
  },
  "language_info": {
   "codemirror_mode": {
    "name": "ipython",
    "version": 3
   },
   "file_extension": ".py",
   "mimetype": "text/x-python",
   "name": "python",
   "nbconvert_exporter": "python",
   "pygments_lexer": "ipython3",
   "version": "3.9.7"
  }
 },
 "nbformat": 4,
 "nbformat_minor": 5
}
