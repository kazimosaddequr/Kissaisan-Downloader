{
 "cells": [
  {
   "cell_type": "markdown",
   "id": "46add65f",
   "metadata": {},
   "source": [
    "# Kissasian Downloader"
   ]
  },
  {
   "cell_type": "code",
   "execution_count": 1,
   "id": "27beb66a",
   "metadata": {},
   "outputs": [],
   "source": [
    "import requests\n",
    "from bs4 import BeautifulSoup\n",
    "import re\n",
    "import time\n",
    "from IPython.display import clear_output\n",
    "import threading\n",
    "import os\n",
    "import pandas as pd\n",
    "from openpyxl import load_workbook\n",
    "from selenium import webdriver\n",
    "from selenium.webdriver.common.by import By\n",
    "import pandas as pd\n",
    "import numpy as np\n",
    "from openpyxl import load_workbook"
   ]
  },
  {
   "cell_type": "markdown",
   "id": "99f6d3ea",
   "metadata": {},
   "source": [
    "## Please enter information below:"
   ]
  },
  {
   "cell_type": "code",
   "execution_count": 2,
   "id": "42838425",
   "metadata": {},
   "outputs": [],
   "source": [
    "urlSeries = 'https://kissasian.lu/Drama/10-no-Himitsu'\n",
    "seriesName = '10 no Himitsu'\n",
    "downloadDIR = os.getcwd()+'\\\\out\\\\video'\n",
    "pathToMine = os.getcwd()+'\\\\out\\\\Mine.xlsx'"
   ]
  },
  {
   "cell_type": "code",
   "execution_count": 3,
   "id": "9f8abb49",
   "metadata": {},
   "outputs": [],
   "source": [
    "# Temporary List Variables\n",
    "episodeMark = []\n",
    "linkTitles = []\n",
    "mp4UploadLink = []\n",
    "mp4UploadLinkForDownload = []\n",
    "replace = []\n",
    "# Trick\n",
    "headers = {'User-Agent':'Mozilla/5.0 (Windows NT 10.0; Win64; x64) AppleWebKit/537.36 (KHTML, like Gecko) Chrome/119.0.0.0 Safari/537.36'}"
   ]
  },
  {
   "cell_type": "markdown",
   "id": "3cfe3b63",
   "metadata": {},
   "source": [
    "#### Downloader magic function"
   ]
  },
  {
   "cell_type": "code",
   "execution_count": 4,
   "id": "1bcb801f",
   "metadata": {},
   "outputs": [],
   "source": [
    "from tqdm.notebook import tqdm\n",
    "import requests\n",
    "def download_file_mp4upload(url,n):\n",
    "    if len(str(n))==1:\n",
    "        temp_str = seriesName+' ep 00'+str(n)+'.mp4'        \n",
    "    elif len(str(n))==2:\n",
    "        temp_str = seriesName+' ep 0'+str(n)+'.mp4'\n",
    "    else:\n",
    "        temp_str = seriesName+' ep '+str(n)+'.mp4'\n",
    "    # url = \"http://www.ovh.net/files/10Mb.dat\" #big file test\n",
    "#     url = link\n",
    "    headers = {'User-Agent':'Mozilla/5.0 (Windows NT 10.0; Win64; x64) AppleWebKit/537.36 (KHTML, like Gecko) Chrome/119.0.0.0 Safari/537.36'}\n",
    "    \n",
    "    # Streaming, so we can iterate over the response.\n",
    "    response = requests.get(url,headers = headers, stream=True)\n",
    "    total_size_in_bytes= int(response.headers.get('content-length', 0))\n",
    "    block_size = 1024 #1 Kibibyte\n",
    "    progress_bar = tqdm( desc=temp_str,total=total_size_in_bytes, unit='iB', unit_scale=True)\n",
    "    with open(temp_str, 'wb') as file:\n",
    "        for data in response.iter_content(block_size):\n",
    "#             print(response.status_code)\n",
    "            progress_bar.update(len(data))\n",
    "            file.write(data)\n",
    "    progress_bar.close()\n",
    "    if total_size_in_bytes != 0 and progress_bar.n != total_size_in_bytes:\n",
    "        print(\"ERROR, something went wrong\")\n",
    "        if (os.path.exists(str_path + '\\\\' + temp_str)):\n",
    "            os.remove(str_path + '\\\\' + temp_str)\n",
    "    if(response.status_code == 403):\n",
    "        if (os.path.exists(str_path + '\\\\' + temp_str)):\n",
    "            os.remove(str_path + '\\\\' + temp_str)\n",
    "#         break\n",
    "#     break"
   ]
  },
  {
   "cell_type": "code",
   "execution_count": 5,
   "id": "fc932398",
   "metadata": {},
   "outputs": [],
   "source": [
    "str_path = downloadDIR + '\\\\'+seriesName\n",
    "isFirstRun = os.path.isdir(downloadDIR)\n",
    "isPathExist = os.path.isdir(str_path)\n",
    "check_file = False\n",
    "resumeDownloadThread = False"
   ]
  },
  {
   "cell_type": "code",
   "execution_count": 6,
   "id": "997586af",
   "metadata": {},
   "outputs": [],
   "source": [
    "if (not(isFirstRun)):\n",
    "    os.mkdir(downloadDIR)"
   ]
  },
  {
   "cell_type": "code",
   "execution_count": 7,
   "id": "534ab929",
   "metadata": {},
   "outputs": [],
   "source": [
    "if (isPathExist):\n",
    "    check_file = True\n",
    "else:\n",
    "    os.mkdir(str_path)"
   ]
  },
  {
   "cell_type": "code",
   "execution_count": 8,
   "id": "1cccb718",
   "metadata": {},
   "outputs": [],
   "source": [
    "# prefs = {\"download.default_directory\" : downloadDIR}\n",
    "options = webdriver.ChromeOptions()\n",
    "options.add_argument('--incognito')\n",
    "# options.add_experimental_option(\"prefs\",prefs)\n",
    "driver = webdriver.Chrome(options=options)  \n",
    "urlHead9xB = 'http://9xbud.com/'"
   ]
  },
  {
   "cell_type": "code",
   "execution_count": 9,
   "id": "e359451a",
   "metadata": {},
   "outputs": [],
   "source": [
    "is_link_change = False\n",
    "if (check_file):\n",
    "    df = pd.read_excel(pathToMine,sheet_name=seriesName)\n",
    "    for i in range(df.shape[0]):\n",
    "        episodeMark.append(df['episode name'][i])\n",
    "        linkTitles.append(df['Kissasian Link'][i])\n",
    "        mp4UploadLink.append(df['mp4Upload Link'][i])\n",
    "        mp4UploadLinkForDownload.append(df['9xbud Link'][i])\n",
    "        if(os.path.exists(str_path+'\\\\'+episodeMark[i])):\n",
    "            local_size = os.path.getsize(str_path+'\\\\'+episodeMark[i])\n",
    "            response = requests.get(mp4UploadLinkForDownload[i],headers = headers, stream=True)\n",
    "            print(response.status_code)\n",
    "            if (response.status_code == 403):\n",
    "                mp4UploadLinkForDownload.pop()\n",
    "                is_link_change = True\n",
    "                temp_link = urlHead9xB+mp4UploadLink[i][12:]\n",
    "                driver.get(temp_link)\n",
    "                time.sleep(10)\n",
    "                temp_s = BeautifulSoup(driver.page_source,'lxml')\n",
    "                temp_x_find_a = temp_s.find_all('a', attrs={'class':'max-w-sm mx-auto group block sm:inline-block border border-blue-500 px-6 w-full lg:w-auto lg:px-6 py-2 leading-4 text-blue-500 no-underline hover:border-blue-300 shadow'})\n",
    "                mp4UploadLinkForDownload.append(temp_x_find_a[1].get('href'))    \n",
    "                response = requests.get(mp4UploadLinkForDownload[i],headers = headers, stream=True)\n",
    "            total_size_in_bytes= int(response.headers.get('content-length', 0))\n",
    "            if(not(local_size==total_size_in_bytes)):\n",
    "                resumeDownloadThread = True\n",
    "                replace.append(i)\n",
    "        else:\n",
    "            replace.append(i)\n",
    "            resumeDownloadThread = True    \n",
    "            \n",
    "        \n",
    "        \n",
    "# df.columns"
   ]
  },
  {
   "cell_type": "code",
   "execution_count": 10,
   "id": "ee3186da",
   "metadata": {},
   "outputs": [],
   "source": [
    "driver.close()"
   ]
  },
  {
   "cell_type": "code",
   "execution_count": 11,
   "id": "1ff3e308",
   "metadata": {},
   "outputs": [],
   "source": [
    "# replace.append(4)"
   ]
  },
  {
   "cell_type": "code",
   "execution_count": 12,
   "id": "483690d4",
   "metadata": {},
   "outputs": [],
   "source": [
    "# df"
   ]
  },
  {
   "cell_type": "code",
   "execution_count": 14,
   "id": "56a3ece3",
   "metadata": {},
   "outputs": [],
   "source": [
    "# episodeMark[replace[0]]\n"
   ]
  },
  {
   "cell_type": "code",
   "execution_count": 15,
   "id": "68b13eee",
   "metadata": {},
   "outputs": [],
   "source": [
    "if(is_link_change):\n",
    "    data = {\n",
    "        'episode name' : episodeMark,\n",
    "        'Kissasian Link' : linkTitles,\n",
    "        'mp4Upload Link' : mp4UploadLink,\n",
    "        '9xbud Link' : mp4UploadLinkForDownload\n",
    "    }\n",
    "    df = pd.DataFrame(data)\n",
    "    with pd.ExcelWriter(pathToMine, engine='openpyxl', mode='a',if_sheet_exists='replace') as writer:  \n",
    "            df.to_excel(writer, sheet_name=seriesName)    "
   ]
  },
  {
   "cell_type": "code",
   "execution_count": 16,
   "id": "07cc0f36",
   "metadata": {},
   "outputs": [],
   "source": [
    "episode_number = len(mp4UploadLinkForDownload)"
   ]
  },
  {
   "cell_type": "code",
   "execution_count": 17,
   "id": "baee5018",
   "metadata": {},
   "outputs": [],
   "source": [
    "if(resumeDownloadThread):\n",
    "    episode_number = len(replace)"
   ]
  },
  {
   "cell_type": "code",
   "execution_count": 18,
   "id": "64bdf078",
   "metadata": {},
   "outputs": [],
   "source": [
    "# response = requests.get(mp4UploadLinkForDownload[i],headers = headers, stream=True)\n",
    "# response.status_code == 403\n",
    "# mp4UploadLink[0]\n",
    "# temp_link = urlHead9xB+mp4UploadLink[i][12:]\n",
    "# temp_link\n",
    "# len(replace)\n",
    "# resumeDownloadThread"
   ]
  },
  {
   "cell_type": "code",
   "execution_count": 19,
   "id": "da415f8c",
   "metadata": {},
   "outputs": [],
   "source": [
    "if(not(resumeDownloadThread)):\n",
    "#   Get the episode links:  \n",
    "    page = requests.get(urlSeries)\n",
    "    s = BeautifulSoup(page.text,'lxml')\n",
    "    titles = s.find_all('li', attrs={'class':'episodeSub'})\n",
    "    linkTitles = [title.a.get('href') for title in titles]\n",
    "    linkTitles.reverse()\n",
    "          "
   ]
  },
  {
   "cell_type": "code",
   "execution_count": 20,
   "id": "b1b2f9af",
   "metadata": {},
   "outputs": [],
   "source": [
    "if(not(resumeDownloadThread)):\n",
    "    n = 1\n",
    "    episodeMark = [];\n",
    "    for i in linkTitles:\n",
    "        if len(str(n))==1:\n",
    "            temp_str = seriesName+' ep 00'+str(n)+'.mp4'        \n",
    "        elif len(str(n))==2:\n",
    "            temp_str = seriesName+' ep 0'+str(n)+'.mp4'\n",
    "        else:\n",
    "            temp_str = seriesName+' ep '+str(n)+'.mp4'\n",
    "        episodeMark.append(temp_str)\n",
    "        n = n + 1"
   ]
  },
  {
   "cell_type": "code",
   "execution_count": 21,
   "id": "f3e477a6",
   "metadata": {},
   "outputs": [],
   "source": [
    "if(not(resumeDownloadThread)):\n",
    "    # prefs = {\"download.default_directory\" : downloadDIR}\n",
    "    options = webdriver.ChromeOptions()\n",
    "    options.add_argument('--incognito')\n",
    "    # options.add_experimental_option(\"prefs\",prefs)\n",
    "    driver = webdriver.Chrome(options=options)    "
   ]
  },
  {
   "cell_type": "code",
   "execution_count": null,
   "id": "cd3228c4",
   "metadata": {},
   "outputs": [],
   "source": []
  },
  {
   "cell_type": "code",
   "execution_count": 22,
   "id": "f4d6c2f1",
   "metadata": {},
   "outputs": [],
   "source": [
    "urlDomain = 'https://kissasian.lu'\n",
    "urlMobile = '/Mobile/SwitchToMobile' \n",
    "urlHead9xB = 'http://9xbud.com/'"
   ]
  },
  {
   "cell_type": "code",
   "execution_count": 23,
   "id": "effba1bf",
   "metadata": {},
   "outputs": [],
   "source": [
    "if(not(resumeDownloadThread)):\n",
    "    driver.get(urlDomain+urlMobile)\n",
    "    \n",
    "    for link in linkTitles:\n",
    "        driver.get(urlDomain+link+'&s=mp')\n",
    "        temp_x = driver.page_source\n",
    "        temp_s = BeautifulSoup(temp_x,'lxml')\n",
    "        temp_x_find_a = temp_s.find_all('a')\n",
    "        mp4UploadLink.append(temp_x_find_a[12].get('href'))\n",
    "    "
   ]
  },
  {
   "cell_type": "code",
   "execution_count": 24,
   "id": "92a68dfa",
   "metadata": {},
   "outputs": [],
   "source": [
    "if(not(resumeDownloadThread)):\n",
    "    for link in mp4UploadLink:\n",
    "        temp_link = urlHead9xB+link[12:]\n",
    "        driver.get(temp_link)\n",
    "        time.sleep(10)\n",
    "        temp_s = BeautifulSoup(driver.page_source,'lxml')\n",
    "        temp_x_find_a = temp_s.find_all('a', attrs={'class':'max-w-sm mx-auto group block sm:inline-block border border-blue-500 px-6 w-full lg:w-auto lg:px-6 py-2 leading-4 text-blue-500 no-underline hover:border-blue-300 shadow'})\n",
    "        mp4UploadLinkForDownload.append(temp_x_find_a[1].get('href'))    "
   ]
  },
  {
   "cell_type": "code",
   "execution_count": 28,
   "id": "2674ff37",
   "metadata": {},
   "outputs": [],
   "source": [
    "if(not(resumeDownloadThread)):\n",
    "    driver.close()\n",
    "    data = {\n",
    "        'episode name' : episodeMark,\n",
    "        'Kissasian Link' : linkTitles,\n",
    "        'mp4Upload Link' : mp4UploadLink,\n",
    "        '9xbud Link' : mp4UploadLinkForDownload\n",
    "    }\n",
    "    df = pd.DataFrame(data)"
   ]
  },
  {
   "cell_type": "code",
   "execution_count": 29,
   "id": "8776727e",
   "metadata": {},
   "outputs": [],
   "source": [
    "# # isFirstRun = True\n",
    "# pathToMine = os.getcwd()+'\\\\Mine.xlsx'\n",
    "# resumeDownloadThread = False\n",
    "# seriesName = \"Check1\"\n",
    "# # os.getcwd()\n",
    "# os.getcwd()+'\\\\Mine.xlsx'\n",
    "# pathToMine\n",
    "# os.path.exists(pathToMine)\n",
    "# data = {\n",
    "#         'episode name' : episodeMark,\n",
    "# #         'Kissasian Link' : linkTitles,\n",
    "# #         'mp4Upload Link' : mp4UploadLink,\n",
    "#         '9xbud Link' : mp4UploadLinkForDownload\n",
    "#     }\n",
    "# # data\n",
    "# pathToMine"
   ]
  },
  {
   "cell_type": "code",
   "execution_count": 30,
   "id": "c13b8cd7",
   "metadata": {},
   "outputs": [],
   "source": [
    "if(not(resumeDownloadThread)):\n",
    "    if(not(os.path.exists(pathToMine))):\n",
    "#         book = load_workbook(pathToMine)\n",
    "#         writer = pd.ExcelWriter(pathToMine, engine = 'openpyxl')\n",
    "#         writer.book = book\n",
    "        writer = pd.ExcelWriter(pathToMine, engine = 'xlsxwriter')\n",
    "        df.to_excel(writer, sheet_name = seriesName)\n",
    "        writer.close()        \n",
    "#         print('if')\n",
    "    else:\n",
    "#         print('else')\n",
    "        with pd.ExcelWriter(pathToMine, engine='openpyxl', mode='a',if_sheet_exists='replace') as writer:  \n",
    "            df.to_excel(writer, sheet_name=seriesName)"
   ]
  },
  {
   "cell_type": "code",
   "execution_count": 31,
   "id": "9d5e0958",
   "metadata": {},
   "outputs": [
    {
     "data": {
      "application/vnd.jupyter.widget-view+json": {
       "model_id": "1991d3ed3d08437ba67e496120614a07",
       "version_major": 2,
       "version_minor": 0
      },
      "text/plain": [
       "10 no Himitsu ep 003.mp4:   0%|          | 0.00/492M [00:00<?, ?iB/s]"
      ]
     },
     "metadata": {},
     "output_type": "display_data"
    },
    {
     "data": {
      "application/vnd.jupyter.widget-view+json": {
       "model_id": "87d9f6b7e3524b51bf67072ecc4d3f11",
       "version_major": 2,
       "version_minor": 0
      },
      "text/plain": [
       "10 no Himitsu ep 001.mp4:   0%|          | 0.00/648M [00:00<?, ?iB/s]"
      ]
     },
     "metadata": {},
     "output_type": "display_data"
    },
    {
     "data": {
      "application/vnd.jupyter.widget-view+json": {
       "model_id": "be5b8cc27642455f8473242af1840cdd",
       "version_major": 2,
       "version_minor": 0
      },
      "text/plain": [
       "10 no Himitsu ep 002.mp4:   0%|          | 0.00/459M [00:00<?, ?iB/s]"
      ]
     },
     "metadata": {},
     "output_type": "display_data"
    },
    {
     "ename": "KeyboardInterrupt",
     "evalue": "",
     "output_type": "error",
     "traceback": [
      "\u001b[1;31m---------------------------------------------------------------------------\u001b[0m",
      "\u001b[1;31mKeyboardInterrupt\u001b[0m                         Traceback (most recent call last)",
      "\u001b[1;32m~\\AppData\\Local\\Temp/ipykernel_32056/638749440.py\u001b[0m in \u001b[0;36m<module>\u001b[1;34m\u001b[0m\n\u001b[0;32m     68\u001b[0m \u001b[1;31m#             flagFinish = True\u001b[0m\u001b[1;33m\u001b[0m\u001b[1;33m\u001b[0m\u001b[0m\n\u001b[0;32m     69\u001b[0m     \u001b[1;32melse\u001b[0m\u001b[1;33m:\u001b[0m\u001b[1;33m\u001b[0m\u001b[1;33m\u001b[0m\u001b[0m\n\u001b[1;32m---> 70\u001b[1;33m         \u001b[0mtime\u001b[0m\u001b[1;33m.\u001b[0m\u001b[0msleep\u001b[0m\u001b[1;33m(\u001b[0m\u001b[0msleep_count\u001b[0m\u001b[1;33m)\u001b[0m\u001b[1;33m\u001b[0m\u001b[1;33m\u001b[0m\u001b[0m\n\u001b[0m\u001b[0;32m     71\u001b[0m \u001b[0mtime\u001b[0m\u001b[1;33m.\u001b[0m\u001b[0msleep\u001b[0m\u001b[1;33m(\u001b[0m\u001b[0msleep_count\u001b[0m\u001b[1;33m)\u001b[0m\u001b[1;33m\u001b[0m\u001b[1;33m\u001b[0m\u001b[0m\n\u001b[0;32m     72\u001b[0m \u001b[1;33m\u001b[0m\u001b[0m\n",
      "\u001b[1;31mKeyboardInterrupt\u001b[0m: "
     ]
    }
   ],
   "source": [
    "sleep_count = 5\n",
    "n = 1\n",
    "m = 0\n",
    "z = 0\n",
    "os.chdir(str_path)\n",
    "flagFinish = False\n",
    "thread_one = threading.Thread()\n",
    "thread_two = threading.Thread()\n",
    "thread_three = threading.Thread()\n",
    "# thread_four = threading.Thread()\n",
    "# thread_five = threading.Thread()\n",
    "# print(episode_fold_number)\n",
    "# print(episode_fold_number)\n",
    "\n",
    "while not(flagFinish):\n",
    "    if(not(thread_one.is_alive())):\n",
    "        if(resumeDownloadThread):\n",
    "            m = replace[z]\n",
    "            n = replace[z]+1\n",
    "            z = z + 1\n",
    "            if(z==episode_number):\n",
    "                flagFinish = True\n",
    "        thread_one = threading.Thread(target=download_file_mp4upload,args=(mp4UploadLinkForDownload[m],n))\n",
    "        thread_one.start()\n",
    "        m = m + 1\n",
    "        n = n + 1\n",
    "        if m == episode_number:\n",
    "            flagFinish = True\n",
    "    elif(not(thread_two.is_alive())):\n",
    "        if(resumeDownloadThread):\n",
    "            m = replace[z]\n",
    "            n = replace[z]+1\n",
    "            z = z + 1\n",
    "            if(z==episode_number):\n",
    "                flagFinish = True\n",
    "        thread_two = threading.Thread(target=download_file_mp4upload,args=(mp4UploadLinkForDownload[m],n))\n",
    "        thread_two.start()\n",
    "        m = m + 1\n",
    "        n = n + 1\n",
    "        if m == episode_number:\n",
    "            flagFinish = True\n",
    "    elif(not(thread_three.is_alive())):\n",
    "        if(resumeDownloadThread):\n",
    "            m = replace[z]\n",
    "            n = replace[z]+1\n",
    "            z = z + 1\n",
    "            if(z==episode_number):\n",
    "                flagFinish = True\n",
    "        thread_three = threading.Thread(target=download_file_mp4upload,args=(mp4UploadLinkForDownload[m],n))\n",
    "        thread_three.start()\n",
    "        m = m + 1\n",
    "        n = n + 1\n",
    "        if m == episode_number:\n",
    "            flagFinish = True\n",
    "#     elif(not(thread_four.is_alive())):\n",
    "#         thread_four = threading.Thread(target=download_file_mp4upload,args=(mp4UploadLinkForDownload[m],n))\n",
    "#         thread_four.start()\n",
    "#         m = m + 1\n",
    "#         n = n + 1\n",
    "#         if m == episode_number:\n",
    "#             flagFinish = True\n",
    "#     elif(not(thread_five.is_alive())):\n",
    "#         thread_five = threading.Thread(target=download_file_mp4upload,args=(mp4UploadLinkForDownload[m],n))\n",
    "#         thread_five.start()\n",
    "#         m = m + 1\n",
    "#         n = n + 1\n",
    "#         if m == episode_number:\n",
    "#             flagFinish = True\n",
    "    else:\n",
    "        time.sleep(sleep_count)\n",
    "time.sleep(sleep_count)\n",
    "\n",
    "# print('complete execution')\n",
    "    \n",
    "    \n",
    "# for i in range(episode_remaining_number):\n",
    "#     print(str(n+i))\n",
    "# #     print('hello')\n"
   ]
  },
  {
   "cell_type": "code",
   "execution_count": null,
   "id": "256b0b77",
   "metadata": {},
   "outputs": [],
   "source": [
    "os.chdir('..')"
   ]
  },
  {
   "cell_type": "code",
   "execution_count": null,
   "id": "259ee2ca",
   "metadata": {},
   "outputs": [],
   "source": [
    "# os.getcwd()"
   ]
  },
  {
   "cell_type": "code",
   "execution_count": null,
   "id": "9a1515cb",
   "metadata": {},
   "outputs": [],
   "source": [
    "# dir(os.write)"
   ]
  },
  {
   "cell_type": "code",
   "execution_count": null,
   "id": "59373b5f",
   "metadata": {},
   "outputs": [],
   "source": [
    "# mp4UploadLinkForDownload[4]"
   ]
  },
  {
   "cell_type": "code",
   "execution_count": null,
   "id": "a39ccae0",
   "metadata": {},
   "outputs": [],
   "source": [
    "# mp4UploadLink[4][12:]"
   ]
  },
  {
   "cell_type": "code",
   "execution_count": null,
   "id": "0db9a3c9",
   "metadata": {},
   "outputs": [],
   "source": [
    "# driver.get(urlHead9xB+mp4UploadLink[4][12:])"
   ]
  },
  {
   "cell_type": "code",
   "execution_count": null,
   "id": "43c7026d",
   "metadata": {},
   "outputs": [],
   "source": [
    "# temp_s = BeautifulSoup(driver.page_source,'lxml')\n",
    "# temp_x_find_a = temp_s.find_all('a', attrs={'class':'max-w-sm mx-auto group block sm:inline-block border border-blue-500 px-6 w-full lg:w-auto lg:px-6 py-2 leading-4 text-blue-500 no-underline hover:border-blue-300 shadow'})\n",
    "# # mp4UploadLinkForDownload[i] = (temp_x_find_a[1].get('href'))    \n",
    "# # response = requests.get(mp4UploadLinkForDownload[i],headers = headers, stream=True)\n",
    "# x = (temp_x_find_a[1].get('href'))    \n",
    "# x"
   ]
  },
  {
   "cell_type": "code",
   "execution_count": null,
   "id": "73ade037",
   "metadata": {},
   "outputs": [],
   "source": [
    "# lista = []"
   ]
  },
  {
   "cell_type": "code",
   "execution_count": null,
   "id": "353b655c",
   "metadata": {},
   "outputs": [],
   "source": [
    "# lista.append(\"hello2\")"
   ]
  },
  {
   "cell_type": "code",
   "execution_count": null,
   "id": "1edee32a",
   "metadata": {},
   "outputs": [],
   "source": []
  },
  {
   "cell_type": "code",
   "execution_count": null,
   "id": "185eb6f9",
   "metadata": {},
   "outputs": [],
   "source": [
    "# lista.pop()"
   ]
  },
  {
   "cell_type": "code",
   "execution_count": null,
   "id": "257b87e0",
   "metadata": {},
   "outputs": [],
   "source": [
    "# mp4UploadLinkForDownload[4] "
   ]
  },
  {
   "cell_type": "code",
   "execution_count": null,
   "id": "c471a6be",
   "metadata": {},
   "outputs": [],
   "source": [
    "# mp4UploadLinkForDownload[4] = x\n",
    "# mp4UploadLinkForDownload[4] "
   ]
  },
  {
   "cell_type": "code",
   "execution_count": null,
   "id": "1dcee017",
   "metadata": {},
   "outputs": [],
   "source": []
  }
 ],
 "metadata": {
  "kernelspec": {
   "display_name": "Python 3 (ipykernel)",
   "language": "python",
   "name": "python3"
  },
  "language_info": {
   "codemirror_mode": {
    "name": "ipython",
    "version": 3
   },
   "file_extension": ".py",
   "mimetype": "text/x-python",
   "name": "python",
   "nbconvert_exporter": "python",
   "pygments_lexer": "ipython3",
   "version": "3.9.7"
  }
 },
 "nbformat": 4,
 "nbformat_minor": 5
}
